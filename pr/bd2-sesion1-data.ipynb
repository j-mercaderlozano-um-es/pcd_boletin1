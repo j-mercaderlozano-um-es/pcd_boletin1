{
  "cells": [
    {
      "cell_type": "markdown",
      "metadata": {
        "id": "yULxkMKuIWqZ"
      },
      "source": [
        "# BDII -- Sesión 1 -- Procesado inicial de datos"
      ]
    },
    {
      "cell_type": "markdown",
      "metadata": {
        "id": "NVBsiBj1IWqc"
      },
      "source": [
        "Esta hoja muestra cómo procesar o curar un conjunto de datos para hacerlos más accesibles a la hora de introducirlos en bases de datos. Utilizaremos un conjunto de datos existente en Internet, que se descargará, se procesará y se convertirá en un formato universal como CSV o JSON. En particular se trabajará:\n",
        "\n",
        "- La descarga de los datos.\n",
        "- Inspección, identificación del formato y posible procesado.\n",
        "- Generación de un formato fácilmente digerible por las BBDD, como CSV o JSON."
      ]
    },
    {
      "cell_type": "markdown",
      "metadata": {
        "id": "DvNUhF8qIWqe"
      },
      "source": [
        "Comenzaremos instalando los paquetes necesarios:"
      ]
    },
    {
      "cell_type": "code",
      "execution_count": 1,
      "metadata": {
        "id": "c3CXfty1iRum",
        "outputId": "f977c945-5187-46eb-b303-adf880469646",
        "colab": {
          "base_uri": "https://localhost:8080/"
        }
      },
      "outputs": [
        {
          "output_type": "stream",
          "name": "stdout",
          "text": [
            "W: Skipping acquire of configured file 'main/source/Sources' as repository 'https://r2u.stat.illinois.edu/ubuntu jammy InRelease' does not seem to provide it (sources.list entry misspelt?)\n"
          ]
        }
      ],
      "source": [
        "!sudo apt-get update -qq"
      ]
    },
    {
      "cell_type": "code",
      "execution_count": 2,
      "metadata": {
        "id": "Xcy7h029JBPQ",
        "outputId": "51b026c4-b5f2-4bca-f05f-ed35098c5ca4",
        "colab": {
          "base_uri": "https://localhost:8080/"
        }
      },
      "outputs": [
        {
          "output_type": "stream",
          "name": "stdout",
          "text": [
            "Reading package lists... Done\n",
            "Building dependency tree... Done\n",
            "Reading state information... Done\n",
            "p7zip is already the newest version (16.02+dfsg-8).\n",
            "p7zip set to manually installed.\n",
            "The following NEW packages will be installed:\n",
            "  tree\n",
            "0 upgraded, 1 newly installed, 0 to remove and 35 not upgraded.\n",
            "Need to get 47.9 kB of archives.\n",
            "After this operation, 116 kB of additional disk space will be used.\n",
            "Get:1 http://archive.ubuntu.com/ubuntu jammy/universe amd64 tree amd64 2.0.2-1 [47.9 kB]\n",
            "Fetched 47.9 kB in 0s (331 kB/s)\n",
            "debconf: unable to initialize frontend: Dialog\n",
            "debconf: (No usable dialog-like program is installed, so the dialog based frontend cannot be used. at /usr/share/perl5/Debconf/FrontEnd/Dialog.pm line 78, <> line 1.)\n",
            "debconf: falling back to frontend: Readline\n",
            "debconf: unable to initialize frontend: Readline\n",
            "debconf: (This frontend requires a controlling tty.)\n",
            "debconf: falling back to frontend: Teletype\n",
            "dpkg-preconfigure: unable to re-open stdin: \n",
            "Selecting previously unselected package tree.\n",
            "(Reading database ... 124926 files and directories currently installed.)\n",
            "Preparing to unpack .../tree_2.0.2-1_amd64.deb ...\n",
            "Unpacking tree (2.0.2-1) ...\n",
            "Setting up tree (2.0.2-1) ...\n",
            "Processing triggers for man-db (2.10.2-1) ...\n"
          ]
        }
      ],
      "source": [
        "!sudo apt-get install -y p7zip tree"
      ]
    },
    {
      "cell_type": "markdown",
      "metadata": {
        "id": "xIaSaxvCLdlZ"
      },
      "source": [
        "Importamos algunos paquetes estándar para la hoja"
      ]
    },
    {
      "cell_type": "code",
      "execution_count": 3,
      "metadata": {
        "id": "AEFxXxcECCsj",
        "outputId": "e75fb53b-a692-44e4-93a6-23fae2a36cad",
        "colab": {
          "base_uri": "https://localhost:8080/"
        }
      },
      "outputs": [
        {
          "output_type": "stream",
          "name": "stdout",
          "text": [
            "Requirement already satisfied: pandas in /usr/local/lib/python3.11/dist-packages (2.2.2)\n",
            "Requirement already satisfied: matplotlib in /usr/local/lib/python3.11/dist-packages (3.10.0)\n",
            "Requirement already satisfied: numpy>=1.23.2 in /usr/local/lib/python3.11/dist-packages (from pandas) (1.26.4)\n",
            "Requirement already satisfied: python-dateutil>=2.8.2 in /usr/local/lib/python3.11/dist-packages (from pandas) (2.8.2)\n",
            "Requirement already satisfied: pytz>=2020.1 in /usr/local/lib/python3.11/dist-packages (from pandas) (2025.1)\n",
            "Requirement already satisfied: tzdata>=2022.7 in /usr/local/lib/python3.11/dist-packages (from pandas) (2025.1)\n",
            "Requirement already satisfied: contourpy>=1.0.1 in /usr/local/lib/python3.11/dist-packages (from matplotlib) (1.3.1)\n",
            "Requirement already satisfied: cycler>=0.10 in /usr/local/lib/python3.11/dist-packages (from matplotlib) (0.12.1)\n",
            "Requirement already satisfied: fonttools>=4.22.0 in /usr/local/lib/python3.11/dist-packages (from matplotlib) (4.56.0)\n",
            "Requirement already satisfied: kiwisolver>=1.3.1 in /usr/local/lib/python3.11/dist-packages (from matplotlib) (1.4.8)\n",
            "Requirement already satisfied: packaging>=20.0 in /usr/local/lib/python3.11/dist-packages (from matplotlib) (24.2)\n",
            "Requirement already satisfied: pillow>=8 in /usr/local/lib/python3.11/dist-packages (from matplotlib) (11.1.0)\n",
            "Requirement already satisfied: pyparsing>=2.3.1 in /usr/local/lib/python3.11/dist-packages (from matplotlib) (3.2.1)\n",
            "Requirement already satisfied: six>=1.5 in /usr/local/lib/python3.11/dist-packages (from python-dateutil>=2.8.2->pandas) (1.17.0)\n"
          ]
        }
      ],
      "source": [
        "%pip install pandas matplotlib"
      ]
    },
    {
      "cell_type": "code",
      "execution_count": 4,
      "metadata": {
        "id": "F3UMoNLIIWq1"
      },
      "outputs": [],
      "source": [
        "import pandas as pd\n",
        "import matplotlib.pyplot as plt\n",
        "import matplotlib\n",
        "\n",
        "%matplotlib inline\n",
        "matplotlib.style.use('ggplot')"
      ]
    },
    {
      "cell_type": "code",
      "execution_count": 5,
      "metadata": {
        "id": "rsST-J-3jCTA"
      },
      "outputs": [],
      "source": [
        "RunningInCOLAB = 'google.colab' in str(get_ipython()) if hasattr(__builtins__,'__IPYTHON__') else False"
      ]
    },
    {
      "cell_type": "markdown",
      "metadata": {
        "id": "avrO25-tLdle"
      },
      "source": [
        "## Datos de Stackoverflow\n",
        "\n",
        "El conjunto de datos de Stackoverflow es un *dump* de datos que cada cierto tiempo realiza el sitio web stackoverflow.com, en particular, la version en español, http://es.stackoverflow.com. El formato de los datos es XML, aunque es muy sencillo de extraer los datos, como veremos a continuación.\n",
        "\n",
        "El contenido original se puede descargar directamente de los diferentes _dumps_ que se realizan de la página de archive.org: https://archive.org/details/stackexchange.\n",
        "\n",
        "Sin embargo, nosotros descargaremos una versión fija previamente descargada para que todos partamos de los mismos datos."
      ]
    },
    {
      "cell_type": "markdown",
      "metadata": {
        "id": "AmXZUR4ELdli"
      },
      "source": [
        "## Descarga de los datos"
      ]
    },
    {
      "cell_type": "markdown",
      "metadata": {
        "id": "RpKnz-A3Ldlj"
      },
      "source": [
        "En este caso los datos están disponibles en un repositorio git. Se pueden descargar también de la Web, pero se van actualizando. Los descargamos del repositorio git para que todos tengáis los mismos."
      ]
    },
    {
      "cell_type": "code",
      "execution_count": 6,
      "metadata": {
        "id": "3slriwSDRamJ",
        "outputId": "3cc2fd53-3d4c-49d7-fb0c-4bf8d5a76079",
        "colab": {
          "base_uri": "https://localhost:8080/"
        }
      },
      "outputs": [
        {
          "output_type": "stream",
          "name": "stdout",
          "text": [
            "--2025-02-24 17:01:12--  https://github.com/dsevilla/bd2-data/raw/main/es.stackoverflow/es.stackoverflow.7z.001\n",
            "Resolving github.com (github.com)... 140.82.112.4\n",
            "Connecting to github.com (github.com)|140.82.112.4|:443... connected.\n",
            "HTTP request sent, awaiting response... 302 Found\n",
            "Location: https://raw.githubusercontent.com/dsevilla/bd2-data/main/es.stackoverflow/es.stackoverflow.7z.001 [following]\n",
            "--2025-02-24 17:01:12--  https://raw.githubusercontent.com/dsevilla/bd2-data/main/es.stackoverflow/es.stackoverflow.7z.001\n",
            "Resolving raw.githubusercontent.com (raw.githubusercontent.com)... 185.199.108.133, 185.199.109.133, 185.199.110.133, ...\n",
            "Connecting to raw.githubusercontent.com (raw.githubusercontent.com)|185.199.108.133|:443... connected.\n",
            "HTTP request sent, awaiting response... 200 OK\n",
            "Length: 103809024 (99M) [application/octet-stream]\n",
            "Saving to: ‘es.stackoverflow.7z.001’\n",
            "\n",
            "es.stackoverflow.7z 100%[===================>]  99.00M   156MB/s    in 0.6s    \n",
            "\n",
            "2025-02-24 17:01:16 (156 MB/s) - ‘es.stackoverflow.7z.001’ saved [103809024/103809024]\n",
            "\n",
            "--2025-02-24 17:01:16--  https://github.com/dsevilla/bd2-data/raw/main/es.stackoverflow/es.stackoverflow.7z.002\n",
            "Resolving github.com (github.com)... 140.82.112.3\n",
            "Connecting to github.com (github.com)|140.82.112.3|:443... connected.\n",
            "HTTP request sent, awaiting response... 302 Found\n",
            "Location: https://raw.githubusercontent.com/dsevilla/bd2-data/main/es.stackoverflow/es.stackoverflow.7z.002 [following]\n",
            "--2025-02-24 17:01:16--  https://raw.githubusercontent.com/dsevilla/bd2-data/main/es.stackoverflow/es.stackoverflow.7z.002\n",
            "Resolving raw.githubusercontent.com (raw.githubusercontent.com)... 185.199.108.133, 185.199.109.133, 185.199.110.133, ...\n",
            "Connecting to raw.githubusercontent.com (raw.githubusercontent.com)|185.199.108.133|:443... connected.\n",
            "HTTP request sent, awaiting response... 200 OK\n",
            "Length: 103809024 (99M) [application/octet-stream]\n",
            "Saving to: ‘es.stackoverflow.7z.002’\n",
            "\n",
            "es.stackoverflow.7z 100%[===================>]  99.00M   109MB/s    in 0.9s    \n",
            "\n",
            "2025-02-24 17:01:18 (109 MB/s) - ‘es.stackoverflow.7z.002’ saved [103809024/103809024]\n",
            "\n",
            "--2025-02-24 17:01:18--  https://github.com/dsevilla/bd2-data/raw/main/es.stackoverflow/es.stackoverflow.7z.003\n",
            "Resolving github.com (github.com)... 140.82.113.3\n",
            "Connecting to github.com (github.com)|140.82.113.3|:443... connected.\n",
            "HTTP request sent, awaiting response... 302 Found\n",
            "Location: https://raw.githubusercontent.com/dsevilla/bd2-data/main/es.stackoverflow/es.stackoverflow.7z.003 [following]\n",
            "--2025-02-24 17:01:19--  https://raw.githubusercontent.com/dsevilla/bd2-data/main/es.stackoverflow/es.stackoverflow.7z.003\n",
            "Resolving raw.githubusercontent.com (raw.githubusercontent.com)... 185.199.108.133, 185.199.109.133, 185.199.110.133, ...\n",
            "Connecting to raw.githubusercontent.com (raw.githubusercontent.com)|185.199.108.133|:443... connected.\n",
            "HTTP request sent, awaiting response... 200 OK\n",
            "Length: 10263728 (9.8M) [application/octet-stream]\n",
            "Saving to: ‘es.stackoverflow.7z.003’\n",
            "\n",
            "es.stackoverflow.7z 100%[===================>]   9.79M  --.-KB/s    in 0.1s    \n",
            "\n",
            "2025-02-24 17:01:19 (86.8 MB/s) - ‘es.stackoverflow.7z.003’ saved [10263728/10263728]\n",
            "\n"
          ]
        }
      ],
      "source": [
        "!wget https://github.com/dsevilla/bd2-data/raw/main/es.stackoverflow/es.stackoverflow.7z.001\n",
        "!wget https://github.com/dsevilla/bd2-data/raw/main/es.stackoverflow/es.stackoverflow.7z.002\n",
        "!wget https://github.com/dsevilla/bd2-data/raw/main/es.stackoverflow/es.stackoverflow.7z.003"
      ]
    },
    {
      "cell_type": "code",
      "execution_count": 7,
      "metadata": {
        "id": "-B_iv7gOLdlm",
        "scrolled": true,
        "outputId": "ed7d8a1e-03be-4011-aeaa-a00a0db66e07",
        "colab": {
          "base_uri": "https://localhost:8080/"
        }
      },
      "outputs": [
        {
          "output_type": "stream",
          "name": "stdout",
          "text": [
            "-rw-r--r-- 1 root root  99M Feb 24 17:01 es.stackoverflow.7z.001\n",
            "-rw-r--r-- 1 root root  99M Feb 24 17:01 es.stackoverflow.7z.002\n",
            "-rw-r--r-- 1 root root 9.8M Feb 24 17:01 es.stackoverflow.7z.003\n"
          ]
        }
      ],
      "source": [
        "!ls -lh es.stackoverflow.7z*"
      ]
    },
    {
      "cell_type": "code",
      "execution_count": 8,
      "metadata": {
        "id": "k4aRLjuTLdl4",
        "outputId": "0a54f320-3856-4234-d1c0-ad134fde5674",
        "colab": {
          "base_uri": "https://localhost:8080/"
        }
      },
      "outputs": [
        {
          "output_type": "stream",
          "name": "stdout",
          "text": [
            "\n",
            "7-Zip (a) [64] 16.02 : Copyright (c) 1999-2016 Igor Pavlov : 2016-05-21\n",
            "p7zip Version 16.02 (locale=en_US.UTF-8,Utf16=on,HugeFiles=on,64 bits,2 CPUs Intel(R) Xeon(R) CPU @ 2.20GHz (406F0),ASM,AES-NI)\n",
            "\n",
            "Scanning the drive for archives:\n",
            "  0M Scan\b\b\b\b\b\b\b\b\b         \b\b\b\b\b\b\b\b\b1 file, 103809024 bytes (99 MiB)\n",
            "\n",
            "Extracting archive: es.stackoverflow.7z.001\n",
            "  0% 1 Open\b\b\b\b\b\b\b\b\b\b\b           \b\b\b\b\b\b\b\b\b\b\b--\n",
            "Path = es.stackoverflow.7z.001\n",
            "Type = Split\n",
            "Physical Size = 103809024\n",
            "Volumes = 3\n",
            "Total Physical Size = 217881776\n",
            "----\n",
            "Path = es.stackoverflow.7z\n",
            "Size = 217881776\n",
            "--\n",
            "Path = es.stackoverflow.7z\n",
            "Type = 7z\n",
            "Physical Size = 217881776\n",
            "Headers Size = 244\n",
            "Method = LZMA2:24\n",
            "Solid = +\n",
            "Blocks = 1\n",
            "\n",
            "  0%\b\b\b\b    \b\b\b\b  0% - Comments.xml\b\b\b\b\b\b\b\b\b\b\b\b\b\b\b\b\b\b\b                   \b\b\b\b\b\b\b\b\b\b\b\b\b\b\b\b\b\b\b  1% - Comments.xml\b\b\b\b\b\b\b\b\b\b\b\b\b\b\b\b\b\b\b                   \b\b\b\b\b\b\b\b\b\b\b\b\b\b\b\b\b\b\b  2% - Comments.xml\b\b\b\b\b\b\b\b\b\b\b\b\b\b\b\b\b\b\b                   \b\b\b\b\b\b\b\b\b\b\b\b\b\b\b\b\b\b\b  3% - Comments.xml\b\b\b\b\b\b\b\b\b\b\b\b\b\b\b\b\b\b\b                   \b\b\b\b\b\b\b\b\b\b\b\b\b\b\b\b\b\b\b  4% - Comments.xml\b\b\b\b\b\b\b\b\b\b\b\b\b\b\b\b\b\b\b                   \b\b\b\b\b\b\b\b\b\b\b\b\b\b\b\b\b\b\b  5% - Comments.xml\b\b\b\b\b\b\b\b\b\b\b\b\b\b\b\b\b\b\b                   \b\b\b\b\b\b\b\b\b\b\b\b\b\b\b\b\b\b\b  6% - Comments.xml\b\b\b\b\b\b\b\b\b\b\b\b\b\b\b\b\b\b\b                   \b\b\b\b\b\b\b\b\b\b\b\b\b\b\b\b\b\b\b  7% - Comments.xml\b\b\b\b\b\b\b\b\b\b\b\b\b\b\b\b\b\b\b                   \b\b\b\b\b\b\b\b\b\b\b\b\b\b\b\b\b\b\b  8% - Comments.xml\b\b\b\b\b\b\b\b\b\b\b\b\b\b\b\b\b\b\b                   \b\b\b\b\b\b\b\b\b\b\b\b\b\b\b\b\b\b\b  9% - Comments.xml\b\b\b\b\b\b\b\b\b\b\b\b\b\b\b\b\b\b\b                   \b\b\b\b\b\b\b\b\b\b\b\b\b\b\b\b\b\b\b 10% - Comments.xml\b\b\b\b\b\b\b\b\b\b\b\b\b\b\b\b\b\b\b                   \b\b\b\b\b\b\b\b\b\b\b\b\b\b\b\b\b\b\b 11% - Comments.xml\b\b\b\b\b\b\b\b\b\b\b\b\b\b\b\b\b\b\b                   \b\b\b\b\b\b\b\b\b\b\b\b\b\b\b\b\b\b\b 12% - Comments.xml\b\b\b\b\b\b\b\b\b\b\b\b\b\b\b\b\b\b\b                   \b\b\b\b\b\b\b\b\b\b\b\b\b\b\b\b\b\b\b 13% - Comments.xml\b\b\b\b\b\b\b\b\b\b\b\b\b\b\b\b\b\b\b                   \b\b\b\b\b\b\b\b\b\b\b\b\b\b\b\b\b\b\b 14% - Comments.xml\b\b\b\b\b\b\b\b\b\b\b\b\b\b\b\b\b\b\b                   \b\b\b\b\b\b\b\b\b\b\b\b\b\b\b\b\b\b\b 15% - Comments.xml\b\b\b\b\b\b\b\b\b\b\b\b\b\b\b\b\b\b\b                   \b\b\b\b\b\b\b\b\b\b\b\b\b\b\b\b\b\b\b 15% 1 - Posts.xml\b\b\b\b\b\b\b\b\b\b\b\b\b\b\b\b\b\b                  \b\b\b\b\b\b\b\b\b\b\b\b\b\b\b\b\b\b 16% 1 - Posts.xml\b\b\b\b\b\b\b\b\b\b\b\b\b\b\b\b\b\b                  \b\b\b\b\b\b\b\b\b\b\b\b\b\b\b\b\b\b 17% 1 - Posts.xml\b\b\b\b\b\b\b\b\b\b\b\b\b\b\b\b\b\b                  \b\b\b\b\b\b\b\b\b\b\b\b\b\b\b\b\b\b 18% 1 - Posts.xml\b\b\b\b\b\b\b\b\b\b\b\b\b\b\b\b\b\b                  \b\b\b\b\b\b\b\b\b\b\b\b\b\b\b\b\b\b 19% 1 - Posts.xml\b\b\b\b\b\b\b\b\b\b\b\b\b\b\b\b\b\b                  \b\b\b\b\b\b\b\b\b\b\b\b\b\b\b\b\b\b 20% 1 - Posts.xml\b\b\b\b\b\b\b\b\b\b\b\b\b\b\b\b\b\b                  \b\b\b\b\b\b\b\b\b\b\b\b\b\b\b\b\b\b 21% 1 - Posts.xml\b\b\b\b\b\b\b\b\b\b\b\b\b\b\b\b\b\b                  \b\b\b\b\b\b\b\b\b\b\b\b\b\b\b\b\b\b 22% 1 - Posts.xml\b\b\b\b\b\b\b\b\b\b\b\b\b\b\b\b\b\b                  \b\b\b\b\b\b\b\b\b\b\b\b\b\b\b\b\b\b 23% 1 - Posts.xml\b\b\b\b\b\b\b\b\b\b\b\b\b\b\b\b\b\b                  \b\b\b\b\b\b\b\b\b\b\b\b\b\b\b\b\b\b 24% 1 - Posts.xml\b\b\b\b\b\b\b\b\b\b\b\b\b\b\b\b\b\b                  \b\b\b\b\b\b\b\b\b\b\b\b\b\b\b\b\b\b 25% 1 - Posts.xml\b\b\b\b\b\b\b\b\b\b\b\b\b\b\b\b\b\b                  \b\b\b\b\b\b\b\b\b\b\b\b\b\b\b\b\b\b 26% 1 - Posts.xml\b\b\b\b\b\b\b\b\b\b\b\b\b\b\b\b\b\b                  \b\b\b\b\b\b\b\b\b\b\b\b\b\b\b\b\b\b 27% 1 - Posts.xml\b\b\b\b\b\b\b\b\b\b\b\b\b\b\b\b\b\b                  \b\b\b\b\b\b\b\b\b\b\b\b\b\b\b\b\b\b 29% 1 - Posts.xml\b\b\b\b\b\b\b\b\b\b\b\b\b\b\b\b\b\b                  \b\b\b\b\b\b\b\b\b\b\b\b\b\b\b\b\b\b 30% 1 - Posts.xml\b\b\b\b\b\b\b\b\b\b\b\b\b\b\b\b\b\b                  \b\b\b\b\b\b\b\b\b\b\b\b\b\b\b\b\b\b 31% 1 - Posts.xml\b\b\b\b\b\b\b\b\b\b\b\b\b\b\b\b\b\b                  \b\b\b\b\b\b\b\b\b\b\b\b\b\b\b\b\b\b 32% 1 - Posts.xml\b\b\b\b\b\b\b\b\b\b\b\b\b\b\b\b\b\b                  \b\b\b\b\b\b\b\b\b\b\b\b\b\b\b\b\b\b 33% 1 - Posts.xml\b\b\b\b\b\b\b\b\b\b\b\b\b\b\b\b\b\b                  \b\b\b\b\b\b\b\b\b\b\b\b\b\b\b\b\b\b 34% 1 - Posts.xml\b\b\b\b\b\b\b\b\b\b\b\b\b\b\b\b\b\b                  \b\b\b\b\b\b\b\b\b\b\b\b\b\b\b\b\b\b 35% 1 - Posts.xml\b\b\b\b\b\b\b\b\b\b\b\b\b\b\b\b\b\b                  \b\b\b\b\b\b\b\b\b\b\b\b\b\b\b\b\b\b 36% 1 - Posts.xml\b\b\b\b\b\b\b\b\b\b\b\b\b\b\b\b\b\b                  \b\b\b\b\b\b\b\b\b\b\b\b\b\b\b\b\b\b 38% 1 - Posts.xml\b\b\b\b\b\b\b\b\b\b\b\b\b\b\b\b\b\b                  \b\b\b\b\b\b\b\b\b\b\b\b\b\b\b\b\b\b 39% 1 - Posts.xml\b\b\b\b\b\b\b\b\b\b\b\b\b\b\b\b\b\b                  \b\b\b\b\b\b\b\b\b\b\b\b\b\b\b\b\b\b 40% 1 - Posts.xml\b\b\b\b\b\b\b\b\b\b\b\b\b\b\b\b\b\b                  \b\b\b\b\b\b\b\b\b\b\b\b\b\b\b\b\b\b 41% 1 - Posts.xml\b\b\b\b\b\b\b\b\b\b\b\b\b\b\b\b\b\b                  \b\b\b\b\b\b\b\b\b\b\b\b\b\b\b\b\b\b 42% 1 - Posts.xml\b\b\b\b\b\b\b\b\b\b\b\b\b\b\b\b\b\b                  \b\b\b\b\b\b\b\b\b\b\b\b\b\b\b\b\b\b 43% 1 - Posts.xml\b\b\b\b\b\b\b\b\b\b\b\b\b\b\b\b\b\b                  \b\b\b\b\b\b\b\b\b\b\b\b\b\b\b\b\b\b 45% 1 - Posts.xml\b\b\b\b\b\b\b\b\b\b\b\b\b\b\b\b\b\b                  \b\b\b\b\b\b\b\b\b\b\b\b\b\b\b\b\b\b 46% 1 - Posts.xml\b\b\b\b\b\b\b\b\b\b\b\b\b\b\b\b\b\b                  \b\b\b\b\b\b\b\b\b\b\b\b\b\b\b\b\b\b 47% 1 - Posts.xml\b\b\b\b\b\b\b\b\b\b\b\b\b\b\b\b\b\b                  \b\b\b\b\b\b\b\b\b\b\b\b\b\b\b\b\b\b 48% 1 - Posts.xml\b\b\b\b\b\b\b\b\b\b\b\b\b\b\b\b\b\b                  \b\b\b\b\b\b\b\b\b\b\b\b\b\b\b\b\b\b 49% 1 - Posts.xml\b\b\b\b\b\b\b\b\b\b\b\b\b\b\b\b\b\b                  \b\b\b\b\b\b\b\b\b\b\b\b\b\b\b\b\b\b 50% 1 - Posts.xml\b\b\b\b\b\b\b\b\b\b\b\b\b\b\b\b\b\b                  \b\b\b\b\b\b\b\b\b\b\b\b\b\b\b\b\b\b 51% 1 - Posts.xml\b\b\b\b\b\b\b\b\b\b\b\b\b\b\b\b\b\b                  \b\b\b\b\b\b\b\b\b\b\b\b\b\b\b\b\b\b 52% 1 - Posts.xml\b\b\b\b\b\b\b\b\b\b\b\b\b\b\b\b\b\b                  \b\b\b\b\b\b\b\b\b\b\b\b\b\b\b\b\b\b 54% 1 - Posts.xml\b\b\b\b\b\b\b\b\b\b\b\b\b\b\b\b\b\b                  \b\b\b\b\b\b\b\b\b\b\b\b\b\b\b\b\b\b 55% 1 - Posts.xml\b\b\b\b\b\b\b\b\b\b\b\b\b\b\b\b\b\b                  \b\b\b\b\b\b\b\b\b\b\b\b\b\b\b\b\b\b 56% 1 - Posts.xml\b\b\b\b\b\b\b\b\b\b\b\b\b\b\b\b\b\b                  \b\b\b\b\b\b\b\b\b\b\b\b\b\b\b\b\b\b 57% 1 - Posts.xml\b\b\b\b\b\b\b\b\b\b\b\b\b\b\b\b\b\b                  \b\b\b\b\b\b\b\b\b\b\b\b\b\b\b\b\b\b 58% 1 - Posts.xml\b\b\b\b\b\b\b\b\b\b\b\b\b\b\b\b\b\b                  \b\b\b\b\b\b\b\b\b\b\b\b\b\b\b\b\b\b 59% 1 - Posts.xml\b\b\b\b\b\b\b\b\b\b\b\b\b\b\b\b\b\b                  \b\b\b\b\b\b\b\b\b\b\b\b\b\b\b\b\b\b 60% 1 - Posts.xml\b\b\b\b\b\b\b\b\b\b\b\b\b\b\b\b\b\b                  \b\b\b\b\b\b\b\b\b\b\b\b\b\b\b\b\b\b 61% 1 - Posts.xml\b\b\b\b\b\b\b\b\b\b\b\b\b\b\b\b\b\b                  \b\b\b\b\b\b\b\b\b\b\b\b\b\b\b\b\b\b 62% 1 - Posts.xml\b\b\b\b\b\b\b\b\b\b\b\b\b\b\b\b\b\b                  \b\b\b\b\b\b\b\b\b\b\b\b\b\b\b\b\b\b 64% 1 - Posts.xml\b\b\b\b\b\b\b\b\b\b\b\b\b\b\b\b\b\b                  \b\b\b\b\b\b\b\b\b\b\b\b\b\b\b\b\b\b 65% 1 - Posts.xml\b\b\b\b\b\b\b\b\b\b\b\b\b\b\b\b\b\b                  \b\b\b\b\b\b\b\b\b\b\b\b\b\b\b\b\b\b 66% 1 - Posts.xml\b\b\b\b\b\b\b\b\b\b\b\b\b\b\b\b\b\b                  \b\b\b\b\b\b\b\b\b\b\b\b\b\b\b\b\b\b 67% 1 - Posts.xml\b\b\b\b\b\b\b\b\b\b\b\b\b\b\b\b\b\b                  \b\b\b\b\b\b\b\b\b\b\b\b\b\b\b\b\b\b 68% 1 - Posts.xml\b\b\b\b\b\b\b\b\b\b\b\b\b\b\b\b\b\b                  \b\b\b\b\b\b\b\b\b\b\b\b\b\b\b\b\b\b 69% 1 - Posts.xml\b\b\b\b\b\b\b\b\b\b\b\b\b\b\b\b\b\b                  \b\b\b\b\b\b\b\b\b\b\b\b\b\b\b\b\b\b 70% 1 - Posts.xml\b\b\b\b\b\b\b\b\b\b\b\b\b\b\b\b\b\b                  \b\b\b\b\b\b\b\b\b\b\b\b\b\b\b\b\b\b 71% 1 - Posts.xml\b\b\b\b\b\b\b\b\b\b\b\b\b\b\b\b\b\b                  \b\b\b\b\b\b\b\b\b\b\b\b\b\b\b\b\b\b 72% 1 - Posts.xml\b\b\b\b\b\b\b\b\b\b\b\b\b\b\b\b\b\b                  \b\b\b\b\b\b\b\b\b\b\b\b\b\b\b\b\b\b 73% 1 - Posts.xml\b\b\b\b\b\b\b\b\b\b\b\b\b\b\b\b\b\b                  \b\b\b\b\b\b\b\b\b\b\b\b\b\b\b\b\b\b 74% 1 - Posts.xml\b\b\b\b\b\b\b\b\b\b\b\b\b\b\b\b\b\b                  \b\b\b\b\b\b\b\b\b\b\b\b\b\b\b\b\b\b 75% 1 - Posts.xml\b\b\b\b\b\b\b\b\b\b\b\b\b\b\b\b\b\b                  \b\b\b\b\b\b\b\b\b\b\b\b\b\b\b\b\b\b 76% 1 - Posts.xml\b\b\b\b\b\b\b\b\b\b\b\b\b\b\b\b\b\b                  \b\b\b\b\b\b\b\b\b\b\b\b\b\b\b\b\b\b 77% 1 - Posts.xml\b\b\b\b\b\b\b\b\b\b\b\b\b\b\b\b\b\b                  \b\b\b\b\b\b\b\b\b\b\b\b\b\b\b\b\b\b 78% 1 - Posts.xml\b\b\b\b\b\b\b\b\b\b\b\b\b\b\b\b\b\b                  \b\b\b\b\b\b\b\b\b\b\b\b\b\b\b\b\b\b 79% 1 - Posts.xml\b\b\b\b\b\b\b\b\b\b\b\b\b\b\b\b\b\b                  \b\b\b\b\b\b\b\b\b\b\b\b\b\b\b\b\b\b 80% 1 - Posts.xml\b\b\b\b\b\b\b\b\b\b\b\b\b\b\b\b\b\b                  \b\b\b\b\b\b\b\b\b\b\b\b\b\b\b\b\b\b 81% 1 - Posts.xml\b\b\b\b\b\b\b\b\b\b\b\b\b\b\b\b\b\b                  \b\b\b\b\b\b\b\b\b\b\b\b\b\b\b\b\b\b 82% 1 - Posts.xml\b\b\b\b\b\b\b\b\b\b\b\b\b\b\b\b\b\b                  \b\b\b\b\b\b\b\b\b\b\b\b\b\b\b\b\b\b 83% 1 - Posts.xml\b\b\b\b\b\b\b\b\b\b\b\b\b\b\b\b\b\b                  \b\b\b\b\b\b\b\b\b\b\b\b\b\b\b\b\b\b 84% 1 - Posts.xml\b\b\b\b\b\b\b\b\b\b\b\b\b\b\b\b\b\b                  \b\b\b\b\b\b\b\b\b\b\b\b\b\b\b\b\b\b 85% 1 - Posts.xml\b\b\b\b\b\b\b\b\b\b\b\b\b\b\b\b\b\b                  \b\b\b\b\b\b\b\b\b\b\b\b\b\b\b\b\b\b 86% 1 - Posts.xml\b\b\b\b\b\b\b\b\b\b\b\b\b\b\b\b\b\b                  \b\b\b\b\b\b\b\b\b\b\b\b\b\b\b\b\b\b 87% 1 - Posts.xml\b\b\b\b\b\b\b\b\b\b\b\b\b\b\b\b\b\b                  \b\b\b\b\b\b\b\b\b\b\b\b\b\b\b\b\b\b 88% 1 - Posts.xml\b\b\b\b\b\b\b\b\b\b\b\b\b\b\b\b\b\b                  \b\b\b\b\b\b\b\b\b\b\b\b\b\b\b\b\b\b 88% 2 - Tags.xml\b\b\b\b\b\b\b\b\b\b\b\b\b\b\b\b\b                 \b\b\b\b\b\b\b\b\b\b\b\b\b\b\b\b\b 90% 3 - Users.xml\b\b\b\b\b\b\b\b\b\b\b\b\b\b\b\b\b\b                  \b\b\b\b\b\b\b\b\b\b\b\b\b\b\b\b\b\b 91% 3 - Users.xml\b\b\b\b\b\b\b\b\b\b\b\b\b\b\b\b\b\b                  \b\b\b\b\b\b\b\b\b\b\b\b\b\b\b\b\b\b 92% 3 - Users.xml\b\b\b\b\b\b\b\b\b\b\b\b\b\b\b\b\b\b                  \b\b\b\b\b\b\b\b\b\b\b\b\b\b\b\b\b\b 93% 3 - Users.xml\b\b\b\b\b\b\b\b\b\b\b\b\b\b\b\b\b\b                  \b\b\b\b\b\b\b\b\b\b\b\b\b\b\b\b\b\b 94% 3 - Users.xml\b\b\b\b\b\b\b\b\b\b\b\b\b\b\b\b\b\b                  \b\b\b\b\b\b\b\b\b\b\b\b\b\b\b\b\b\b 95% 4 - Votes.xml\b\b\b\b\b\b\b\b\b\b\b\b\b\b\b\b\b\b                  \b\b\b\b\b\b\b\b\b\b\b\b\b\b\b\b\b\b 97% 4 - Votes.xml\b\b\b\b\b\b\b\b\b\b\b\b\b\b\b\b\b\b                  \b\b\b\b\b\b\b\b\b\b\b\b\b\b\b\b\b\b 99% 4 - Votes.xml\b\b\b\b\b\b\b\b\b\b\b\b\b\b\b\b\b\b                  \b\b\b\b\b\b\b\b\b\b\b\b\b\b\b\b\b\bEverything is Ok\n",
            "\n",
            "Files: 5\n",
            "Size:       1395336930\n",
            "Compressed: 217881776\n"
          ]
        }
      ],
      "source": [
        "!7zr x es.stackoverflow.7z.001"
      ]
    },
    {
      "cell_type": "code",
      "execution_count": 9,
      "metadata": {
        "id": "nOUYfUvQLdl5",
        "outputId": "1ffbabf4-9392-46c8-d5ec-969efce1e336",
        "colab": {
          "base_uri": "https://localhost:8080/"
        }
      },
      "outputs": [
        {
          "output_type": "stream",
          "name": "stdout",
          "text": [
            "-rw-r--r-- 1 root root 206M Dec  4  2023 Comments.xml\n",
            "-rw-r--r-- 1 root root 983M Dec  4  2023 Posts.xml\n",
            "-rw-r--r-- 1 root root 223K Dec  4  2023 Tags.xml\n",
            "-rw-r--r-- 1 root root  73M Dec  4  2023 Users.xml\n",
            "-rw-r--r-- 1 root root  70M Dec  4  2023 Votes.xml\n"
          ]
        }
      ],
      "source": [
        "!ls -lh *.xml"
      ]
    },
    {
      "cell_type": "markdown",
      "metadata": {
        "id": "DT_AMyRxPzs5"
      },
      "source": [
        "## Inspección y procesado"
      ]
    },
    {
      "cell_type": "markdown",
      "metadata": {
        "id": "WCWdECvlQoG4"
      },
      "source": [
        "Podemos inspeccionar los ficheros `.xml` para ver su contenido. Son XML, sí, pero ¿con qué formato?"
      ]
    },
    {
      "cell_type": "code",
      "execution_count": 10,
      "metadata": {
        "id": "YTb3J-jtQwMD",
        "outputId": "2adabf62-1037-4180-f435-f48a894a41e3",
        "colab": {
          "base_uri": "https://localhost:8080/"
        }
      },
      "outputs": [
        {
          "output_type": "stream",
          "name": "stdout",
          "text": [
            "﻿<?xml version=\"1.0\" encoding=\"utf-8\"?>\r\n",
            "<posts>\r\n",
            "  <row Id=\"1\" PostTypeId=\"1\" AcceptedAnswerId=\"2\" CreationDate=\"2015-10-29T15:56:52.933\" Score=\"40\" ViewCount=\"780\" Body=\"&lt;p&gt;Estoy creando un servicio usando &lt;em&gt;ASP.NET WebApi&lt;/em&gt;. Quiero añadir soporte para la negociación del tipo de contenido basado en extensiones en el &lt;em&gt;URI&lt;/em&gt;, así que he añadido lo siguiente al código de inicialización del servicio:&lt;/p&gt;&#xA;&#xA;&lt;pre&gt;&lt;code&gt;public static class WebApiConfig&#xA;{&#xA;  public static void Register(HttpConfiguration config)&#xA;  {&#xA;    config.Formatters.JsonFormatter.AddUriPathExtensionMapping(&quot;json&quot;, &quot;application/json&quot;);&#xA;    config.Formatters.XmlFormatter.AddUriPathExtensionMapping(&quot;xml&quot;, &quot;application/xml&quot;);&#xA;  }&#xA;}&#xA;&lt;/code&gt;&lt;/pre&gt;&#xA;&#xA;&lt;p&gt;Para que esto funcione necesito crear dos rutas para cada acción del controlador (estoy usando exclusivamente enrutamiento basado en atributos):&lt;/p&gt;&#xA;&#xA;&lt;pre&gt;&lt;code&gt;[Route(&quot;item/{id}/details&quot;)]&#xA;[Route(&quot;item/{id}/details.{ext}&quot;)]&#xA;[HttpGet]&#xA;public ItemDetail[] GetItemDetails(int id)&#xA;{&#xA;  return itemsService.GetItemDetails(id);&#xA;}&#xA;&#xA;[Route(&quot;item/{name}&quot;)]&#xA;[Route(&quot;item/{name}.{ext}&quot;)]&#xA;[HttpPost]&#xA;public int CreateItem(string name)&#xA;{&#xA;  return itemsService.Create(name);&#xA;}&#xA;&lt;/code&gt;&lt;/pre&gt;&#xA;&#xA;&lt;p&gt;Esto queda feo y hace que el código sea innecesariamente largo, así que investigué una forma de añadir la ruta con la extensión, automáticamente cuando se crea la ruta normal. Como resultado desarrollé una implementación personalizada de &lt;code&gt;IDirectRouteProvider&lt;/code&gt; que puedo usar al registrar los atributos de ruta:&lt;/p&gt;&#xA;&#xA;&lt;pre&gt;&lt;code&gt;config.MapHttpAttributeRoutes(new AutomaticExtensionRouteProvider());&#xA;&lt;/code&gt;&lt;/pre&gt;&#xA;&#xA;&lt;p&gt;El código del proveedor personalizado es:&lt;/p&gt;&#xA;&#xA;&lt;pre&gt;&lt;code&gt;public class AutomaticExtensionRouteProvider : DefaultDirectRouteProvider&#xA;{&#xA;    protected override IReadOnlyList&amp;lt;RouteEntry&amp;gt; GetActionDirectRoutes(&#xA;      HttpActionDescriptor actionDescriptor,&#xA;      IReadOnlyList&amp;lt;IDirectRouteFactory&amp;gt; factories,&#xA;      IInlineConstraintResolver constraintResolver)&#xA;    {&#xA;        var result = base.GetActionDirectRoutes(actionDescriptor, factories, constraintResolver);&#xA;        var list = new List&amp;lt;RouteEntry&amp;gt;(result);&#xA;        foreach(var route in result.Where(r =&amp;gt; !r.Route.RouteTemplate.EndsWith(&quot;.{ext}&quot;)))&#xA;        {&#xA;            var newTemplate = route.Route.RouteTemplate + &quot;.{ext}&quot;;&#xA;            if (!result.Any(r =&amp;gt; r.Route.RouteTemplate == newTemplate))&#xA;            {&#xA;                var entry = new RouteEntry(null, new HttpRoute(newTemplate,&#xA;                    new HttpRouteValueDictionary(route.Route.Defaults),&#xA;                    new HttpRouteValueDictionary(route.Route.Constraints),&#xA;                    new HttpRouteValueDictionary(route.Route.DataTokens)));&#xA;                list.Add(entry);&#xA;            }&#xA;        }&#xA;        return list.AsReadOnly();&#xA;    }&#xA;}&#xA;&lt;/code&gt;&lt;/pre&gt;&#xA;&#xA;&lt;p&gt;El problema es que esto funciona bien, pero falla en un caso: &lt;strong&gt;Cuando la última parte de la ruta es un parámetro sin restricciones&lt;/strong&gt;. Así pues, en el ejemplo anterior, la creación de rutas para &lt;code&gt;GetItemDetails&lt;/code&gt; funciona, pero para &lt;code&gt;CreateItem&lt;/code&gt; lanza lo siguiente:&lt;/p&gt;&#xA;&#xA;&lt;pre&gt;&lt;code&gt;System.InvalidOperationException: Multiple actions were found that match the request: &#xA;CreateItem on type FooBar.Api.Controllers.ItemsController&#xA;CreateItem on type FooBar.Api.Controllers.ItemsController&#xA;   at System.Web.Http.Controllers.ApiControllerActionSelector.ActionSelectorCacheItem.SelectAction(HttpControllerContext controllerContext)&#xA;   at System.Web.Http.Controllers.ApiControllerActionSelector.SelectAction(HttpControllerContext controllerContext)&#xA;&lt;/code&gt;&lt;/pre&gt;&#xA;&#xA;&lt;p&gt;Me imagino de dónde puede venir el problema: Una cadena arbitraria cumple los patrones &lt;code&gt;{name}&lt;/code&gt; y &lt;code&gt;{name}.{ext}&lt;/code&gt;, por lo que el motor de &lt;em&gt;WebApi&lt;/em&gt; se confunde al intentar seleccionar la ruta adecuada. &lt;strong&gt;Pero entonces, ¿Por qué funciona cuando se especifican las dos rutas explícitamente en atributos?&lt;/strong&gt; Por lo que yo entiendo, la ruta que yo creo en la clase &lt;code&gt;AutomaticExtensionRouteProvider&lt;/code&gt; es idéntica a la que se crea explícitamente con un atributo (y si depuro veo que en efecto así es).&lt;/p&gt;&#xA;&#xA;&lt;p&gt;Así pues, ¿Qué está pasando aquí?&lt;/p&gt;&#xA;\" OwnerUserId=\"23\" LastEditorDisplayName=\"user13558\" LastEditDate=\"2019-07-07T21:36:17.737\" LastActivityDate=\"2021-03-12T17:49:40.687\" Title=\"La creación manual de un alias de ruta con un DirectRouteProvider personalizado causa un error &quot;Multiple actions were found that match the request&quot;\" Tags=\"&lt;.net&gt;&lt;asp.net-web-api&gt;&lt;asp.net&gt;\" AnswerCount=\"1\" CommentCount=\"2\" ContentLicense=\"CC BY-SA 4.0\" />\r\n",
            "  <row Id=\"2\" PostTypeId=\"2\" ParentId=\"1\" CreationDate=\"2015-10-29T19:14:23.673\" Score=\"31\" Body=\"&lt;p&gt;He encontrado la solución.&lt;/p&gt;&#xA;&#xA;&lt;p&gt;Resulta que las rutas tienen asignada una &lt;strong&gt;precedencia&lt;/strong&gt; numérica asignada, que el motor de enrutamiento de WebApi usa para decidir qué ruta usar en caso de conflicto. Las rutas creadas automáticamente para una misma acción siempre tienen una precedencia distinta, ¡pero la ruta que yo estaba creando manualmente tenía la misma precedencia que la ya existente!&lt;/p&gt;&#xA;&#xA;&lt;p&gt;Así pues la solución es añadir lo siguiente a &lt;code&gt;GetActionDirectRoutes&lt;/code&gt;, inmediatamente después de &lt;code&gt;new RouteEntry&lt;/code&gt;:&lt;/p&gt;&#xA;&#xA;&lt;pre&gt;&lt;code&gt;entry.Route.DataTokens[&quot;precedence&quot;] = &#xA;    ((decimal)route.Route.DataTokens[&quot;precedence&quot;]) - 0.1M;&#xA;&lt;/code&gt;&lt;/pre&gt;&#xA;\" OwnerUserId=\"23\" LastActivityDate=\"2015-10-29T19:14:23.673\" CommentCount=\"2\" ContentLicense=\"CC BY-SA 3.0\" />\r\n",
            "  <row Id=\"3\" PostTypeId=\"1\" AcceptedAnswerId=\"9\" CreationDate=\"2015-10-29T23:54:31.947\" Score=\"20\" ViewCount=\"1035\" Body=\"&lt;p&gt;Luego de ver cierto código, me he dado cuenta que utilizan este estilo:&lt;/p&gt;&#xA;&#xA;&lt;pre&gt;&lt;code&gt;aStr:=tblAcct.FieldByName('Name').Text;&#xA;&lt;/code&gt;&lt;/pre&gt;&#xA;&#xA;&lt;p&gt;Parece trabajar bien, pero yo había utilizado hasta ahora:&lt;/p&gt;&#xA;&#xA;&lt;pre&gt;&lt;code&gt;aStr:=tblAcct.FieldByName('Name').AsString;&#xA;&lt;/code&gt;&lt;/pre&gt;&#xA;&#xA;&lt;p&gt;He utilizado ambos al cargar un TMemo y no parece haber diferencia alguna.&lt;/p&gt;&#xA;&#xA;&lt;pre&gt;&lt;code&gt;aMemo.Lines.Text:=tblAcct.FieldByName('History').Text;&#xA;aMemo.Lines.Text:=tblAcct.FieldByName('History').AsString;&#xA;&lt;/code&gt;&lt;/pre&gt;&#xA;&#xA;&lt;p&gt;¿Hay alguna razón por la que deba utilizar una y no la otra? ¿Cuál es esa razón?&lt;/p&gt;&#xA;&#xA;&lt;p&gt;Normalmente, para un memo, utilizo:&lt;/p&gt;&#xA;&#xA;&lt;pre&gt;&lt;code&gt;aMemo.Lines.Assign(tblAcct.FieldByName('History'))&#xA;&lt;/code&gt;&lt;/pre&gt;&#xA;&#xA;&lt;p&gt;Y esto trabaja bien también.&lt;/p&gt;&#xA;\" OwnerUserId=\"21\" LastEditorUserId=\"20\" LastEditDate=\"2015-12-03T16:24:56.370\" LastActivityDate=\"2015-12-18T20:19:25.133\" Title=\"¿Es igual utilizar .AsString que .Text para obtener el valor de un campo de un DataSet?\" Tags=\"&lt;delphi&gt;\" AnswerCount=\"3\" CommentCount=\"1\" ContentLicense=\"CC BY-SA 3.0\" />\r\n",
            "  <row Id=\"4\" PostTypeId=\"2\" ParentId=\"3\" CreationDate=\"2015-10-30T00:45:47.640\" Score=\"6\" Body=\"&lt;p&gt;&lt;code&gt;.AsString&lt;/code&gt; devuelve el mismo &quot;&lt;em&gt;string&lt;/em&gt;&quot; que la propiedad &lt;code&gt;.Text&lt;/code&gt; si no existe ningún controlador de eventos &quot;Event Handler&quot;, &lt;code&gt;OnGetText&lt;/code&gt;, pero de existir uno puede darse el caso de ser diferente, o quizás un descendiente en &lt;code&gt;TField&lt;/code&gt; que no sea el estándar podría ocasionar que fuera diferente.&lt;/p&gt;&#xA;&#xA;&lt;p&gt;Saludos y espero ayude.&lt;/p&gt;&#xA;&#xA;&lt;p&gt;P.D: Sobre si hay una razón para usar una u otra no sabría decirle con total certeza eso dependería del uso que tenga previsto para el valor de retorno.&lt;/p&gt;&#xA;\" OwnerUserId=\"24\" LastEditorUserId=\"25\" LastEditDate=\"2015-12-14T00:58:15.613\" LastActivityDate=\"2015-12-14T00:58:15.613\" CommentCount=\"0\" ContentLicense=\"CC BY-SA 3.0\" />\r\n",
            "  <row Id=\"5\" PostTypeId=\"1\" AcceptedAnswerId=\"208\" CreationDate=\"2015-10-30T01:15:27.267\" Score=\"37\" ViewCount=\"37867\" Body=\"&lt;p&gt;¿Cuál es la forma más eficiente de separar un string en &lt;code&gt;c++&lt;/code&gt;? como el que se muestra en el código, el cual contiene espacios entre las palabras, este es el método que yo estoy usando actualmente.&lt;/p&gt;&#xA;&#xA;&lt;pre&gt;&lt;code&gt;#include &amp;lt;iostream&amp;gt;&#xA;#include &amp;lt;sstream&amp;gt;&#xA;&#xA;int main(int argc, char** argv){&#xA;&#xA;    std::string str(&quot;Texto para dividir&quot;);&#xA;    std::istringstream isstream(str);&#xA;&#xA;    while(!isstream.eof()){&#xA;&#xA;        std::string tempStr;&#xA;&#xA;        isstream &amp;gt;&amp;gt; tempStr;&#xA;&#xA;        std::cout &amp;lt;&amp;lt; tempStr &amp;lt;&amp;lt; std::endl;&#xA;    }&#xA;&#xA;    return 0;&#xA;}&#xA;&lt;/code&gt;&lt;/pre&gt;&#xA;\" OwnerUserId=\"24\" LastEditorUserId=\"729\" LastEditDate=\"2016-09-27T17:46:24.900\" LastActivityDate=\"2020-06-30T02:23:26.197\" Title=\"¿Cómo separar las palabras que contiene un string en C++? 'Split '\" Tags=\"&lt;c++&gt;&lt;string&gt;\" AnswerCount=\"7\" CommentCount=\"1\" ContentLicense=\"CC BY-SA 3.0\" />\r\n",
            "  <row Id=\"6\" PostTypeId=\"1\" AcceptedAnswerId=\"654\" CreationDate=\"2015-10-30T01:36:21.210\" Score=\"27\" ViewCount=\"3291\" Body=\"&lt;p&gt;¿Cómo estar seguro o qué pautas seguir a la hora de usar los moldes explícitos  en &lt;code&gt;C++&lt;/code&gt;?&lt;/p&gt;&#xA;&#xA;&lt;p&gt;Por lo que entiendo al usar los &lt;code&gt;moldes&lt;/code&gt; le estamos pidiendo al compilador que pase de la comprobación de tipos, y eso no creo que sea muy bueno si uno no sabe exactamente qué molde usar. Por eso quería saber qué guías usan o cosas a tener en cuenta para decidirse por un tipo de molde u otro a la hora de modelar los datos, para determinadas situaciones, y así saber cuándo es seguro usar uno u otro.&lt;/p&gt;&#xA;&#xA;&lt;ol&gt;&#xA;&lt;li&gt;&lt;code&gt;const_cast&lt;/code&gt;&lt;/li&gt;&#xA;&lt;li&gt;&lt;code&gt;static_cast&lt;/code&gt;&lt;/li&gt;&#xA;&lt;li&gt;&lt;code&gt;dynamic_cast&lt;/code&gt;&lt;/li&gt;&#xA;&lt;li&gt;&lt;code&gt;reinterpret_cast&lt;/code&gt;&lt;/li&gt;&#xA;&lt;/ol&gt;&#xA;\" OwnerUserId=\"24\" LastEditorUserId=\"100\" LastEditDate=\"2015-12-14T01:05:54.117\" LastActivityDate=\"2018-12-13T13:36:25.260\" Title=\"¿Cuándo usar y es seguro emplear const_cast, static_cast, dynamic_cast, reinterpret_cast?\" Tags=\"&lt;c++&gt;&lt;casting&gt;\" AnswerCount=\"2\" CommentCount=\"0\" ContentLicense=\"CC BY-SA 3.0\" />\r\n",
            "  <row Id=\"7\" PostTypeId=\"2\" ParentId=\"5\" CreationDate=\"2015-10-30T05:30:50.993\" Score=\"29\" Body=\"&lt;p&gt;Lo de elegancia es algo difícil de decir, es cuestión de gustos. Pero la legibilidad del código siempre es importante. Por eso, este código se puede simplificar así: (a mi me parece más legible)&lt;/p&gt;&#xA;&#xA;&lt;pre&gt;&lt;code&gt;std::string tempStr;&#xA;while(isstream &amp;gt;&amp;gt; tempStr) {&#xA;    std::cout &amp;lt;&amp;lt; tempStr &amp;lt;&amp;lt; std::endl;&#xA;}&#xA;&lt;/code&gt;&lt;/pre&gt;&#xA;&#xA;&lt;p&gt;Con lo cual, metiendo todo en una función quedaría algo así:&lt;/p&gt;&#xA;&#xA;&lt;pre&gt;&lt;code&gt;std::vector&amp;lt;std::string&amp;gt; split_istringstream(std::string str) {&#xA;    std::vector&amp;lt;std::string&amp;gt; resultado;&#xA;    std::istringstream isstream(str);&#xA;    std::string palabra;&#xA;&#xA;    while(isstream &amp;gt;&amp;gt; palabra){&#xA;        resultado.push_back(palabra);&#xA;    }&#xA;&#xA;    return resultado;&#xA;}&#xA;&lt;/code&gt;&lt;/pre&gt;&#xA;&#xA;&lt;p&gt;Otra alternativa, que incluso permite definir el delimitador (el operador &gt;&gt; de &lt;code&gt;istringstream&lt;/code&gt; solo divide la cadena por los espacios - ASCII 32) es utilizar &lt;a href=&quot;http://es.cppreference.com/w/cpp/string/basic_string/getline&quot; rel=&quot;noreferrer&quot;&gt;std::getline&lt;/a&gt;. &lt;/p&gt;&#xA;&#xA;&lt;pre&gt;&lt;code&gt;std::vector&amp;lt;std::string&amp;gt; split_getline(std::string str, char delim) {&#xA;    std::vector&amp;lt;std::string&amp;gt; resultado;&#xA;    std::istringstream isstream(str);&#xA;    std::string palabra;&#xA;&#xA;    while(std::getline(isstream, palabra, delim)){&#xA;        resultado.push_back(palabra);&#xA;    }&#xA;&#xA;    return resultado;&#xA;}&#xA;&lt;/code&gt;&lt;/pre&gt;&#xA;&#xA;&lt;p&gt;Aquí abajo te dejo una comparativa entre ambas opciones, son prácticamente iguales en eficiencia, dejando de un lado los vectores, reservan prácticamente la misma memoria.&lt;/p&gt;&#xA;&#xA;&lt;p&gt;&lt;a href=&quot;http://cpp.sh/3jtw&quot; rel=&quot;noreferrer&quot;&gt;http://cpp.sh/3jtw&lt;/a&gt;&lt;/p&gt;&#xA;\" OwnerUserId=\"25\" LastEditorUserId=\"29967\" LastEditDate=\"2017-03-04T04:16:19.167\" LastActivityDate=\"2017-03-04T04:16:19.167\" CommentCount=\"0\" ContentLicense=\"CC BY-SA 3.0\" />\r\n",
            "  <row Id=\"8\" PostTypeId=\"1\" AcceptedAnswerId=\"442\" CreationDate=\"2015-10-30T10:26:44.223\" Score=\"14\" ViewCount=\"320\" Body=\"&lt;p&gt;Para un proyecto web en el que estoy participando usamos el componente &lt;a href=&quot;http://angular-ui.github.io/angular-google-maps&quot; rel=&quot;noreferrer&quot;&gt;Angular Google Maps&lt;/a&gt;. Este es el código &lt;code&gt;JavaScript&lt;/code&gt; que hace referencia al componente y lo inicializa:&lt;/p&gt;&#xA;&#xA;&lt;pre&gt;&lt;code&gt;var configureGoogleMaps = function(uiGmapGoogleMapApiProvider) {&#xA;    uiGmapGoogleMapApiProvider.configure({&#xA;        libraries: 'geometry,visualization'&#xA;    });&#xA;}&#xA;configureGoogleMaps.$inject = ['uiGmapGoogleMapApiProvider'];&#xA;&#xA;angular&#xA;    .module('shTools.Map', ['uiGmapgoogle-maps'])&#xA;    .directive('map', mapDirective)&#xA;    .config(configureGoogleMaps);&#xA;&lt;/code&gt;&lt;/pre&gt;&#xA;&#xA;&lt;p&gt;donde &lt;code&gt;mapDirective&lt;/code&gt; define un elemento HTML que contiene el componente de Google Maps.&lt;/p&gt;&#xA;&#xA;&lt;p&gt;Esto está funcionando como se espera. El problema es que cuando ejecuto un simple test usando &lt;code&gt;Jasmine&lt;/code&gt; con &lt;code&gt;Karma&lt;/code&gt;, obtengo el error &lt;code&gt;Unknown provider: uiGmapGoogleMapApiProvider&lt;/code&gt;. Por alguna razón no está siendo capaz de encontrar el proveedor.&lt;/p&gt;&#xA;&#xA;&lt;p&gt;He intentado crear un &lt;code&gt;mock&lt;/code&gt; para forzar la creación de un proveedor con ese nombre, pero no ha funcionado:&lt;/p&gt;&#xA;&#xA;&lt;pre&gt;&lt;code&gt;angular.module('uiGmapgoogle-maps', [])&#xA;    .value('uiGmapGoogleMapApiProvider', {&#xA;        configure: function() {}&#xA;    });&#xA;&lt;/code&gt;&lt;/pre&gt;&#xA;&#xA;&lt;p&gt;¿Qué podría estar pasando aquí?&lt;/p&gt;&#xA;\" OwnerUserId=\"23\" LastEditorUserId=\"95\" LastEditDate=\"2015-12-03T15:38:34.307\" LastActivityDate=\"2016-09-30T07:45:48.177\" Title=\"&quot;Unknown provider: uiGmapGoogleMapApiProvider&quot; al probar con Jasmine código que usa el componente de Google Maps para AngularJS\" Tags=\"&lt;google-maps&gt;&lt;angularjs&gt;&lt;jasmine&gt;&lt;karma-jasmine&gt;\" AnswerCount=\"1\" CommentCount=\"1\" ContentLicense=\"CC BY-SA 3.0\" />\r\n"
          ]
        }
      ],
      "source": [
        "!head Posts.xml"
      ]
    },
    {
      "cell_type": "markdown",
      "metadata": {
        "id": "PIKskRYjRd6F"
      },
      "source": [
        "Aunque se puede procesar el formato XML, lo que podemos ver es que cada entrada es exactamente una línea que comienza por \"`<row`\", y que contiene un conjunto de atributos en formato \"`atributo=\"valor\"`\". Si lo comprobamos, incluso no existirá ninguna comilla doble **dentro** de otra comilla doble, así que podemos extraer esos pares de forma facil.\n",
        "\n",
        "La siguiente función procesa el fichero XML línea a línea. Primero separa la parte inicial \"`<row`\", y después procesa cada par clave/valor. Lo único que hace es construir el conjunto de atributos que hay en todas las entradas. Como vimos, cada fila contenía atributos diferentes. Queremos obtenerlos todos.\n",
        "\n",
        "La función, en vez de retornar una lista, que ocuparía mucha memoria, retorna un generador, que es una lista (de pares clave-valor, un diccionario) que se va generando a medida que se recorre. Por eso utiliza la construcción `yield` de Python. Esto hace que la función se detenga, y cuando se le pide el siguiente elemento, continúa desde donde se quedó (corrutina)."
      ]
    },
    {
      "cell_type": "code",
      "execution_count": 11,
      "metadata": {
        "id": "mWAk2JCeTswM"
      },
      "outputs": [],
      "source": [
        "import re\n",
        "from collections.abc import Iterator\n",
        "\n",
        "def generate_elements_from_lines(filename: str) -> Iterator[dict[str, str]]:\n",
        "\n",
        "  def get_attrs(line: str) -> dict[str, str]:\n",
        "    (_, attrs) = line.split(\"<row \", 2)\n",
        "    return {m.group(1): m.group(2)\n",
        "              for m in re.finditer(r\"(\\w*?)=\\\"(.*?)\\\"\", attrs)}\n",
        "\n",
        "  with open(filename, \"r\") as f:\n",
        "    for line in f:\n",
        "      if \"<row\" in line:\n",
        "        yield get_attrs(line)"
      ]
    },
    {
      "cell_type": "code",
      "execution_count": 12,
      "metadata": {
        "id": "i8HTRYP_gJrU"
      },
      "outputs": [],
      "source": [
        "first_row: dict[str, str] = next(generate_elements_from_lines(\"Posts.xml\"))"
      ]
    },
    {
      "cell_type": "code",
      "execution_count": 13,
      "metadata": {
        "id": "FAgzvrRa6fpO",
        "outputId": "e8d56391-fce8-4d3f-f00d-9df0d7e9baf8",
        "colab": {
          "base_uri": "https://localhost:8080/"
        }
      },
      "outputs": [
        {
          "output_type": "execute_result",
          "data": {
            "text/plain": [
              "dict_keys(['Id', 'PostTypeId', 'AcceptedAnswerId', 'CreationDate', 'Score', 'ViewCount', 'Body', 'OwnerUserId', 'LastEditorDisplayName', 'LastEditDate', 'LastActivityDate', 'Title', 'Tags', 'AnswerCount', 'CommentCount', 'ContentLicense'])"
            ]
          },
          "metadata": {},
          "execution_count": 13
        }
      ],
      "source": [
        "first_row.keys()"
      ]
    },
    {
      "cell_type": "markdown",
      "metadata": {
        "id": "-FawjWDD5twt"
      },
      "source": [
        "Hay que extraer el conjunto de atributos para saber qué columnas tendrá nuestra tabla/CSV o archivo JSON. Recuérdese que las dos primeras filas del archivo XML tenían diferentes atributos. ¿Cómo se haría esto?"
      ]
    },
    {
      "cell_type": "code",
      "execution_count": 14,
      "metadata": {
        "id": "GdRO-j5E6Tr7"
      },
      "outputs": [],
      "source": [
        "from collections.abc import Iterator\n",
        "\n",
        "def get_all_attrs(iterator: Iterator[dict[str,str]]) -> set[str]:\n",
        "  all_attrs: set[str] = set()\n",
        "  for row in iterator:\n",
        "    all_attrs.update(row.keys())\n",
        "  return all_attrs\n",
        "\n",
        "all_attrs: set[str] = get_all_attrs(generate_elements_from_lines(\"Posts.xml\"))"
      ]
    },
    {
      "cell_type": "markdown",
      "metadata": {
        "id": "xj5-3NS6VC5E"
      },
      "source": [
        "El conjunto de atributos es pues:"
      ]
    },
    {
      "cell_type": "code",
      "execution_count": 15,
      "metadata": {
        "id": "pY0EZNnMVGc6",
        "outputId": "026659c3-0749-4257-819a-c248a37b93ef",
        "colab": {
          "base_uri": "https://localhost:8080/"
        }
      },
      "outputs": [
        {
          "output_type": "execute_result",
          "data": {
            "text/plain": [
              "{'AcceptedAnswerId',\n",
              " 'AnswerCount',\n",
              " 'Body',\n",
              " 'ClosedDate',\n",
              " 'CommentCount',\n",
              " 'CommunityOwnedDate',\n",
              " 'ContentLicense',\n",
              " 'CreationDate',\n",
              " 'FavoriteCount',\n",
              " 'Id',\n",
              " 'LastActivityDate',\n",
              " 'LastEditDate',\n",
              " 'LastEditorDisplayName',\n",
              " 'LastEditorUserId',\n",
              " 'OwnerDisplayName',\n",
              " 'OwnerUserId',\n",
              " 'ParentId',\n",
              " 'PostTypeId',\n",
              " 'Score',\n",
              " 'Tags',\n",
              " 'Title',\n",
              " 'ViewCount'}"
            ]
          },
          "metadata": {},
          "execution_count": 15
        }
      ],
      "source": [
        "all_attrs"
      ]
    },
    {
      "cell_type": "markdown",
      "metadata": {
        "id": "tBDZnk5CLY42"
      },
      "source": [
        "Como sabemos que el atributo `Id` va a ser la clave primaria, lo ponemos al principio. Además, generamos una lista, no un conjunto, para que el orden sea conocido."
      ]
    },
    {
      "cell_type": "code",
      "execution_count": 16,
      "metadata": {
        "id": "P5sHeBZs6W03",
        "outputId": "09c46b2f-b92e-4598-e5e8-1c82d748c80c",
        "colab": {
          "base_uri": "https://localhost:8080/"
        }
      },
      "outputs": [
        {
          "output_type": "execute_result",
          "data": {
            "text/plain": [
              "['Id',\n",
              " 'Score',\n",
              " 'ClosedDate',\n",
              " 'AcceptedAnswerId',\n",
              " 'Title',\n",
              " 'ContentLicense',\n",
              " 'PostTypeId',\n",
              " 'LastActivityDate',\n",
              " 'LastEditDate',\n",
              " 'AnswerCount',\n",
              " 'CommentCount',\n",
              " 'LastEditorUserId',\n",
              " 'CommunityOwnedDate',\n",
              " 'Tags',\n",
              " 'LastEditorDisplayName',\n",
              " 'FavoriteCount',\n",
              " 'ParentId',\n",
              " 'OwnerDisplayName',\n",
              " 'Body',\n",
              " 'CreationDate',\n",
              " 'ViewCount',\n",
              " 'OwnerUserId']"
            ]
          },
          "metadata": {},
          "execution_count": 16
        }
      ],
      "source": [
        "all_attrs.remove('Id')\n",
        "all_attrs = list(all_attrs)\n",
        "all_attrs.insert(0,'Id')\n",
        "all_attrs"
      ]
    },
    {
      "cell_type": "markdown",
      "metadata": {
        "id": "PwI1EwAGNIBl"
      },
      "source": [
        "## Escritura del formato CSV"
      ]
    },
    {
      "cell_type": "markdown",
      "metadata": {
        "id": "397wlUELTA2n"
      },
      "source": [
        "El formato CSV está especificado en el estándar RFC 4180. https://www.ietf.org/rfc/rfc4180.txt. En general se puede utilizar la biblioteca `csv` de Python 3 y vamos a exportar una línea de cabecera con todos los campos. https://docs.python.org/3/library/csv.html.\n",
        "\n",
        "Tendremos en cuenta que todas las filas tienen que tener las mismas columnas y en el mismo orden dado por `all_attrs`."
      ]
    },
    {
      "cell_type": "code",
      "execution_count": 17,
      "metadata": {
        "id": "FxYvaSWUMlxL"
      },
      "outputs": [],
      "source": [
        "import csv\n",
        "\n",
        "def write_csv(destfile: str, all_attrs: list[str], iterator: Iterator[dict[str,str]]) -> None:\n",
        "  with open(destfile, 'w') as wf:\n",
        "    cw = csv.writer(wf)\n",
        "\n",
        "    # Escribir la línea de cabecera\n",
        "    cw.writerow(all_attrs)\n",
        "\n",
        "    # Recorrer el iterador\n",
        "    for row in iterator:\n",
        "      row_to_write: list[str] = [row.get(att, '') for att in all_attrs]\n",
        "      cw.writerow(row_to_write)"
      ]
    },
    {
      "cell_type": "code",
      "execution_count": 18,
      "metadata": {
        "id": "U81Z3NJ8Xp9H"
      },
      "outputs": [],
      "source": [
        "write_csv('Posts.csv', all_attrs, generate_elements_from_lines('Posts.xml'))"
      ]
    },
    {
      "cell_type": "code",
      "execution_count": 19,
      "metadata": {
        "id": "OAK6raymXv1l",
        "outputId": "f72b11c0-5c0e-49dc-a8fc-f34b26760fbc",
        "colab": {
          "base_uri": "https://localhost:8080/"
        }
      },
      "outputs": [
        {
          "output_type": "stream",
          "name": "stdout",
          "text": [
            "Id,Score,ClosedDate,AcceptedAnswerId,Title,ContentLicense,PostTypeId,LastActivityDate,LastEditDate,AnswerCount,CommentCount,LastEditorUserId,CommunityOwnedDate,Tags,LastEditorDisplayName,FavoriteCount,ParentId,OwnerDisplayName,Body,CreationDate,ViewCount,OwnerUserId\r\n",
            "1,40,,2,La creación manual de un alias de ruta con un DirectRouteProvider personalizado causa un error &quot;Multiple actions were found that match the request&quot;,CC BY-SA 4.0,1,2021-03-12T17:49:40.687,2019-07-07T21:36:17.737,1,2,,,&lt;.net&gt;&lt;asp.net-web-api&gt;&lt;asp.net&gt;,user13558,,,,\"&lt;p&gt;Estoy creando un servicio usando &lt;em&gt;ASP.NET WebApi&lt;/em&gt;. Quiero añadir soporte para la negociación del tipo de contenido basado en extensiones en el &lt;em&gt;URI&lt;/em&gt;, así que he añadido lo siguiente al código de inicialización del servicio:&lt;/p&gt;&#xA;&#xA;&lt;pre&gt;&lt;code&gt;public static class WebApiConfig&#xA;{&#xA;  public static void Register(HttpConfiguration config)&#xA;  {&#xA;    config.Formatters.JsonFormatter.AddUriPathExtensionMapping(&quot;json&quot;, &quot;application/json&quot;);&#xA;    config.Formatters.XmlFormatter.AddUriPathExtensionMapping(&quot;xml&quot;, &quot;application/xml&quot;);&#xA;  }&#xA;}&#xA;&lt;/code&gt;&lt;/pre&gt;&#xA;&#xA;&lt;p&gt;Para que esto funcione necesito crear dos rutas para cada acción del controlador (estoy usando exclusivamente enrutamiento basado en atributos):&lt;/p&gt;&#xA;&#xA;&lt;pre&gt;&lt;code&gt;[Route(&quot;item/{id}/details&quot;)]&#xA;[Route(&quot;item/{id}/details.{ext}&quot;)]&#xA;[HttpGet]&#xA;public ItemDetail[] GetItemDetails(int id)&#xA;{&#xA;  return itemsService.GetItemDetails(id);&#xA;}&#xA;&#xA;[Route(&quot;item/{name}&quot;)]&#xA;[Route(&quot;item/{name}.{ext}&quot;)]&#xA;[HttpPost]&#xA;public int CreateItem(string name)&#xA;{&#xA;  return itemsService.Create(name);&#xA;}&#xA;&lt;/code&gt;&lt;/pre&gt;&#xA;&#xA;&lt;p&gt;Esto queda feo y hace que el código sea innecesariamente largo, así que investigué una forma de añadir la ruta con la extensión, automáticamente cuando se crea la ruta normal. Como resultado desarrollé una implementación personalizada de &lt;code&gt;IDirectRouteProvider&lt;/code&gt; que puedo usar al registrar los atributos de ruta:&lt;/p&gt;&#xA;&#xA;&lt;pre&gt;&lt;code&gt;config.MapHttpAttributeRoutes(new AutomaticExtensionRouteProvider());&#xA;&lt;/code&gt;&lt;/pre&gt;&#xA;&#xA;&lt;p&gt;El código del proveedor personalizado es:&lt;/p&gt;&#xA;&#xA;&lt;pre&gt;&lt;code&gt;public class AutomaticExtensionRouteProvider : DefaultDirectRouteProvider&#xA;{&#xA;    protected override IReadOnlyList&amp;lt;RouteEntry&amp;gt; GetActionDirectRoutes(&#xA;      HttpActionDescriptor actionDescriptor,&#xA;      IReadOnlyList&amp;lt;IDirectRouteFactory&amp;gt; factories,&#xA;      IInlineConstraintResolver constraintResolver)&#xA;    {&#xA;        var result = base.GetActionDirectRoutes(actionDescriptor, factories, constraintResolver);&#xA;        var list = new List&amp;lt;RouteEntry&amp;gt;(result);&#xA;        foreach(var route in result.Where(r =&amp;gt; !r.Route.RouteTemplate.EndsWith(&quot;.{ext}&quot;)))&#xA;        {&#xA;            var newTemplate = route.Route.RouteTemplate + &quot;.{ext}&quot;;&#xA;            if (!result.Any(r =&amp;gt; r.Route.RouteTemplate == newTemplate))&#xA;            {&#xA;                var entry = new RouteEntry(null, new HttpRoute(newTemplate,&#xA;                    new HttpRouteValueDictionary(route.Route.Defaults),&#xA;                    new HttpRouteValueDictionary(route.Route.Constraints),&#xA;                    new HttpRouteValueDictionary(route.Route.DataTokens)));&#xA;                list.Add(entry);&#xA;            }&#xA;        }&#xA;        return list.AsReadOnly();&#xA;    }&#xA;}&#xA;&lt;/code&gt;&lt;/pre&gt;&#xA;&#xA;&lt;p&gt;El problema es que esto funciona bien, pero falla en un caso: &lt;strong&gt;Cuando la última parte de la ruta es un parámetro sin restricciones&lt;/strong&gt;. Así pues, en el ejemplo anterior, la creación de rutas para &lt;code&gt;GetItemDetails&lt;/code&gt; funciona, pero para &lt;code&gt;CreateItem&lt;/code&gt; lanza lo siguiente:&lt;/p&gt;&#xA;&#xA;&lt;pre&gt;&lt;code&gt;System.InvalidOperationException: Multiple actions were found that match the request: &#xA;CreateItem on type FooBar.Api.Controllers.ItemsController&#xA;CreateItem on type FooBar.Api.Controllers.ItemsController&#xA;   at System.Web.Http.Controllers.ApiControllerActionSelector.ActionSelectorCacheItem.SelectAction(HttpControllerContext controllerContext)&#xA;   at System.Web.Http.Controllers.ApiControllerActionSelector.SelectAction(HttpControllerContext controllerContext)&#xA;&lt;/code&gt;&lt;/pre&gt;&#xA;&#xA;&lt;p&gt;Me imagino de dónde puede venir el problema: Una cadena arbitraria cumple los patrones &lt;code&gt;{name}&lt;/code&gt; y &lt;code&gt;{name}.{ext}&lt;/code&gt;, por lo que el motor de &lt;em&gt;WebApi&lt;/em&gt; se confunde al intentar seleccionar la ruta adecuada. &lt;strong&gt;Pero entonces, ¿Por qué funciona cuando se especifican las dos rutas explícitamente en atributos?&lt;/strong&gt; Por lo que yo entiendo, la ruta que yo creo en la clase &lt;code&gt;AutomaticExtensionRouteProvider&lt;/code&gt; es idéntica a la que se crea explícitamente con un atributo (y si depuro veo que en efecto así es).&lt;/p&gt;&#xA;&#xA;&lt;p&gt;Así pues, ¿Qué está pasando aquí?&lt;/p&gt;&#xA;\",2015-10-29T15:56:52.933,780,23\r\n",
            "2,31,,,,CC BY-SA 3.0,2,2015-10-29T19:14:23.673,,,2,,,,,,1,,\"&lt;p&gt;He encontrado la solución.&lt;/p&gt;&#xA;&#xA;&lt;p&gt;Resulta que las rutas tienen asignada una &lt;strong&gt;precedencia&lt;/strong&gt; numérica asignada, que el motor de enrutamiento de WebApi usa para decidir qué ruta usar en caso de conflicto. Las rutas creadas automáticamente para una misma acción siempre tienen una precedencia distinta, ¡pero la ruta que yo estaba creando manualmente tenía la misma precedencia que la ya existente!&lt;/p&gt;&#xA;&#xA;&lt;p&gt;Así pues la solución es añadir lo siguiente a &lt;code&gt;GetActionDirectRoutes&lt;/code&gt;, inmediatamente después de &lt;code&gt;new RouteEntry&lt;/code&gt;:&lt;/p&gt;&#xA;&#xA;&lt;pre&gt;&lt;code&gt;entry.Route.DataTokens[&quot;precedence&quot;] = &#xA;    ((decimal)route.Route.DataTokens[&quot;precedence&quot;]) - 0.1M;&#xA;&lt;/code&gt;&lt;/pre&gt;&#xA;\",2015-10-29T19:14:23.673,,23\r\n",
            "3,20,,9,¿Es igual utilizar .AsString que .Text para obtener el valor de un campo de un DataSet?,CC BY-SA 3.0,1,2015-12-18T20:19:25.133,2015-12-03T16:24:56.370,3,1,20,,&lt;delphi&gt;,,,,,\"&lt;p&gt;Luego de ver cierto código, me he dado cuenta que utilizan este estilo:&lt;/p&gt;&#xA;&#xA;&lt;pre&gt;&lt;code&gt;aStr:=tblAcct.FieldByName('Name').Text;&#xA;&lt;/code&gt;&lt;/pre&gt;&#xA;&#xA;&lt;p&gt;Parece trabajar bien, pero yo había utilizado hasta ahora:&lt;/p&gt;&#xA;&#xA;&lt;pre&gt;&lt;code&gt;aStr:=tblAcct.FieldByName('Name').AsString;&#xA;&lt;/code&gt;&lt;/pre&gt;&#xA;&#xA;&lt;p&gt;He utilizado ambos al cargar un TMemo y no parece haber diferencia alguna.&lt;/p&gt;&#xA;&#xA;&lt;pre&gt;&lt;code&gt;aMemo.Lines.Text:=tblAcct.FieldByName('History').Text;&#xA;aMemo.Lines.Text:=tblAcct.FieldByName('History').AsString;&#xA;&lt;/code&gt;&lt;/pre&gt;&#xA;&#xA;&lt;p&gt;¿Hay alguna razón por la que deba utilizar una y no la otra? ¿Cuál es esa razón?&lt;/p&gt;&#xA;&#xA;&lt;p&gt;Normalmente, para un memo, utilizo:&lt;/p&gt;&#xA;&#xA;&lt;pre&gt;&lt;code&gt;aMemo.Lines.Assign(tblAcct.FieldByName('History'))&#xA;&lt;/code&gt;&lt;/pre&gt;&#xA;&#xA;&lt;p&gt;Y esto trabaja bien también.&lt;/p&gt;&#xA;\",2015-10-29T23:54:31.947,1035,21\r\n",
            "4,6,,,,CC BY-SA 3.0,2,2015-12-14T00:58:15.613,2015-12-14T00:58:15.613,,0,25,,,,,3,,\"&lt;p&gt;&lt;code&gt;.AsString&lt;/code&gt; devuelve el mismo &quot;&lt;em&gt;string&lt;/em&gt;&quot; que la propiedad &lt;code&gt;.Text&lt;/code&gt; si no existe ningún controlador de eventos &quot;Event Handler&quot;, &lt;code&gt;OnGetText&lt;/code&gt;, pero de existir uno puede darse el caso de ser diferente, o quizás un descendiente en &lt;code&gt;TField&lt;/code&gt; que no sea el estándar podría ocasionar que fuera diferente.&lt;/p&gt;&#xA;&#xA;&lt;p&gt;Saludos y espero ayude.&lt;/p&gt;&#xA;&#xA;&lt;p&gt;P.D: Sobre si hay una razón para usar una u otra no sabría decirle con total certeza eso dependería del uso que tenga previsto para el valor de retorno.&lt;/p&gt;&#xA;\",2015-10-30T00:45:47.640,,24\r\n",
            "5,37,,208,¿Cómo separar las palabras que contiene un string en C++? 'Split ',CC BY-SA 3.0,1,2020-06-30T02:23:26.197,2016-09-27T17:46:24.900,7,1,729,,&lt;c++&gt;&lt;string&gt;,,,,,\"&lt;p&gt;¿Cuál es la forma más eficiente de separar un string en &lt;code&gt;c++&lt;/code&gt;? como el que se muestra en el código, el cual contiene espacios entre las palabras, este es el método que yo estoy usando actualmente.&lt;/p&gt;&#xA;&#xA;&lt;pre&gt;&lt;code&gt;#include &amp;lt;iostream&amp;gt;&#xA;#include &amp;lt;sstream&amp;gt;&#xA;&#xA;int main(int argc, char** argv){&#xA;&#xA;    std::string str(&quot;Texto para dividir&quot;);&#xA;    std::istringstream isstream(str);&#xA;&#xA;    while(!isstream.eof()){&#xA;&#xA;        std::string tempStr;&#xA;&#xA;        isstream &amp;gt;&amp;gt; tempStr;&#xA;&#xA;        std::cout &amp;lt;&amp;lt; tempStr &amp;lt;&amp;lt; std::endl;&#xA;    }&#xA;&#xA;    return 0;&#xA;}&#xA;&lt;/code&gt;&lt;/pre&gt;&#xA;\",2015-10-30T01:15:27.267,37867,24\r\n",
            "6,27,,654,\"¿Cuándo usar y es seguro emplear const_cast, static_cast, dynamic_cast, reinterpret_cast?\",CC BY-SA 3.0,1,2018-12-13T13:36:25.260,2015-12-14T01:05:54.117,2,0,100,,&lt;c++&gt;&lt;casting&gt;,,,,,\"&lt;p&gt;¿Cómo estar seguro o qué pautas seguir a la hora de usar los moldes explícitos  en &lt;code&gt;C++&lt;/code&gt;?&lt;/p&gt;&#xA;&#xA;&lt;p&gt;Por lo que entiendo al usar los &lt;code&gt;moldes&lt;/code&gt; le estamos pidiendo al compilador que pase de la comprobación de tipos, y eso no creo que sea muy bueno si uno no sabe exactamente qué molde usar. Por eso quería saber qué guías usan o cosas a tener en cuenta para decidirse por un tipo de molde u otro a la hora de modelar los datos, para determinadas situaciones, y así saber cuándo es seguro usar uno u otro.&lt;/p&gt;&#xA;&#xA;&lt;ol&gt;&#xA;&lt;li&gt;&lt;code&gt;const_cast&lt;/code&gt;&lt;/li&gt;&#xA;&lt;li&gt;&lt;code&gt;static_cast&lt;/code&gt;&lt;/li&gt;&#xA;&lt;li&gt;&lt;code&gt;dynamic_cast&lt;/code&gt;&lt;/li&gt;&#xA;&lt;li&gt;&lt;code&gt;reinterpret_cast&lt;/code&gt;&lt;/li&gt;&#xA;&lt;/ol&gt;&#xA;\",2015-10-30T01:36:21.210,3291,24\r\n",
            "7,29,,,,CC BY-SA 3.0,2,2017-03-04T04:16:19.167,2017-03-04T04:16:19.167,,0,29967,,,,,5,,\"&lt;p&gt;Lo de elegancia es algo difícil de decir, es cuestión de gustos. Pero la legibilidad del código siempre es importante. Por eso, este código se puede simplificar así: (a mi me parece más legible)&lt;/p&gt;&#xA;&#xA;&lt;pre&gt;&lt;code&gt;std::string tempStr;&#xA;while(isstream &amp;gt;&amp;gt; tempStr) {&#xA;    std::cout &amp;lt;&amp;lt; tempStr &amp;lt;&amp;lt; std::endl;&#xA;}&#xA;&lt;/code&gt;&lt;/pre&gt;&#xA;&#xA;&lt;p&gt;Con lo cual, metiendo todo en una función quedaría algo así:&lt;/p&gt;&#xA;&#xA;&lt;pre&gt;&lt;code&gt;std::vector&amp;lt;std::string&amp;gt; split_istringstream(std::string str) {&#xA;    std::vector&amp;lt;std::string&amp;gt; resultado;&#xA;    std::istringstream isstream(str);&#xA;    std::string palabra;&#xA;&#xA;    while(isstream &amp;gt;&amp;gt; palabra){&#xA;        resultado.push_back(palabra);&#xA;    }&#xA;&#xA;    return resultado;&#xA;}&#xA;&lt;/code&gt;&lt;/pre&gt;&#xA;&#xA;&lt;p&gt;Otra alternativa, que incluso permite definir el delimitador (el operador &gt;&gt; de &lt;code&gt;istringstream&lt;/code&gt; solo divide la cadena por los espacios - ASCII 32) es utilizar &lt;a href=&quot;http://es.cppreference.com/w/cpp/string/basic_string/getline&quot; rel=&quot;noreferrer&quot;&gt;std::getline&lt;/a&gt;. &lt;/p&gt;&#xA;&#xA;&lt;pre&gt;&lt;code&gt;std::vector&amp;lt;std::string&amp;gt; split_getline(std::string str, char delim) {&#xA;    std::vector&amp;lt;std::string&amp;gt; resultado;&#xA;    std::istringstream isstream(str);&#xA;    std::string palabra;&#xA;&#xA;    while(std::getline(isstream, palabra, delim)){&#xA;        resultado.push_back(palabra);&#xA;    }&#xA;&#xA;    return resultado;&#xA;}&#xA;&lt;/code&gt;&lt;/pre&gt;&#xA;&#xA;&lt;p&gt;Aquí abajo te dejo una comparativa entre ambas opciones, son prácticamente iguales en eficiencia, dejando de un lado los vectores, reservan prácticamente la misma memoria.&lt;/p&gt;&#xA;&#xA;&lt;p&gt;&lt;a href=&quot;http://cpp.sh/3jtw&quot; rel=&quot;noreferrer&quot;&gt;http://cpp.sh/3jtw&lt;/a&gt;&lt;/p&gt;&#xA;\",2015-10-30T05:30:50.993,,25\r\n",
            "8,14,,442,&quot;Unknown provider: uiGmapGoogleMapApiProvider&quot; al probar con Jasmine código que usa el componente de Google Maps para AngularJS,CC BY-SA 3.0,1,2016-09-30T07:45:48.177,2015-12-03T15:38:34.307,1,1,95,,&lt;google-maps&gt;&lt;angularjs&gt;&lt;jasmine&gt;&lt;karma-jasmine&gt;,,,,,\"&lt;p&gt;Para un proyecto web en el que estoy participando usamos el componente &lt;a href=&quot;http://angular-ui.github.io/angular-google-maps&quot; rel=&quot;noreferrer&quot;&gt;Angular Google Maps&lt;/a&gt;. Este es el código &lt;code&gt;JavaScript&lt;/code&gt; que hace referencia al componente y lo inicializa:&lt;/p&gt;&#xA;&#xA;&lt;pre&gt;&lt;code&gt;var configureGoogleMaps = function(uiGmapGoogleMapApiProvider) {&#xA;    uiGmapGoogleMapApiProvider.configure({&#xA;        libraries: 'geometry,visualization'&#xA;    });&#xA;}&#xA;configureGoogleMaps.$inject = ['uiGmapGoogleMapApiProvider'];&#xA;&#xA;angular&#xA;    .module('shTools.Map', ['uiGmapgoogle-maps'])&#xA;    .directive('map', mapDirective)&#xA;    .config(configureGoogleMaps);&#xA;&lt;/code&gt;&lt;/pre&gt;&#xA;&#xA;&lt;p&gt;donde &lt;code&gt;mapDirective&lt;/code&gt; define un elemento HTML que contiene el componente de Google Maps.&lt;/p&gt;&#xA;&#xA;&lt;p&gt;Esto está funcionando como se espera. El problema es que cuando ejecuto un simple test usando &lt;code&gt;Jasmine&lt;/code&gt; con &lt;code&gt;Karma&lt;/code&gt;, obtengo el error &lt;code&gt;Unknown provider: uiGmapGoogleMapApiProvider&lt;/code&gt;. Por alguna razón no está siendo capaz de encontrar el proveedor.&lt;/p&gt;&#xA;&#xA;&lt;p&gt;He intentado crear un &lt;code&gt;mock&lt;/code&gt; para forzar la creación de un proveedor con ese nombre, pero no ha funcionado:&lt;/p&gt;&#xA;&#xA;&lt;pre&gt;&lt;code&gt;angular.module('uiGmapgoogle-maps', [])&#xA;    .value('uiGmapGoogleMapApiProvider', {&#xA;        configure: function() {}&#xA;    });&#xA;&lt;/code&gt;&lt;/pre&gt;&#xA;&#xA;&lt;p&gt;¿Qué podría estar pasando aquí?&lt;/p&gt;&#xA;\",2015-10-30T10:26:44.223,320,23\r\n",
            "9,12,,,,CC BY-SA 3.0,2,2015-10-30T13:59:47.113,,,1,,,,,,3,,\"&lt;p&gt;Antes de responder directamente la respuesta, hablaremos de las propiedades relevantes de TField y sus descendientes.&lt;/p&gt;&#xA;&#xA;&lt;h1&gt;&lt;code&gt;Text&lt;/code&gt;/&lt;code&gt;DisplayText&lt;/code&gt;&lt;/h1&gt;&#xA;&#xA;&lt;p&gt;Ambas propiedades sirven para obtener una representación textual del valor del campo para su uso en la Interfaz de Usuario. &#xA;El propósito de la propiedad &lt;code&gt;Text&lt;/code&gt; es el de obtener una representación textual del campo cuándo está siendo editado en un control asociado a datos (Data Aware), en contraste con la propiedad &lt;code&gt;DisplayText&lt;/code&gt; que proporciona el valor del campo con formato de visualización para el usuario, por ejemplo, puede contener caracteres de puntuación u otra decoración al valor plano. (1234.50 en contraste con 1,234.50).&lt;/p&gt;&#xA;&#xA;&lt;p&gt;En otras palabras, un &lt;code&gt;TdbEdit&lt;/code&gt; o controles similares, mostrarán el valor de &lt;code&gt;DisplayText&lt;/code&gt; cuándo no están siendo editados, y al recibir el foco, cambiarán el valor al de la propiedad &lt;code&gt;Text&lt;/code&gt; y es este valor el que el usuario &quot;edita&quot;. Un TdbLabel solamente tira de la propiedad &lt;code&gt;DisplayText&lt;/code&gt;, ya que no es editable.&lt;/p&gt;&#xA;&#xA;&lt;p&gt;La documentación para &lt;code&gt;Text&lt;/code&gt; dice:&lt;/p&gt;&#xA;&#xA;&lt;blockquote&gt;&#xA;  &lt;p&gt;Contains the string to display in a data-aware control when the field is in edit mode&lt;/p&gt;&#xA;&lt;/blockquote&gt;&#xA;&#xA;&lt;p&gt;Un ejemplo típico es un &lt;code&gt;TFloatField&lt;/code&gt; con la propiedad &lt;code&gt;Currency&lt;/code&gt; establecida a &lt;code&gt;True&lt;/code&gt;. La propiedad DisplayText te devuelve el string con el número conteniendo separadores de miles, el separador decimal y el símbolo de la moneda. La propiedad Text, te devuelve una cadena que no contiene separadores de miles ni símbolo de moneda.&lt;/p&gt;&#xA;&#xA;&lt;pre&gt;&lt;code&gt;begin&#xA;  MyFloatField.Currency := True;&#xA;  MyFloatField.AsFloat := 1234.56;&#xA;  A := MyFloatField.Text; //'1234.56'&#xA;  B := MyFloatField.DisplayText; //'$1,234.56', depends on your locale&#xA;  ShowMessage(A + #13 + B);&#xA;end;&#xA;&lt;/code&gt;&lt;/pre&gt;&#xA;&#xA;&lt;p&gt;El comportamiento de ambas propiedades puede ser personalizado escribiendo un manejador de eventos para &lt;code&gt;OnGetText&lt;/code&gt;, dónde se puede escribir la lógica para convertir el valor del campo en una de ambas representaciones textuales. El parámetro booleano &lt;code&gt;DisplayText&lt;/code&gt; indica si la cadena solicitada es para representar el valor en la interfaz de usuario o para edición. &lt;/p&gt;&#xA;&#xA;&lt;p&gt;De esta manera, podemos lograr que la representación en la interfaz de usuario para un campo entero con valor 1 sea 'uno', y su valor para edición sea 'one'&lt;/p&gt;&#xA;&#xA;&lt;h1&gt;&lt;code&gt;AsString&lt;/code&gt;&lt;/h1&gt;&#xA;&#xA;&lt;p&gt;Por otro lado, la propiedad AsString utiliza una conversión plana entre el tipo de dato base del campo y una cadena de caracteres. Cada descendiente de &lt;code&gt;TField&lt;/code&gt; implementa el método virtual &lt;code&gt;GetAsString&lt;/code&gt; que típicamente utiliza funciones de la RTL para realizar la conversión. Siguiendo con el ejemplo de TFloatField, esta clase llama a la función FloatToStr() para realizar la conversión.&lt;/p&gt;&#xA;&#xA;&lt;h1&gt;La respuesta&lt;/h1&gt;&#xA;&#xA;&lt;p&gt;Dicho todo esto, la respuesta a la pregunta sería:&lt;/p&gt;&#xA;&#xA;&lt;p&gt;AsString retorna usualmente el mismo valor que retorna la propiedad Text, siempre que no haya un manejador de evento para OnGetText, pero la representación podría ser diferente si hubiese un manejador de evento o un descendiente no estándar de TField.&lt;/p&gt;&#xA;&#xA;&lt;p&gt;Con la información dada, no puede decirse cuál es más apropiado, ya que esto depende de cuál es el uso que se le dará al valor retornado. Si se está utilizando para mostrar valores en la Interfaz de usuario, como se muestra en los ejemplos de código proporcionados, mi consejo es que utilices la propiedad &lt;code&gt;DisplayText&lt;/code&gt;.&lt;/p&gt;&#xA;\",2015-10-30T13:59:47.113,,21\r\n"
          ]
        }
      ],
      "source": [
        "!head Posts.csv"
      ]
    },
    {
      "cell_type": "markdown",
      "metadata": {
        "id": "sjUZekvLV3cC"
      },
      "source": [
        "## Conversión hacia JSON"
      ]
    },
    {
      "cell_type": "markdown",
      "metadata": {
        "id": "210crSGrV7vU"
      },
      "source": [
        "El siguiente código convierte el fichero CSV en al formato JSON que podéis ver en: https://www.json.org/json-en.html. El código funciona, pero tiene el problema de que para convertir todo a JSON, se tiene que generar un objeto (diccionario) JSON con **todos** los datos, que se tiene que almacenar en memoria. Esto no es siempre posible. Después veremos otro formato que no tiene este problema."
      ]
    },
    {
      "cell_type": "code",
      "execution_count": 20,
      "metadata": {
        "id": "gjF5rNC2e68h"
      },
      "outputs": [],
      "source": [
        "import json\n",
        "\n",
        "def csv_to_json(fname_csv: str, fname_json: str, primary_key: str) -> None:\n",
        "    data_dict: dict[str,dict] = {}\n",
        "\n",
        "    with open(fname_csv, \"r\") as f_csv:\n",
        "        csv_reader = csv.DictReader(f_csv)\n",
        "\n",
        "        for row in csv_reader:\n",
        "            key: str = row[primary_key]\n",
        "            data_dict[key] = row\n",
        "\n",
        "    with open(fname_json, 'w') as f_json:\n",
        "        f_json.write(json.dumps(data_dict, indent=4))"
      ]
    },
    {
      "cell_type": "code",
      "execution_count": 21,
      "metadata": {
        "id": "evSVXVNRAH4h"
      },
      "outputs": [],
      "source": [
        "fname_csv = 'Posts.csv'\n",
        "fname_json = 'Posts.json'\n",
        "\n",
        "csv_to_json(fname_csv, fname_json, 'Id')"
      ]
    },
    {
      "cell_type": "code",
      "execution_count": 22,
      "metadata": {
        "id": "VY2wnvOwAihf",
        "outputId": "0f4d9160-2ae8-412b-8427-e5afb2d7879e",
        "colab": {
          "base_uri": "https://localhost:8080/"
        }
      },
      "outputs": [
        {
          "output_type": "stream",
          "name": "stdout",
          "text": [
            "{\n",
            "    \"1\": {\n",
            "        \"Id\": \"1\",\n",
            "        \"Score\": \"40\",\n",
            "        \"ClosedDate\": \"\",\n",
            "        \"AcceptedAnswerId\": \"2\",\n",
            "        \"Title\": \"La creaci\\u00f3n manual de un alias de ruta con un DirectRouteProvider personalizado causa un error &quot;Multiple actions were found that match the request&quot;\",\n",
            "        \"ContentLicense\": \"CC BY-SA 4.0\",\n",
            "        \"PostTypeId\": \"1\",\n",
            "        \"LastActivityDate\": \"2021-03-12T17:49:40.687\",\n"
          ]
        }
      ],
      "source": [
        "!head Posts.json"
      ]
    },
    {
      "cell_type": "markdown",
      "metadata": {
        "id": "uVMEPMKVIjwd"
      },
      "source": [
        "Si nos damos cuenta, tenemos el problema de que el valor Id está por duplicado.\n",
        "\n",
        "Vamos a ver cómo eliminar columnas que no queramos tener.\n"
      ]
    },
    {
      "cell_type": "code",
      "execution_count": 23,
      "metadata": {
        "id": "-DHnaiaeDq3B"
      },
      "outputs": [],
      "source": [
        "def csv_to_json2(fname_csv: str, fname_json: str, primary_key: str) -> None:\n",
        "    data_dict: dict[str, dict] = {}\n",
        "\n",
        "    with open(fname_csv, \"r\") as f_csv:\n",
        "        csv_reader = csv.DictReader(f_csv)\n",
        "\n",
        "        for rows in csv_reader:\n",
        "            key: str = rows[primary_key]\n",
        "\n",
        "            # Borramos los campos que nos interesen.\n",
        "            del rows[primary_key]\n",
        "\n",
        "            data_dict[key] = rows\n",
        "\n",
        "    with open(fname_json, 'w') as f_json:\n",
        "        f_json.write(json.dumps(data_dict, indent=4))"
      ]
    },
    {
      "cell_type": "code",
      "execution_count": 24,
      "metadata": {
        "id": "0pBXBaVxDyfk"
      },
      "outputs": [],
      "source": [
        "fname_csv = 'Posts.csv'\n",
        "fname_json = 'Posts.json'\n",
        "\n",
        "csv_to_json2(fname_csv, fname_json, 'Id')"
      ]
    },
    {
      "cell_type": "code",
      "execution_count": 25,
      "metadata": {
        "id": "h1D7hKFCD2nn",
        "outputId": "cf412b8e-c558-40a6-db5d-a93d562c6f63",
        "colab": {
          "base_uri": "https://localhost:8080/"
        }
      },
      "outputs": [
        {
          "output_type": "stream",
          "name": "stdout",
          "text": [
            "{\n",
            "    \"1\": {\n",
            "        \"Score\": \"40\",\n",
            "        \"ClosedDate\": \"\",\n",
            "        \"AcceptedAnswerId\": \"2\",\n",
            "        \"Title\": \"La creaci\\u00f3n manual de un alias de ruta con un DirectRouteProvider personalizado causa un error &quot;Multiple actions were found that match the request&quot;\",\n",
            "        \"ContentLicense\": \"CC BY-SA 4.0\",\n",
            "        \"PostTypeId\": \"1\",\n",
            "        \"LastActivityDate\": \"2021-03-12T17:49:40.687\",\n",
            "        \"LastEditDate\": \"2019-07-07T21:36:17.737\",\n",
            "        \"AnswerCount\": \"1\",\n",
            "        \"CommentCount\": \"2\",\n",
            "        \"LastEditorUserId\": \"\",\n",
            "        \"CommunityOwnedDate\": \"\",\n",
            "        \"Tags\": \"&lt;.net&gt;&lt;asp.net-web-api&gt;&lt;asp.net&gt;\",\n",
            "        \"LastEditorDisplayName\": \"user13558\",\n",
            "        \"FavoriteCount\": \"\",\n",
            "        \"ParentId\": \"\",\n",
            "        \"OwnerDisplayName\": \"\",\n",
            "        \"Body\": \"&lt;p&gt;Estoy creando un servicio usando &lt;em&gt;ASP.NET WebApi&lt;/em&gt;. Quiero a\\u00f1adir soporte para la negociaci\\u00f3n del tipo de contenido basado en extensiones en el &lt;em&gt;URI&lt;/em&gt;, as\\u00ed que he a\\u00f1adido lo siguiente al c\\u00f3digo de inicializaci\\u00f3n del servicio:&lt;/p&gt;&#xA;&#xA;&lt;pre&gt;&lt;code&gt;public static class WebApiConfig&#xA;{&#xA;  public static void Register(HttpConfiguration config)&#xA;  {&#xA;    config.Formatters.JsonFormatter.AddUriPathExtensionMapping(&quot;json&quot;, &quot;application/json&quot;);&#xA;    config.Formatters.XmlFormatter.AddUriPathExtensionMapping(&quot;xml&quot;, &quot;application/xml&quot;);&#xA;  }&#xA;}&#xA;&lt;/code&gt;&lt;/pre&gt;&#xA;&#xA;&lt;p&gt;Para que esto funcione necesito crear dos rutas para cada acci\\u00f3n del controlador (estoy usando exclusivamente enrutamiento basado en atributos):&lt;/p&gt;&#xA;&#xA;&lt;pre&gt;&lt;code&gt;[Route(&quot;item/{id}/details&quot;)]&#xA;[Route(&quot;item/{id}/details.{ext}&quot;)]&#xA;[HttpGet]&#xA;public ItemDetail[] GetItemDetails(int id)&#xA;{&#xA;  return itemsService.GetItemDetails(id);&#xA;}&#xA;&#xA;[Route(&quot;item/{name}&quot;)]&#xA;[Route(&quot;item/{name}.{ext}&quot;)]&#xA;[HttpPost]&#xA;public int CreateItem(string name)&#xA;{&#xA;  return itemsService.Create(name);&#xA;}&#xA;&lt;/code&gt;&lt;/pre&gt;&#xA;&#xA;&lt;p&gt;Esto queda feo y hace que el c\\u00f3digo sea innecesariamente largo, as\\u00ed que investigu\\u00e9 una forma de a\\u00f1adir la ruta con la extensi\\u00f3n, autom\\u00e1ticamente cuando se crea la ruta normal. Como resultado desarroll\\u00e9 una implementaci\\u00f3n personalizada de &lt;code&gt;IDirectRouteProvider&lt;/code&gt; que puedo usar al registrar los atributos de ruta:&lt;/p&gt;&#xA;&#xA;&lt;pre&gt;&lt;code&gt;config.MapHttpAttributeRoutes(new AutomaticExtensionRouteProvider());&#xA;&lt;/code&gt;&lt;/pre&gt;&#xA;&#xA;&lt;p&gt;El c\\u00f3digo del proveedor personalizado es:&lt;/p&gt;&#xA;&#xA;&lt;pre&gt;&lt;code&gt;public class AutomaticExtensionRouteProvider : DefaultDirectRouteProvider&#xA;{&#xA;    protected override IReadOnlyList&amp;lt;RouteEntry&amp;gt; GetActionDirectRoutes(&#xA;      HttpActionDescriptor actionDescriptor,&#xA;      IReadOnlyList&amp;lt;IDirectRouteFactory&amp;gt; factories,&#xA;      IInlineConstraintResolver constraintResolver)&#xA;    {&#xA;        var result = base.GetActionDirectRoutes(actionDescriptor, factories, constraintResolver);&#xA;        var list = new List&amp;lt;RouteEntry&amp;gt;(result);&#xA;        foreach(var route in result.Where(r =&amp;gt; !r.Route.RouteTemplate.EndsWith(&quot;.{ext}&quot;)))&#xA;        {&#xA;            var newTemplate = route.Route.RouteTemplate + &quot;.{ext}&quot;;&#xA;            if (!result.Any(r =&amp;gt; r.Route.RouteTemplate == newTemplate))&#xA;            {&#xA;                var entry = new RouteEntry(null, new HttpRoute(newTemplate,&#xA;                    new HttpRouteValueDictionary(route.Route.Defaults),&#xA;                    new HttpRouteValueDictionary(route.Route.Constraints),&#xA;                    new HttpRouteValueDictionary(route.Route.DataTokens)));&#xA;                list.Add(entry);&#xA;            }&#xA;        }&#xA;        return list.AsReadOnly();&#xA;    }&#xA;}&#xA;&lt;/code&gt;&lt;/pre&gt;&#xA;&#xA;&lt;p&gt;El problema es que esto funciona bien, pero falla en un caso: &lt;strong&gt;Cuando la \\u00faltima parte de la ruta es un par\\u00e1metro sin restricciones&lt;/strong&gt;. As\\u00ed pues, en el ejemplo anterior, la creaci\\u00f3n de rutas para &lt;code&gt;GetItemDetails&lt;/code&gt; funciona, pero para &lt;code&gt;CreateItem&lt;/code&gt; lanza lo siguiente:&lt;/p&gt;&#xA;&#xA;&lt;pre&gt;&lt;code&gt;System.InvalidOperationException: Multiple actions were found that match the request: &#xA;CreateItem on type FooBar.Api.Controllers.ItemsController&#xA;CreateItem on type FooBar.Api.Controllers.ItemsController&#xA;   at System.Web.Http.Controllers.ApiControllerActionSelector.ActionSelectorCacheItem.SelectAction(HttpControllerContext controllerContext)&#xA;   at System.Web.Http.Controllers.ApiControllerActionSelector.SelectAction(HttpControllerContext controllerContext)&#xA;&lt;/code&gt;&lt;/pre&gt;&#xA;&#xA;&lt;p&gt;Me imagino de d\\u00f3nde puede venir el problema: Una cadena arbitraria cumple los patrones &lt;code&gt;{name}&lt;/code&gt; y &lt;code&gt;{name}.{ext}&lt;/code&gt;, por lo que el motor de &lt;em&gt;WebApi&lt;/em&gt; se confunde al intentar seleccionar la ruta adecuada. &lt;strong&gt;Pero entonces, \\u00bfPor qu\\u00e9 funciona cuando se especifican las dos rutas expl\\u00edcitamente en atributos?&lt;/strong&gt; Por lo que yo entiendo, la ruta que yo creo en la clase &lt;code&gt;AutomaticExtensionRouteProvider&lt;/code&gt; es id\\u00e9ntica a la que se crea expl\\u00edcitamente con un atributo (y si depuro veo que en efecto as\\u00ed es).&lt;/p&gt;&#xA;&#xA;&lt;p&gt;As\\u00ed pues, \\u00bfQu\\u00e9 est\\u00e1 pasando aqu\\u00ed?&lt;/p&gt;&#xA;\",\n",
            "        \"CreationDate\": \"2015-10-29T15:56:52.933\",\n",
            "        \"ViewCount\": \"780\",\n",
            "        \"OwnerUserId\": \"23\"\n",
            "    },\n",
            "    \"2\": {\n",
            "        \"Score\": \"31\",\n",
            "        \"ClosedDate\": \"\",\n",
            "        \"AcceptedAnswerId\": \"\",\n",
            "        \"Title\": \"\",\n",
            "        \"ContentLicense\": \"CC BY-SA 3.0\",\n",
            "        \"PostTypeId\": \"2\",\n",
            "        \"LastActivityDate\": \"2015-10-29T19:14:23.673\",\n",
            "        \"LastEditDate\": \"\",\n",
            "        \"AnswerCount\": \"\",\n",
            "        \"CommentCount\": \"2\",\n",
            "        \"LastEditorUserId\": \"\",\n",
            "        \"CommunityOwnedDate\": \"\",\n",
            "        \"Tags\": \"\",\n",
            "        \"LastEditorDisplayName\": \"\",\n",
            "        \"FavoriteCount\": \"\",\n",
            "        \"ParentId\": \"1\",\n",
            "        \"OwnerDisplayName\": \"\",\n",
            "        \"Body\": \"&lt;p&gt;He encontrado la soluci\\u00f3n.&lt;/p&gt;&#xA;&#xA;&lt;p&gt;Resulta que las rutas tienen asignada una &lt;strong&gt;precedencia&lt;/strong&gt; num\\u00e9rica asignada, que el motor de enrutamiento de WebApi usa para decidir qu\\u00e9 ruta usar en caso de conflicto. Las rutas creadas autom\\u00e1ticamente para una misma acci\\u00f3n siempre tienen una precedencia distinta, \\u00a1pero la ruta que yo estaba creando manualmente ten\\u00eda la misma precedencia que la ya existente!&lt;/p&gt;&#xA;&#xA;&lt;p&gt;As\\u00ed pues la soluci\\u00f3n es a\\u00f1adir lo siguiente a &lt;code&gt;GetActionDirectRoutes&lt;/code&gt;, inmediatamente despu\\u00e9s de &lt;code&gt;new RouteEntry&lt;/code&gt;:&lt;/p&gt;&#xA;&#xA;&lt;pre&gt;&lt;code&gt;entry.Route.DataTokens[&quot;precedence&quot;] = &#xA;    ((decimal)route.Route.DataTokens[&quot;precedence&quot;]) - 0.1M;&#xA;&lt;/code&gt;&lt;/pre&gt;&#xA;\",\n",
            "        \"CreationDate\": \"2015-10-29T19:14:23.673\",\n",
            "        \"ViewCount\": \"\",\n",
            "        \"OwnerUserId\": \"23\"\n",
            "    },\n",
            "    \"3\": {\n",
            "        \"Score\": \"20\",\n",
            "        \"ClosedDate\": \"\",\n",
            "        \"AcceptedAnswerId\": \"9\",\n",
            "        \"Title\": \"\\u00bfEs igual utilizar .AsString que .Text para obtener el valor de un campo de un DataSet?\",\n",
            "        \"ContentLicense\": \"CC BY-SA 3.0\",\n",
            "        \"PostTypeId\": \"1\",\n",
            "        \"LastActivityDate\": \"2015-12-18T20:19:25.133\",\n",
            "        \"LastEditDate\": \"2015-12-03T16:24:56.370\",\n",
            "        \"AnswerCount\": \"3\",\n",
            "        \"CommentCount\": \"1\",\n",
            "        \"LastEditorUserId\": \"20\",\n",
            "        \"CommunityOwnedDate\": \"\",\n",
            "        \"Tags\": \"&lt;delphi&gt;\",\n",
            "        \"LastEditorDisplayName\": \"\",\n",
            "        \"FavoriteCount\": \"\",\n",
            "        \"ParentId\": \"\",\n",
            "        \"OwnerDisplayName\": \"\",\n",
            "        \"Body\": \"&lt;p&gt;Luego de ver cierto c\\u00f3digo, me he dado cuenta que utilizan este estilo:&lt;/p&gt;&#xA;&#xA;&lt;pre&gt;&lt;code&gt;aStr:=tblAcct.FieldByName('Name').Text;&#xA;&lt;/code&gt;&lt;/pre&gt;&#xA;&#xA;&lt;p&gt;Parece trabajar bien, pero yo hab\\u00eda utilizado hasta ahora:&lt;/p&gt;&#xA;&#xA;&lt;pre&gt;&lt;code&gt;aStr:=tblAcct.FieldByName('Name').AsString;&#xA;&lt;/code&gt;&lt;/pre&gt;&#xA;&#xA;&lt;p&gt;He utilizado ambos al cargar un TMemo y no parece haber diferencia alguna.&lt;/p&gt;&#xA;&#xA;&lt;pre&gt;&lt;code&gt;aMemo.Lines.Text:=tblAcct.FieldByName('History').Text;&#xA;aMemo.Lines.Text:=tblAcct.FieldByName('History').AsString;&#xA;&lt;/code&gt;&lt;/pre&gt;&#xA;&#xA;&lt;p&gt;\\u00bfHay alguna raz\\u00f3n por la que deba utilizar una y no la otra? \\u00bfCu\\u00e1l es esa raz\\u00f3n?&lt;/p&gt;&#xA;&#xA;&lt;p&gt;Normalmente, para un memo, utilizo:&lt;/p&gt;&#xA;&#xA;&lt;pre&gt;&lt;code&gt;aMemo.Lines.Assign(tblAcct.FieldByName('History'))&#xA;&lt;/code&gt;&lt;/pre&gt;&#xA;&#xA;&lt;p&gt;Y esto trabaja bien tambi\\u00e9n.&lt;/p&gt;&#xA;\",\n",
            "        \"CreationDate\": \"2015-10-29T23:54:31.947\",\n",
            "        \"ViewCount\": \"1035\",\n",
            "        \"OwnerUserId\": \"21\"\n",
            "    },\n",
            "    \"4\": {\n",
            "        \"Score\": \"6\",\n",
            "        \"ClosedDate\": \"\",\n",
            "        \"AcceptedAnswerId\": \"\",\n",
            "        \"Title\": \"\",\n",
            "        \"ContentLicense\": \"CC BY-SA 3.0\",\n",
            "        \"PostTypeId\": \"2\",\n",
            "        \"LastActivityDate\": \"2015-12-14T00:58:15.613\",\n",
            "        \"LastEditDate\": \"2015-12-14T00:58:15.613\",\n",
            "        \"AnswerCount\": \"\",\n",
            "        \"CommentCount\": \"0\",\n",
            "        \"LastEditorUserId\": \"25\",\n",
            "        \"CommunityOwnedDate\": \"\",\n",
            "        \"Tags\": \"\",\n",
            "        \"LastEditorDisplayName\": \"\",\n",
            "        \"FavoriteCount\": \"\",\n",
            "        \"ParentId\": \"3\",\n",
            "        \"OwnerDisplayName\": \"\",\n",
            "        \"Body\": \"&lt;p&gt;&lt;code&gt;.AsString&lt;/code&gt; devuelve el mismo &quot;&lt;em&gt;string&lt;/em&gt;&quot; que la propiedad &lt;code&gt;.Text&lt;/code&gt; si no existe ning\\u00fan controlador de eventos &quot;Event Handler&quot;, &lt;code&gt;OnGetText&lt;/code&gt;, pero de existir uno puede darse el caso de ser diferente, o quiz\\u00e1s un descendiente en &lt;code&gt;TField&lt;/code&gt; que no sea el est\\u00e1ndar podr\\u00eda ocasionar que fuera diferente.&lt;/p&gt;&#xA;&#xA;&lt;p&gt;Saludos y espero ayude.&lt;/p&gt;&#xA;&#xA;&lt;p&gt;P.D: Sobre si hay una raz\\u00f3n para usar una u otra no sabr\\u00eda decirle con total certeza eso depender\\u00eda del uso que tenga previsto para el valor de retorno.&lt;/p&gt;&#xA;\",\n",
            "        \"CreationDate\": \"2015-10-30T00:45:47.640\",\n",
            "        \"ViewCount\": \"\",\n",
            "        \"OwnerUserId\": \"24\"\n",
            "    },\n",
            "    \"5\": {\n",
            "        \"Score\": \"37\",\n",
            "        \"ClosedDate\": \"\",\n",
            "        \"AcceptedAnswerId\": \"208\",\n",
            "        \"Title\": \"\\u00bfC\\u00f3mo separar las palabras que contiene un string en C++? 'Split '\",\n",
            "        \"ContentLicense\": \"CC BY-SA 3.0\",\n",
            "        \"PostTypeId\": \"1\",\n"
          ]
        }
      ],
      "source": [
        "!head -n 100 Posts.json"
      ]
    },
    {
      "cell_type": "markdown",
      "metadata": {
        "id": "bbsLc5dVFDKK"
      },
      "source": [
        "Al escribir en formato JSON se nos queda un fichero compacto que no podemos dividir."
      ]
    },
    {
      "cell_type": "markdown",
      "metadata": {
        "id": "P2ZC7QteFRtI"
      },
      "source": [
        "## JSON Lines"
      ]
    },
    {
      "cell_type": "markdown",
      "metadata": {
        "id": "Z0IDPf8tONmB"
      },
      "source": [
        "Para evitar el problema anterior (que todo el fichero es un JSON gigante que hay que leer en memoria antes de procesarlo), se creó el formato JSON Lines. En vez de tener un array que incluya a todo el fichero, se obliga a que cada objeto JSON incluido en el fichero esté en su propia línea.\n",
        "\n",
        "Si algún elemento del JSON contiene un salto de línea, se codifica de alguna forma, como por ejemplo como `'\\n'`. De esta forma ya están los datos en CSV, así que la conversión no será problemática.\n",
        "\n",
        "Más información: https://jsonlines.org."
      ]
    },
    {
      "cell_type": "code",
      "execution_count": 26,
      "metadata": {
        "id": "CQpiJSUJFXKW"
      },
      "outputs": [],
      "source": [
        "import json\n",
        "\n",
        "def csv_to_jsonl(fname_csv, fname_jsonl):\n",
        "    with open(fname_csv, 'r') as f_csv:\n",
        "        csv_reader = csv.DictReader(f_csv)\n",
        "\n",
        "        with open(fname_jsonl, 'w') as f_jsonl:\n",
        "            for row in csv_reader:\n",
        "                json_line: str = json.dumps(row)\n",
        "                f_jsonl.write(json_line)\n",
        "                f_jsonl.write(\"\\n\")"
      ]
    },
    {
      "cell_type": "code",
      "execution_count": 27,
      "metadata": {
        "id": "2r2jtQoIJKcy"
      },
      "outputs": [],
      "source": [
        "csv_to_jsonl('Posts.csv', 'Posts.jsonl')"
      ]
    },
    {
      "cell_type": "code",
      "execution_count": 28,
      "metadata": {
        "id": "lsPl8iCIJlRN",
        "outputId": "09b3e4de-29e8-4412-b403-dc72e1a79296",
        "colab": {
          "base_uri": "https://localhost:8080/"
        }
      },
      "outputs": [
        {
          "output_type": "stream",
          "name": "stdout",
          "text": [
            "{\"Id\": \"1\", \"Score\": \"40\", \"ClosedDate\": \"\", \"AcceptedAnswerId\": \"2\", \"Title\": \"La creaci\\u00f3n manual de un alias de ruta con un DirectRouteProvider personalizado causa un error &quot;Multiple actions were found that match the request&quot;\", \"ContentLicense\": \"CC BY-SA 4.0\", \"PostTypeId\": \"1\", \"LastActivityDate\": \"2021-03-12T17:49:40.687\", \"LastEditDate\": \"2019-07-07T21:36:17.737\", \"AnswerCount\": \"1\", \"CommentCount\": \"2\", \"LastEditorUserId\": \"\", \"CommunityOwnedDate\": \"\", \"Tags\": \"&lt;.net&gt;&lt;asp.net-web-api&gt;&lt;asp.net&gt;\", \"LastEditorDisplayName\": \"user13558\", \"FavoriteCount\": \"\", \"ParentId\": \"\", \"OwnerDisplayName\": \"\", \"Body\": \"&lt;p&gt;Estoy creando un servicio usando &lt;em&gt;ASP.NET WebApi&lt;/em&gt;. Quiero a\\u00f1adir soporte para la negociaci\\u00f3n del tipo de contenido basado en extensiones en el &lt;em&gt;URI&lt;/em&gt;, as\\u00ed que he a\\u00f1adido lo siguiente al c\\u00f3digo de inicializaci\\u00f3n del servicio:&lt;/p&gt;&#xA;&#xA;&lt;pre&gt;&lt;code&gt;public static class WebApiConfig&#xA;{&#xA;  public static void Register(HttpConfiguration config)&#xA;  {&#xA;    config.Formatters.JsonFormatter.AddUriPathExtensionMapping(&quot;json&quot;, &quot;application/json&quot;);&#xA;    config.Formatters.XmlFormatter.AddUriPathExtensionMapping(&quot;xml&quot;, &quot;application/xml&quot;);&#xA;  }&#xA;}&#xA;&lt;/code&gt;&lt;/pre&gt;&#xA;&#xA;&lt;p&gt;Para que esto funcione necesito crear dos rutas para cada acci\\u00f3n del controlador (estoy usando exclusivamente enrutamiento basado en atributos):&lt;/p&gt;&#xA;&#xA;&lt;pre&gt;&lt;code&gt;[Route(&quot;item/{id}/details&quot;)]&#xA;[Route(&quot;item/{id}/details.{ext}&quot;)]&#xA;[HttpGet]&#xA;public ItemDetail[] GetItemDetails(int id)&#xA;{&#xA;  return itemsService.GetItemDetails(id);&#xA;}&#xA;&#xA;[Route(&quot;item/{name}&quot;)]&#xA;[Route(&quot;item/{name}.{ext}&quot;)]&#xA;[HttpPost]&#xA;public int CreateItem(string name)&#xA;{&#xA;  return itemsService.Create(name);&#xA;}&#xA;&lt;/code&gt;&lt;/pre&gt;&#xA;&#xA;&lt;p&gt;Esto queda feo y hace que el c\\u00f3digo sea innecesariamente largo, as\\u00ed que investigu\\u00e9 una forma de a\\u00f1adir la ruta con la extensi\\u00f3n, autom\\u00e1ticamente cuando se crea la ruta normal. Como resultado desarroll\\u00e9 una implementaci\\u00f3n personalizada de &lt;code&gt;IDirectRouteProvider&lt;/code&gt; que puedo usar al registrar los atributos de ruta:&lt;/p&gt;&#xA;&#xA;&lt;pre&gt;&lt;code&gt;config.MapHttpAttributeRoutes(new AutomaticExtensionRouteProvider());&#xA;&lt;/code&gt;&lt;/pre&gt;&#xA;&#xA;&lt;p&gt;El c\\u00f3digo del proveedor personalizado es:&lt;/p&gt;&#xA;&#xA;&lt;pre&gt;&lt;code&gt;public class AutomaticExtensionRouteProvider : DefaultDirectRouteProvider&#xA;{&#xA;    protected override IReadOnlyList&amp;lt;RouteEntry&amp;gt; GetActionDirectRoutes(&#xA;      HttpActionDescriptor actionDescriptor,&#xA;      IReadOnlyList&amp;lt;IDirectRouteFactory&amp;gt; factories,&#xA;      IInlineConstraintResolver constraintResolver)&#xA;    {&#xA;        var result = base.GetActionDirectRoutes(actionDescriptor, factories, constraintResolver);&#xA;        var list = new List&amp;lt;RouteEntry&amp;gt;(result);&#xA;        foreach(var route in result.Where(r =&amp;gt; !r.Route.RouteTemplate.EndsWith(&quot;.{ext}&quot;)))&#xA;        {&#xA;            var newTemplate = route.Route.RouteTemplate + &quot;.{ext}&quot;;&#xA;            if (!result.Any(r =&amp;gt; r.Route.RouteTemplate == newTemplate))&#xA;            {&#xA;                var entry = new RouteEntry(null, new HttpRoute(newTemplate,&#xA;                    new HttpRouteValueDictionary(route.Route.Defaults),&#xA;                    new HttpRouteValueDictionary(route.Route.Constraints),&#xA;                    new HttpRouteValueDictionary(route.Route.DataTokens)));&#xA;                list.Add(entry);&#xA;            }&#xA;        }&#xA;        return list.AsReadOnly();&#xA;    }&#xA;}&#xA;&lt;/code&gt;&lt;/pre&gt;&#xA;&#xA;&lt;p&gt;El problema es que esto funciona bien, pero falla en un caso: &lt;strong&gt;Cuando la \\u00faltima parte de la ruta es un par\\u00e1metro sin restricciones&lt;/strong&gt;. As\\u00ed pues, en el ejemplo anterior, la creaci\\u00f3n de rutas para &lt;code&gt;GetItemDetails&lt;/code&gt; funciona, pero para &lt;code&gt;CreateItem&lt;/code&gt; lanza lo siguiente:&lt;/p&gt;&#xA;&#xA;&lt;pre&gt;&lt;code&gt;System.InvalidOperationException: Multiple actions were found that match the request: &#xA;CreateItem on type FooBar.Api.Controllers.ItemsController&#xA;CreateItem on type FooBar.Api.Controllers.ItemsController&#xA;   at System.Web.Http.Controllers.ApiControllerActionSelector.ActionSelectorCacheItem.SelectAction(HttpControllerContext controllerContext)&#xA;   at System.Web.Http.Controllers.ApiControllerActionSelector.SelectAction(HttpControllerContext controllerContext)&#xA;&lt;/code&gt;&lt;/pre&gt;&#xA;&#xA;&lt;p&gt;Me imagino de d\\u00f3nde puede venir el problema: Una cadena arbitraria cumple los patrones &lt;code&gt;{name}&lt;/code&gt; y &lt;code&gt;{name}.{ext}&lt;/code&gt;, por lo que el motor de &lt;em&gt;WebApi&lt;/em&gt; se confunde al intentar seleccionar la ruta adecuada. &lt;strong&gt;Pero entonces, \\u00bfPor qu\\u00e9 funciona cuando se especifican las dos rutas expl\\u00edcitamente en atributos?&lt;/strong&gt; Por lo que yo entiendo, la ruta que yo creo en la clase &lt;code&gt;AutomaticExtensionRouteProvider&lt;/code&gt; es id\\u00e9ntica a la que se crea expl\\u00edcitamente con un atributo (y si depuro veo que en efecto as\\u00ed es).&lt;/p&gt;&#xA;&#xA;&lt;p&gt;As\\u00ed pues, \\u00bfQu\\u00e9 est\\u00e1 pasando aqu\\u00ed?&lt;/p&gt;&#xA;\", \"CreationDate\": \"2015-10-29T15:56:52.933\", \"ViewCount\": \"780\", \"OwnerUserId\": \"23\"}\n",
            "{\"Id\": \"2\", \"Score\": \"31\", \"ClosedDate\": \"\", \"AcceptedAnswerId\": \"\", \"Title\": \"\", \"ContentLicense\": \"CC BY-SA 3.0\", \"PostTypeId\": \"2\", \"LastActivityDate\": \"2015-10-29T19:14:23.673\", \"LastEditDate\": \"\", \"AnswerCount\": \"\", \"CommentCount\": \"2\", \"LastEditorUserId\": \"\", \"CommunityOwnedDate\": \"\", \"Tags\": \"\", \"LastEditorDisplayName\": \"\", \"FavoriteCount\": \"\", \"ParentId\": \"1\", \"OwnerDisplayName\": \"\", \"Body\": \"&lt;p&gt;He encontrado la soluci\\u00f3n.&lt;/p&gt;&#xA;&#xA;&lt;p&gt;Resulta que las rutas tienen asignada una &lt;strong&gt;precedencia&lt;/strong&gt; num\\u00e9rica asignada, que el motor de enrutamiento de WebApi usa para decidir qu\\u00e9 ruta usar en caso de conflicto. Las rutas creadas autom\\u00e1ticamente para una misma acci\\u00f3n siempre tienen una precedencia distinta, \\u00a1pero la ruta que yo estaba creando manualmente ten\\u00eda la misma precedencia que la ya existente!&lt;/p&gt;&#xA;&#xA;&lt;p&gt;As\\u00ed pues la soluci\\u00f3n es a\\u00f1adir lo siguiente a &lt;code&gt;GetActionDirectRoutes&lt;/code&gt;, inmediatamente despu\\u00e9s de &lt;code&gt;new RouteEntry&lt;/code&gt;:&lt;/p&gt;&#xA;&#xA;&lt;pre&gt;&lt;code&gt;entry.Route.DataTokens[&quot;precedence&quot;] = &#xA;    ((decimal)route.Route.DataTokens[&quot;precedence&quot;]) - 0.1M;&#xA;&lt;/code&gt;&lt;/pre&gt;&#xA;\", \"CreationDate\": \"2015-10-29T19:14:23.673\", \"ViewCount\": \"\", \"OwnerUserId\": \"23\"}\n",
            "{\"Id\": \"3\", \"Score\": \"20\", \"ClosedDate\": \"\", \"AcceptedAnswerId\": \"9\", \"Title\": \"\\u00bfEs igual utilizar .AsString que .Text para obtener el valor de un campo de un DataSet?\", \"ContentLicense\": \"CC BY-SA 3.0\", \"PostTypeId\": \"1\", \"LastActivityDate\": \"2015-12-18T20:19:25.133\", \"LastEditDate\": \"2015-12-03T16:24:56.370\", \"AnswerCount\": \"3\", \"CommentCount\": \"1\", \"LastEditorUserId\": \"20\", \"CommunityOwnedDate\": \"\", \"Tags\": \"&lt;delphi&gt;\", \"LastEditorDisplayName\": \"\", \"FavoriteCount\": \"\", \"ParentId\": \"\", \"OwnerDisplayName\": \"\", \"Body\": \"&lt;p&gt;Luego de ver cierto c\\u00f3digo, me he dado cuenta que utilizan este estilo:&lt;/p&gt;&#xA;&#xA;&lt;pre&gt;&lt;code&gt;aStr:=tblAcct.FieldByName('Name').Text;&#xA;&lt;/code&gt;&lt;/pre&gt;&#xA;&#xA;&lt;p&gt;Parece trabajar bien, pero yo hab\\u00eda utilizado hasta ahora:&lt;/p&gt;&#xA;&#xA;&lt;pre&gt;&lt;code&gt;aStr:=tblAcct.FieldByName('Name').AsString;&#xA;&lt;/code&gt;&lt;/pre&gt;&#xA;&#xA;&lt;p&gt;He utilizado ambos al cargar un TMemo y no parece haber diferencia alguna.&lt;/p&gt;&#xA;&#xA;&lt;pre&gt;&lt;code&gt;aMemo.Lines.Text:=tblAcct.FieldByName('History').Text;&#xA;aMemo.Lines.Text:=tblAcct.FieldByName('History').AsString;&#xA;&lt;/code&gt;&lt;/pre&gt;&#xA;&#xA;&lt;p&gt;\\u00bfHay alguna raz\\u00f3n por la que deba utilizar una y no la otra? \\u00bfCu\\u00e1l es esa raz\\u00f3n?&lt;/p&gt;&#xA;&#xA;&lt;p&gt;Normalmente, para un memo, utilizo:&lt;/p&gt;&#xA;&#xA;&lt;pre&gt;&lt;code&gt;aMemo.Lines.Assign(tblAcct.FieldByName('History'))&#xA;&lt;/code&gt;&lt;/pre&gt;&#xA;&#xA;&lt;p&gt;Y esto trabaja bien tambi\\u00e9n.&lt;/p&gt;&#xA;\", \"CreationDate\": \"2015-10-29T23:54:31.947\", \"ViewCount\": \"1035\", \"OwnerUserId\": \"21\"}\n",
            "{\"Id\": \"4\", \"Score\": \"6\", \"ClosedDate\": \"\", \"AcceptedAnswerId\": \"\", \"Title\": \"\", \"ContentLicense\": \"CC BY-SA 3.0\", \"PostTypeId\": \"2\", \"LastActivityDate\": \"2015-12-14T00:58:15.613\", \"LastEditDate\": \"2015-12-14T00:58:15.613\", \"AnswerCount\": \"\", \"CommentCount\": \"0\", \"LastEditorUserId\": \"25\", \"CommunityOwnedDate\": \"\", \"Tags\": \"\", \"LastEditorDisplayName\": \"\", \"FavoriteCount\": \"\", \"ParentId\": \"3\", \"OwnerDisplayName\": \"\", \"Body\": \"&lt;p&gt;&lt;code&gt;.AsString&lt;/code&gt; devuelve el mismo &quot;&lt;em&gt;string&lt;/em&gt;&quot; que la propiedad &lt;code&gt;.Text&lt;/code&gt; si no existe ning\\u00fan controlador de eventos &quot;Event Handler&quot;, &lt;code&gt;OnGetText&lt;/code&gt;, pero de existir uno puede darse el caso de ser diferente, o quiz\\u00e1s un descendiente en &lt;code&gt;TField&lt;/code&gt; que no sea el est\\u00e1ndar podr\\u00eda ocasionar que fuera diferente.&lt;/p&gt;&#xA;&#xA;&lt;p&gt;Saludos y espero ayude.&lt;/p&gt;&#xA;&#xA;&lt;p&gt;P.D: Sobre si hay una raz\\u00f3n para usar una u otra no sabr\\u00eda decirle con total certeza eso depender\\u00eda del uso que tenga previsto para el valor de retorno.&lt;/p&gt;&#xA;\", \"CreationDate\": \"2015-10-30T00:45:47.640\", \"ViewCount\": \"\", \"OwnerUserId\": \"24\"}\n",
            "{\"Id\": \"5\", \"Score\": \"37\", \"ClosedDate\": \"\", \"AcceptedAnswerId\": \"208\", \"Title\": \"\\u00bfC\\u00f3mo separar las palabras que contiene un string en C++? 'Split '\", \"ContentLicense\": \"CC BY-SA 3.0\", \"PostTypeId\": \"1\", \"LastActivityDate\": \"2020-06-30T02:23:26.197\", \"LastEditDate\": \"2016-09-27T17:46:24.900\", \"AnswerCount\": \"7\", \"CommentCount\": \"1\", \"LastEditorUserId\": \"729\", \"CommunityOwnedDate\": \"\", \"Tags\": \"&lt;c++&gt;&lt;string&gt;\", \"LastEditorDisplayName\": \"\", \"FavoriteCount\": \"\", \"ParentId\": \"\", \"OwnerDisplayName\": \"\", \"Body\": \"&lt;p&gt;\\u00bfCu\\u00e1l es la forma m\\u00e1s eficiente de separar un string en &lt;code&gt;c++&lt;/code&gt;? como el que se muestra en el c\\u00f3digo, el cual contiene espacios entre las palabras, este es el m\\u00e9todo que yo estoy usando actualmente.&lt;/p&gt;&#xA;&#xA;&lt;pre&gt;&lt;code&gt;#include &amp;lt;iostream&amp;gt;&#xA;#include &amp;lt;sstream&amp;gt;&#xA;&#xA;int main(int argc, char** argv){&#xA;&#xA;    std::string str(&quot;Texto para dividir&quot;);&#xA;    std::istringstream isstream(str);&#xA;&#xA;    while(!isstream.eof()){&#xA;&#xA;        std::string tempStr;&#xA;&#xA;        isstream &amp;gt;&amp;gt; tempStr;&#xA;&#xA;        std::cout &amp;lt;&amp;lt; tempStr &amp;lt;&amp;lt; std::endl;&#xA;    }&#xA;&#xA;    return 0;&#xA;}&#xA;&lt;/code&gt;&lt;/pre&gt;&#xA;\", \"CreationDate\": \"2015-10-30T01:15:27.267\", \"ViewCount\": \"37867\", \"OwnerUserId\": \"24\"}\n",
            "{\"Id\": \"6\", \"Score\": \"27\", \"ClosedDate\": \"\", \"AcceptedAnswerId\": \"654\", \"Title\": \"\\u00bfCu\\u00e1ndo usar y es seguro emplear const_cast, static_cast, dynamic_cast, reinterpret_cast?\", \"ContentLicense\": \"CC BY-SA 3.0\", \"PostTypeId\": \"1\", \"LastActivityDate\": \"2018-12-13T13:36:25.260\", \"LastEditDate\": \"2015-12-14T01:05:54.117\", \"AnswerCount\": \"2\", \"CommentCount\": \"0\", \"LastEditorUserId\": \"100\", \"CommunityOwnedDate\": \"\", \"Tags\": \"&lt;c++&gt;&lt;casting&gt;\", \"LastEditorDisplayName\": \"\", \"FavoriteCount\": \"\", \"ParentId\": \"\", \"OwnerDisplayName\": \"\", \"Body\": \"&lt;p&gt;\\u00bfC\\u00f3mo estar seguro o qu\\u00e9 pautas seguir a la hora de usar los moldes expl\\u00edcitos  en &lt;code&gt;C++&lt;/code&gt;?&lt;/p&gt;&#xA;&#xA;&lt;p&gt;Por lo que entiendo al usar los &lt;code&gt;moldes&lt;/code&gt; le estamos pidiendo al compilador que pase de la comprobaci\\u00f3n de tipos, y eso no creo que sea muy bueno si uno no sabe exactamente qu\\u00e9 molde usar. Por eso quer\\u00eda saber qu\\u00e9 gu\\u00edas usan o cosas a tener en cuenta para decidirse por un tipo de molde u otro a la hora de modelar los datos, para determinadas situaciones, y as\\u00ed saber cu\\u00e1ndo es seguro usar uno u otro.&lt;/p&gt;&#xA;&#xA;&lt;ol&gt;&#xA;&lt;li&gt;&lt;code&gt;const_cast&lt;/code&gt;&lt;/li&gt;&#xA;&lt;li&gt;&lt;code&gt;static_cast&lt;/code&gt;&lt;/li&gt;&#xA;&lt;li&gt;&lt;code&gt;dynamic_cast&lt;/code&gt;&lt;/li&gt;&#xA;&lt;li&gt;&lt;code&gt;reinterpret_cast&lt;/code&gt;&lt;/li&gt;&#xA;&lt;/ol&gt;&#xA;\", \"CreationDate\": \"2015-10-30T01:36:21.210\", \"ViewCount\": \"3291\", \"OwnerUserId\": \"24\"}\n",
            "{\"Id\": \"7\", \"Score\": \"29\", \"ClosedDate\": \"\", \"AcceptedAnswerId\": \"\", \"Title\": \"\", \"ContentLicense\": \"CC BY-SA 3.0\", \"PostTypeId\": \"2\", \"LastActivityDate\": \"2017-03-04T04:16:19.167\", \"LastEditDate\": \"2017-03-04T04:16:19.167\", \"AnswerCount\": \"\", \"CommentCount\": \"0\", \"LastEditorUserId\": \"29967\", \"CommunityOwnedDate\": \"\", \"Tags\": \"\", \"LastEditorDisplayName\": \"\", \"FavoriteCount\": \"\", \"ParentId\": \"5\", \"OwnerDisplayName\": \"\", \"Body\": \"&lt;p&gt;Lo de elegancia es algo dif\\u00edcil de decir, es cuesti\\u00f3n de gustos. Pero la legibilidad del c\\u00f3digo siempre es importante. Por eso, este c\\u00f3digo se puede simplificar as\\u00ed: (a mi me parece m\\u00e1s legible)&lt;/p&gt;&#xA;&#xA;&lt;pre&gt;&lt;code&gt;std::string tempStr;&#xA;while(isstream &amp;gt;&amp;gt; tempStr) {&#xA;    std::cout &amp;lt;&amp;lt; tempStr &amp;lt;&amp;lt; std::endl;&#xA;}&#xA;&lt;/code&gt;&lt;/pre&gt;&#xA;&#xA;&lt;p&gt;Con lo cual, metiendo todo en una funci\\u00f3n quedar\\u00eda algo as\\u00ed:&lt;/p&gt;&#xA;&#xA;&lt;pre&gt;&lt;code&gt;std::vector&amp;lt;std::string&amp;gt; split_istringstream(std::string str) {&#xA;    std::vector&amp;lt;std::string&amp;gt; resultado;&#xA;    std::istringstream isstream(str);&#xA;    std::string palabra;&#xA;&#xA;    while(isstream &amp;gt;&amp;gt; palabra){&#xA;        resultado.push_back(palabra);&#xA;    }&#xA;&#xA;    return resultado;&#xA;}&#xA;&lt;/code&gt;&lt;/pre&gt;&#xA;&#xA;&lt;p&gt;Otra alternativa, que incluso permite definir el delimitador (el operador &gt;&gt; de &lt;code&gt;istringstream&lt;/code&gt; solo divide la cadena por los espacios - ASCII 32) es utilizar &lt;a href=&quot;http://es.cppreference.com/w/cpp/string/basic_string/getline&quot; rel=&quot;noreferrer&quot;&gt;std::getline&lt;/a&gt;. &lt;/p&gt;&#xA;&#xA;&lt;pre&gt;&lt;code&gt;std::vector&amp;lt;std::string&amp;gt; split_getline(std::string str, char delim) {&#xA;    std::vector&amp;lt;std::string&amp;gt; resultado;&#xA;    std::istringstream isstream(str);&#xA;    std::string palabra;&#xA;&#xA;    while(std::getline(isstream, palabra, delim)){&#xA;        resultado.push_back(palabra);&#xA;    }&#xA;&#xA;    return resultado;&#xA;}&#xA;&lt;/code&gt;&lt;/pre&gt;&#xA;&#xA;&lt;p&gt;Aqu\\u00ed abajo te dejo una comparativa entre ambas opciones, son pr\\u00e1cticamente iguales en eficiencia, dejando de un lado los vectores, reservan pr\\u00e1cticamente la misma memoria.&lt;/p&gt;&#xA;&#xA;&lt;p&gt;&lt;a href=&quot;http://cpp.sh/3jtw&quot; rel=&quot;noreferrer&quot;&gt;http://cpp.sh/3jtw&lt;/a&gt;&lt;/p&gt;&#xA;\", \"CreationDate\": \"2015-10-30T05:30:50.993\", \"ViewCount\": \"\", \"OwnerUserId\": \"25\"}\n",
            "{\"Id\": \"8\", \"Score\": \"14\", \"ClosedDate\": \"\", \"AcceptedAnswerId\": \"442\", \"Title\": \"&quot;Unknown provider: uiGmapGoogleMapApiProvider&quot; al probar con Jasmine c\\u00f3digo que usa el componente de Google Maps para AngularJS\", \"ContentLicense\": \"CC BY-SA 3.0\", \"PostTypeId\": \"1\", \"LastActivityDate\": \"2016-09-30T07:45:48.177\", \"LastEditDate\": \"2015-12-03T15:38:34.307\", \"AnswerCount\": \"1\", \"CommentCount\": \"1\", \"LastEditorUserId\": \"95\", \"CommunityOwnedDate\": \"\", \"Tags\": \"&lt;google-maps&gt;&lt;angularjs&gt;&lt;jasmine&gt;&lt;karma-jasmine&gt;\", \"LastEditorDisplayName\": \"\", \"FavoriteCount\": \"\", \"ParentId\": \"\", \"OwnerDisplayName\": \"\", \"Body\": \"&lt;p&gt;Para un proyecto web en el que estoy participando usamos el componente &lt;a href=&quot;http://angular-ui.github.io/angular-google-maps&quot; rel=&quot;noreferrer&quot;&gt;Angular Google Maps&lt;/a&gt;. Este es el c\\u00f3digo &lt;code&gt;JavaScript&lt;/code&gt; que hace referencia al componente y lo inicializa:&lt;/p&gt;&#xA;&#xA;&lt;pre&gt;&lt;code&gt;var configureGoogleMaps = function(uiGmapGoogleMapApiProvider) {&#xA;    uiGmapGoogleMapApiProvider.configure({&#xA;        libraries: 'geometry,visualization'&#xA;    });&#xA;}&#xA;configureGoogleMaps.$inject = ['uiGmapGoogleMapApiProvider'];&#xA;&#xA;angular&#xA;    .module('shTools.Map', ['uiGmapgoogle-maps'])&#xA;    .directive('map', mapDirective)&#xA;    .config(configureGoogleMaps);&#xA;&lt;/code&gt;&lt;/pre&gt;&#xA;&#xA;&lt;p&gt;donde &lt;code&gt;mapDirective&lt;/code&gt; define un elemento HTML que contiene el componente de Google Maps.&lt;/p&gt;&#xA;&#xA;&lt;p&gt;Esto est\\u00e1 funcionando como se espera. El problema es que cuando ejecuto un simple test usando &lt;code&gt;Jasmine&lt;/code&gt; con &lt;code&gt;Karma&lt;/code&gt;, obtengo el error &lt;code&gt;Unknown provider: uiGmapGoogleMapApiProvider&lt;/code&gt;. Por alguna raz\\u00f3n no est\\u00e1 siendo capaz de encontrar el proveedor.&lt;/p&gt;&#xA;&#xA;&lt;p&gt;He intentado crear un &lt;code&gt;mock&lt;/code&gt; para forzar la creaci\\u00f3n de un proveedor con ese nombre, pero no ha funcionado:&lt;/p&gt;&#xA;&#xA;&lt;pre&gt;&lt;code&gt;angular.module('uiGmapgoogle-maps', [])&#xA;    .value('uiGmapGoogleMapApiProvider', {&#xA;        configure: function() {}&#xA;    });&#xA;&lt;/code&gt;&lt;/pre&gt;&#xA;&#xA;&lt;p&gt;\\u00bfQu\\u00e9 podr\\u00eda estar pasando aqu\\u00ed?&lt;/p&gt;&#xA;\", \"CreationDate\": \"2015-10-30T10:26:44.223\", \"ViewCount\": \"320\", \"OwnerUserId\": \"23\"}\n",
            "{\"Id\": \"9\", \"Score\": \"12\", \"ClosedDate\": \"\", \"AcceptedAnswerId\": \"\", \"Title\": \"\", \"ContentLicense\": \"CC BY-SA 3.0\", \"PostTypeId\": \"2\", \"LastActivityDate\": \"2015-10-30T13:59:47.113\", \"LastEditDate\": \"\", \"AnswerCount\": \"\", \"CommentCount\": \"1\", \"LastEditorUserId\": \"\", \"CommunityOwnedDate\": \"\", \"Tags\": \"\", \"LastEditorDisplayName\": \"\", \"FavoriteCount\": \"\", \"ParentId\": \"3\", \"OwnerDisplayName\": \"\", \"Body\": \"&lt;p&gt;Antes de responder directamente la respuesta, hablaremos de las propiedades relevantes de TField y sus descendientes.&lt;/p&gt;&#xA;&#xA;&lt;h1&gt;&lt;code&gt;Text&lt;/code&gt;/&lt;code&gt;DisplayText&lt;/code&gt;&lt;/h1&gt;&#xA;&#xA;&lt;p&gt;Ambas propiedades sirven para obtener una representaci\\u00f3n textual del valor del campo para su uso en la Interfaz de Usuario. &#xA;El prop\\u00f3sito de la propiedad &lt;code&gt;Text&lt;/code&gt; es el de obtener una representaci\\u00f3n textual del campo cu\\u00e1ndo est\\u00e1 siendo editado en un control asociado a datos (Data Aware), en contraste con la propiedad &lt;code&gt;DisplayText&lt;/code&gt; que proporciona el valor del campo con formato de visualizaci\\u00f3n para el usuario, por ejemplo, puede contener caracteres de puntuaci\\u00f3n u otra decoraci\\u00f3n al valor plano. (1234.50 en contraste con 1,234.50).&lt;/p&gt;&#xA;&#xA;&lt;p&gt;En otras palabras, un &lt;code&gt;TdbEdit&lt;/code&gt; o controles similares, mostrar\\u00e1n el valor de &lt;code&gt;DisplayText&lt;/code&gt; cu\\u00e1ndo no est\\u00e1n siendo editados, y al recibir el foco, cambiar\\u00e1n el valor al de la propiedad &lt;code&gt;Text&lt;/code&gt; y es este valor el que el usuario &quot;edita&quot;. Un TdbLabel solamente tira de la propiedad &lt;code&gt;DisplayText&lt;/code&gt;, ya que no es editable.&lt;/p&gt;&#xA;&#xA;&lt;p&gt;La documentaci\\u00f3n para &lt;code&gt;Text&lt;/code&gt; dice:&lt;/p&gt;&#xA;&#xA;&lt;blockquote&gt;&#xA;  &lt;p&gt;Contains the string to display in a data-aware control when the field is in edit mode&lt;/p&gt;&#xA;&lt;/blockquote&gt;&#xA;&#xA;&lt;p&gt;Un ejemplo t\\u00edpico es un &lt;code&gt;TFloatField&lt;/code&gt; con la propiedad &lt;code&gt;Currency&lt;/code&gt; establecida a &lt;code&gt;True&lt;/code&gt;. La propiedad DisplayText te devuelve el string con el n\\u00famero conteniendo separadores de miles, el separador decimal y el s\\u00edmbolo de la moneda. La propiedad Text, te devuelve una cadena que no contiene separadores de miles ni s\\u00edmbolo de moneda.&lt;/p&gt;&#xA;&#xA;&lt;pre&gt;&lt;code&gt;begin&#xA;  MyFloatField.Currency := True;&#xA;  MyFloatField.AsFloat := 1234.56;&#xA;  A := MyFloatField.Text; //'1234.56'&#xA;  B := MyFloatField.DisplayText; //'$1,234.56', depends on your locale&#xA;  ShowMessage(A + #13 + B);&#xA;end;&#xA;&lt;/code&gt;&lt;/pre&gt;&#xA;&#xA;&lt;p&gt;El comportamiento de ambas propiedades puede ser personalizado escribiendo un manejador de eventos para &lt;code&gt;OnGetText&lt;/code&gt;, d\\u00f3nde se puede escribir la l\\u00f3gica para convertir el valor del campo en una de ambas representaciones textuales. El par\\u00e1metro booleano &lt;code&gt;DisplayText&lt;/code&gt; indica si la cadena solicitada es para representar el valor en la interfaz de usuario o para edici\\u00f3n. &lt;/p&gt;&#xA;&#xA;&lt;p&gt;De esta manera, podemos lograr que la representaci\\u00f3n en la interfaz de usuario para un campo entero con valor 1 sea 'uno', y su valor para edici\\u00f3n sea 'one'&lt;/p&gt;&#xA;&#xA;&lt;h1&gt;&lt;code&gt;AsString&lt;/code&gt;&lt;/h1&gt;&#xA;&#xA;&lt;p&gt;Por otro lado, la propiedad AsString utiliza una conversi\\u00f3n plana entre el tipo de dato base del campo y una cadena de caracteres. Cada descendiente de &lt;code&gt;TField&lt;/code&gt; implementa el m\\u00e9todo virtual &lt;code&gt;GetAsString&lt;/code&gt; que t\\u00edpicamente utiliza funciones de la RTL para realizar la conversi\\u00f3n. Siguiendo con el ejemplo de TFloatField, esta clase llama a la funci\\u00f3n FloatToStr() para realizar la conversi\\u00f3n.&lt;/p&gt;&#xA;&#xA;&lt;h1&gt;La respuesta&lt;/h1&gt;&#xA;&#xA;&lt;p&gt;Dicho todo esto, la respuesta a la pregunta ser\\u00eda:&lt;/p&gt;&#xA;&#xA;&lt;p&gt;AsString retorna usualmente el mismo valor que retorna la propiedad Text, siempre que no haya un manejador de evento para OnGetText, pero la representaci\\u00f3n podr\\u00eda ser diferente si hubiese un manejador de evento o un descendiente no est\\u00e1ndar de TField.&lt;/p&gt;&#xA;&#xA;&lt;p&gt;Con la informaci\\u00f3n dada, no puede decirse cu\\u00e1l es m\\u00e1s apropiado, ya que esto depende de cu\\u00e1l es el uso que se le dar\\u00e1 al valor retornado. Si se est\\u00e1 utilizando para mostrar valores en la Interfaz de usuario, como se muestra en los ejemplos de c\\u00f3digo proporcionados, mi consejo es que utilices la propiedad &lt;code&gt;DisplayText&lt;/code&gt;.&lt;/p&gt;&#xA;\", \"CreationDate\": \"2015-10-30T13:59:47.113\", \"ViewCount\": \"\", \"OwnerUserId\": \"21\"}\n",
            "{\"Id\": \"10\", \"Score\": \"28\", \"ClosedDate\": \"\", \"AcceptedAnswerId\": \"11\", \"Title\": \"\\u00bfC\\u00f3mo definir m\\u00e9todos correctamente en TypeScript?\", \"ContentLicense\": \"CC BY-SA 3.0\", \"PostTypeId\": \"1\", \"LastActivityDate\": \"2019-05-09T17:55:48.290\", \"LastEditDate\": \"2019-05-09T17:55:48.290\", \"AnswerCount\": \"1\", \"CommentCount\": \"0\", \"LastEditorUserId\": \"20\", \"CommunityOwnedDate\": \"\", \"Tags\": \"&lt;typescript&gt;\", \"LastEditorDisplayName\": \"\", \"FavoriteCount\": \"\", \"ParentId\": \"\", \"OwnerDisplayName\": \"\", \"Body\": \"&lt;p&gt;Dado el siguiente c\\u00f3digo en TypeScript&lt;/p&gt;&#xA;&#xA;&lt;pre&gt;&lt;code&gt;class Persona {&#xA;    constructor(public nombre: string, public apellido: string) {&#xA;    }&#xA;&#xA;    nombreCompleto1 = () =&amp;gt; {&#xA;        return this.nombre + &quot; &quot; + this.apellido;&#xA;    }&#xA;&#xA;    nombreCompleto2() {&#xA;        return this.nombre + &quot; &quot; + this.apellido;&#xA;    }&#xA;}&#xA;&#xA;var p = new Persona(&quot;Juan&quot;, &quot;P\\u00e9rez&quot;);&#xA;&#xA;console.log(p.nombreCompleto1());&#xA;console.log(p.nombreCompleto2());&#xA;&lt;/code&gt;&lt;/pre&gt;&#xA;&#xA;&lt;p&gt;Como se puede ver los m\\u00e9todos &lt;code&gt;nombreCompleto1&lt;/code&gt; y &lt;code&gt;nombreCompleto2&lt;/code&gt; hacen lo mismo pero est\\u00e1n declarados ligeramente diferente.&lt;/p&gt;&#xA;&#xA;&lt;p&gt;Al ejecutarlo en los dos casos se obtiene el resultado esperado:&lt;/p&gt;&#xA;&#xA;&lt;pre&gt;&#xA;Juan P\\u00e9rez&#xA;Juan P\\u00e9rez&#xA;&lt;/pre&gt;&#xA;&#xA;&lt;p&gt;\\u00bfCu\\u00e1l es la diferencia entre las dos declaraciones si los dos hacen los mismo y cu\\u00e1l es la forma adecuada de declararlo?&lt;/p&gt;&#xA;\", \"CreationDate\": \"2015-10-30T14:33:50.523\", \"ViewCount\": \"3407\", \"OwnerUserId\": \"20\"}\n"
          ]
        }
      ],
      "source": [
        "!head Posts.jsonl"
      ]
    },
    {
      "cell_type": "markdown",
      "metadata": {
        "id": "VStB-DG8Ramu"
      },
      "source": [
        "## Uso de Parquet"
      ]
    },
    {
      "cell_type": "markdown",
      "metadata": {
        "id": "I3Pv7xgHCCsq"
      },
      "source": [
        "![Parquet](https://upload.wikimedia.org/wikipedia/commons/4/47/Apache_Parquet_logo.svg)\n"
      ]
    },
    {
      "cell_type": "markdown",
      "metadata": {
        "id": "g3W0uF45CCsr"
      },
      "source": [
        "El formato Parquet (https://parquet.apache.org) se ha popularizado recientemente con el uso de fuentes de datos en Internet. En general supone una mejora en todos los aspectos con respecto a CSV y en otros con respecto a JSON y JSON lines.\n",
        "\n",
        "En general, Parquet es un formato de almacenamiento de datos de columnas, que es muy eficiente en términos de espacio y tiempo de acceso. Es un formato binario, pero que se puede leer en muchos lenguajes de programación. Además, permite compresión de datos, lo que lo hace eficiente en tiempo y en espacio.\n",
        "\n",
        "El formato interno del fichero se describe por encima en la siguiente imagen:\n",
        "\n",
        "![Parquet](https://camo.githubusercontent.com/d713741348fd88809ec0809de0a9aea7a6358b04f7d2aace673c9286ee290dfb/68747470733a2f2f7261772e6769746875622e636f6d2f6170616368652f706172717565742d666f726d61742f6d61737465722f646f632f696d616765732f46696c654c61796f75742e676966)\n",
        "\n",
        "El formato Parquet incluye, además de los datos, el esquema de los mismos, lo que hace que se pueda leer sin dar lugar a errores. Esto soluciona el problema que nos encontramos en CSV y JSON, que no incluyen el esquema de los datos.\n",
        "\n",
        "Es incluso fomentado por el Gobierno de España para publicación de los datos: https://datos.gob.es/es/blog/por-que-deberias-de-usar-ficheros-parquet-si-procesas-muchos-datos.\n",
        "\n",
        "En Python se puede leer con la biblioteca `pyarrow` (https://arrow.apache.org/docs/python/parquet.html).\n"
      ]
    },
    {
      "cell_type": "code",
      "execution_count": 29,
      "metadata": {
        "id": "TrvdBI6LHgOq",
        "outputId": "0a844f49-ccaa-47fe-823e-9cdb9fdf6c2f",
        "colab": {
          "base_uri": "https://localhost:8080/"
        }
      },
      "outputs": [
        {
          "output_type": "stream",
          "name": "stdout",
          "text": [
            "Requirement already satisfied: pyarrow in /usr/local/lib/python3.11/dist-packages (17.0.0)\n",
            "Requirement already satisfied: numpy>=1.16.6 in /usr/local/lib/python3.11/dist-packages (from pyarrow) (1.26.4)\n"
          ]
        }
      ],
      "source": [
        "%pip install pyarrow"
      ]
    },
    {
      "cell_type": "code",
      "execution_count": 30,
      "metadata": {
        "id": "OQGmyMS9Ramw",
        "outputId": "2e615555-1f4b-43ed-dc2a-b1b3d8c02e15",
        "colab": {
          "base_uri": "https://localhost:8080/"
        }
      },
      "outputs": [
        {
          "output_type": "stream",
          "name": "stdout",
          "text": [
            "Tiempo de lectura CSV: 24.652443170547485 segundos\n"
          ]
        }
      ],
      "source": [
        "# Write the df dataframe to parquet file\n",
        "import pandas as pd\n",
        "import time\n",
        "\n",
        "start_time: float = time.time()\n",
        "df_csv: pd.DataFrame = pd.read_csv('Posts.csv')\n",
        "print(\"Tiempo de lectura CSV: %s segundos\" % (time.time() - start_time))\n",
        "df_csv.to_parquet('Posts.parquet', compression='snappy')"
      ]
    },
    {
      "cell_type": "code",
      "execution_count": 31,
      "metadata": {
        "id": "3RI08DsCP2cV",
        "outputId": "726fbefe-0dd1-4127-8ddc-512938d947be",
        "colab": {
          "base_uri": "https://localhost:8080/"
        }
      },
      "outputs": [
        {
          "output_type": "stream",
          "name": "stdout",
          "text": [
            "-rw-r--r-- 1 root root 921M Feb 24 17:03 Posts.csv\n",
            "-rw-r--r-- 1 root root 1.2G Feb 24 17:05 Posts.json\n",
            "-rw-r--r-- 1 root root 1.1G Feb 24 17:05 Posts.jsonl\n",
            "-rw-r--r-- 1 root root 359M Feb 24 17:06 Posts.parquet\n",
            "-rw-r--r-- 1 root root 983M Dec  4  2023 Posts.xml\n"
          ]
        }
      ],
      "source": [
        "!ls -lh Posts.*"
      ]
    },
    {
      "cell_type": "markdown",
      "metadata": {
        "id": "y_rVcUIhCCsr"
      },
      "source": [
        "Se puede ver el contenido del fichero Parquet, pero no es legible, porque está en binario."
      ]
    },
    {
      "cell_type": "code",
      "execution_count": 32,
      "metadata": {
        "id": "TRQCjr7TCCsr",
        "outputId": "1a896220-7ab2-439e-db1e-30ed95862931",
        "colab": {
          "base_uri": "https://localhost:8080/"
        }
      },
      "outputs": [
        {
          "output_type": "stream",
          "name": "stdout",
          "text": [
            "PAR1\u0015\u0004\u0015���\u0001\u0015ڇ@L\u0015��\u0010\u0015\u0000\u0012\u0000\u0000��@\u0004\u0001\u0000\t\u0001\u0000\u0002\t\u0007\u0004\u0000\u0003\r\b\u0000\u0004\r\b\u0000\u0005\r\b\u0000\u0006\r\b\u0000\u0007\r\b\u0000\b\r\b\u0000\t\r\b\u0000\n",
            "\r\b\u0000\u000b\r\b\u0000\f\r\b\u0000\u000e\r\b\u0000\u000f\r\b\u0000\u0010\r\b\u0000\u0011\r\b\u0000\u0012\r\b\u0000\u0013\r\b\u0000\u0014\r\b\u0000\u0015\r\b\u0000\u0016\r\b\u0000\u0017\r\b\u0000\u0018\r\b\u0000\u0019\r\b\u0000\u001b\r\b\u0000\u001d\r\b\u0000\u001e\r\b\u0000\u001f\r\b\u0000 \r\b\u0000!\r\b\u0000\"\r\b\u0000#\r\b\u0000$\r\b\u0000%\r\b\u0000&\r\b\u0000'\r\b\u0000(\r\b\u0000)\r\b\u0000*\r\b\u0000+\r\b\u0000,\r\b\u0000-\r\b\u0000.\r\b\u0000/\r\b\u00000\r\b\u00001\r\b\u00002\r\b\u00003\r\b\u00004\r\b\u0000<\r\b\u0000=\r\b\u0000J\r\b\u0000K\r\b\u0000L\r\b\u0000M\r\b\u0000N\r\b\u0000O\r\b\u0000P\r\b\u0000Q\r\b\u0000R\r\b\u0000S\r\b\u0000T\r\b\u0000U\r\b\u0000V\r\b\u0000W\r\b\u0000X\r\b\u0000Y\r\b\u0000Z\r\b\u0000[\r\b\u0000\\\r\b\u0000]\r\b\u0000^\r\b\u0000_\r\b\u0000`\r\b\u0000a\r\b\u0000b\r\b\u0000c\r\b\u0000e\r\b\u0000f\r\b\u0000g\r\b\u0000h\r\b\u0000i\r\b\u0000j\r\b\u0000k\r\b\u0000l\r\b\u0000m\r\b\u0000n\r\b\u0000o\r\b\u0000p\r\b\u0000q\r\b\u0000r\r\b\u0000s\r\b\u0000t\r\b\u0000u\r\b\u0000v\r\b\u0000w\r\b\u0000y\r\b\u0000z\r\b\u0000{\r\b\u0000|\r\b\u0000}\r\b\u0000~\r\b\u0000\r\b\u0000�\r\b\u0000�\r\b\u0000�\r\b\u0000�\r\b\u0000�\r\b\u0000�\r\b\u0000�\r\b\u0000�\r\b\u0000�\r\b\u0000�\r\b\u0000�\r\b\u0000�\r\b\u0000�\r\b\u0000�\r\b\u0000�\r\b\u0000�\r\b\u0000�\r\b\u0000�\r\b\u0000�\r\b\u0000�\r\b\u0000�\r\b\u0000�\r\b\u0000�\r\b\u0000�\r\b\u0000�\r\b\u0000�\r\b\u0000�\r\b\u0000�\r\b\u0000�\r\b\u0000�\r\b\u0000�\r\b\u0000�\r\b\u0000�\r\b\u0000�\r\b\u0000�\r\b\u0000�\r\b\u0000�\r\b\u0000�\r\b\u0000�\r\b\u0000�\r\b\u0000�\r\b\u0000�\r\b\u0000�\r\b\u0000�\r\b\u0000�\r\b\u0000�\r\b\u0000�\r\b\u0000�\r\b\u0000�\r\b\u0000�\r\b\u0000�\r\b\u0000�\r\b\u0000�\r\b\u0000�\r\b\u0000�\r\b\u0000�\r\b\u0000�\r\b\u0000�\r\b\u0000�\r\b\u0000�\r\b\u0000�\r\b\u0000�\r\b\u0000�\r\b\u0000�\r\b\u0000�\r\b\u0000�\r\b\u0000�\r\b\u0000�\r\b\u0000�\r\b\u0000�\r\b\u0000�\r\b\u0000�\r\b\u0000�\r\b\u0000�\r\b\u0000�\r\b\u0000�\r\b\u0000�\r\b\u0000�\r\b\u0000�\r\b\u0000�\r\b\u0000�\r\b\u0000�\r\b\u0000�\r\b\u0000�\r\b\u0000�\r\b\u0000�\r\b\u0000�\r\b\u0000�\r\b\u0000�\r\b\u0000�\r\b\u0000�\r\b\u0000�\r\b\u0000�\r\b\u0000�\r\b\u0000�\r\b\u0000�\r\b\u0000�\r\b\u0000�\r\b\u0000�\r\b\u0000�\r\b\u0000�\r\b\u0000�\r\b\u0000�\r\b\u0000�\r\b\u0000�\r\b\u0000�\r\b\u0000�\r\b\u0000�\r\b\u0000�\r\b\u0000�\r\b\u0000�\r\b\u0000�\r\b\u0000�\r\b\u0000\u0000��\u0000\u0001\r\b\u0000\u0002\r\b\u0000\u0003\r\b\u0000\u0004\r\b\u0000\u0006\r\b\u0000\u0007\r\b\u0000\b\r\b\u0000\n",
            "\r\b\u0000\u000b\r\b\u0000\f\r\b\u0000\r\r\b\u0000\u000e\r\b\u0000\u000f\r\b\u0000\u0010\r\b\u0000\u0012\r\b\u0000\u0013\r\b\u0000\u0014\r\b\u0000\u0015\r\b\u0000\u0016\r\b\u0000\u0017\r\b\u0000\u0019\r\b\u0000\u001a\r\b\u0000\u001b\r\b\u0000\u001c\r\b\u0000\u001d\r\b\u0000\u001e\r\b\u0000\u001f\r\b\u0000 \r\b\u0000!\r\b\u0000\"\r\b\u0000$\r\b\u0000&\r\b\u0000'\r\b\u0000(\r\b\u0000)\r\b\u0000*\r\b\u0000+\r\b\u0000,\r\b\u0000-\r\b\u0000.\r\b\u0000/\r\b\u00000\r\b\u00001\r\b\u00002\r\b\u00003\r\b\u00005\r\b\u00006\r\b\u00007\r\b\u00009\r\b\u0000:\r\b\u0000;\r\b\u0000<\r\b\u0000=\r\b\u0000>\r\b\u0000?\r\b\u0000@\r\b\u0000A\r\b\u0000B\r\b\u0000C\r\b\u0000D\r\b\u0000E\r\b\u0000F\r\b\u0000G\r\b\u0000H\r\b\u0000I\r\b\u0000J\r\b\u0000K\r\b\u0000L\r\b\u0000M\r\b\u0000N\r\b\u0000O\r\b\u0000P\r\b\u0000Q\r\b\u0000R\r\b\u0000S\r\b\u0000T\r\b\u0000U\r\b\u0000V\r\b\u0000W\r\b\u0000X\r\b\u0000Y\r\b\u0000Z\r\b\u0000[\r\b\u0000\\\r\b\u0000]\r\b\u0000^\r\b\u0000_\r\b\u0000`\r\b\u0000a\r\b\u0000b\r\b\u0000c\r\b\u0000d\r\b\u0000e\r\b\u0000f\r\b\u0000g\r\b\u0000h\r\b\u0000k\r\b\u0000l\r\b\u0000m\r\b\u0000n\r\b\u0000o\r\b\u0000p\r\b\u0000q\r\b\u0000r\r\b\u0000s\r\b\u0000t\r\b\u0000u\r\b\u0000v\r\b\u0000w\r\b\u0000x\r\b\u0000y\r\b\u0000z\r\b\u0000{\r\b\u0000|\r\b\u0000}\r\b\u0000~\r\b\u0000\r\b\u0000�\r\b\u0000�\r\b\u0000�\r\b\u0000�\r\b\u0000�\r\b\u0000�\r\b\u0000�\r\b\u0000�\r\b\u0000�\r\b\u0000�\r\b\u0000�\r\b\u0000�\r\b\u0000�\r\b\u0000�\r\b\u0000�\r\b\u0000�\r\b\u0000�\r\b\u0000�\r\b\u0000�\r\b\u0000�\r\b\u0000�\r\b\u0000�\r\b\u0000�\r\b\u0000�\r\b\u0000�\r\b\u0000�\r\b\u0000�\r\b\u0000�\r\b\u0000�\r\b\u0000�\r\b\u0000�\r\b\u0000�\r\b\u0000�\r\b\u0000�\r\b\u0000�\r\b\u0000�\r\b\u0000�\r\b\u0000�\r\b\u0000�\r\b\u0000�\r\b\u0000�\r\b\u0000�\r\b\u0000�\r\b\u0000�\r\b\u0000�\r\b\u0000�\r\b\u0000�\r\b\u0000�\r\b\u0000�\r\b\u0000�\r\b\u0000�\r\b\u0000�\r\b\u0000�\r\b\u0000�\r\b\u0000�\r\b\u0000�\r\b\u0000�\r\b\u0000�\r\b\u0000�\r\b\u0000�\r\b\u0000�\r\b\u0000�\r\b\u0000�\r\b\u0000�\r\b\u0000�\r\b\u0000�\r\b\u0000�\r\b\u0000�\r\b\u0000�\r\b\u0000�\r\b\u0000�\r\b\u0000�\r\b\u0000�\r\b\u0000�\r\b\u0000�\r\b\u0000�\r\b\u0000�\r\b\u0000�\r\b\u0000�\r\b\u0000�\r\b\u0000�\r\b\u0000�\r\b\u0000�\r\b\u0000�\r\b\u0000�\r\b\u0000�\r\b\u0000�\r\b\u0000�\r\b\u0000�\r\b\u0000�\r\b\u0000�\r\b\u0000�\r\b\u0000�\r\b\u0000�\r\b\u0000�\r\b\u0000�\r\b\u0000�\r\b\u0000�\r\b\u0000�\r\b\u0000�\r\b\u0000�\r\b\u0000�\r\b\u0000�\r\b\u0000�\r\b\u0000�\r\b\u0000�\r\b\u0000�\r\b\u001e�\r\u0000\u0001\u001a�\r\u0000\u0002\r\b\u0000\u0003\r\b\u0000\u0004\r\b\u0000\u0005\r\b\u0000\u0006\r\b\u0000\u0007\r\b\u0000\b\r\b\u0000\t\r\b\u0000\n",
            "\r\b\u0000\u000b\r\b\u0000\f\r\b\u0000\r\r\b\u0000\u000e\r\b\u0000\u000f\r\b\u0000\u0010\r\b\u0000\u0011\r\b\u0000\u0012\r\b\u0000\u0013\r\b\u0000\u0014\r\b\u0000\u0015\r\b\u0000\u0016\r\b\u0000\u0017\r\b\u0000\u0018\r\b\u0000\u0019\r\b\u0000\u001c\r\b\u0000\u001d\r\b\u0000\u001f\r\b\u0000\"\r\b\u0000#\r\b\u0000&\r\b\u0000'\r\b\u0000(\r\b\u0000*\r\b\u0000+\r\b\u0000,\r\b\u0000-\r\b\u0000.\r\b\u0000/\r\b\u00000\r\b\u00001\r\b\u00002\r\b\u00003\r\b\u00004\r\b\u00005\r\b\u00006\r\b\u00007\r\b\u00008\r\b\u00009\r\b\u0000:\r\b\u0000;\r\b\u0000<\r\b\u0000=\r\b\u0000>\r\b\u0000?\r\b\u0000@\r\b\u0000A\r\b\u0000B\r\b\u0000D\r\b\u0000E\r\b\u0000F\r\b\u0000G\r\b\u0000H\r\b\u0000I\r\b\u0000J\r\b\u0000K\r\b\u0000L\r\b\u0000M\r\b\u0000N\r\b\u0000O\r\b\u0000Q\r\b\u0000R\r\b\u0000S\r\b\u0000T\r\b\u0000U\r\b\u0000V\r\b\u0000W\r\b\u0000X\r\b\u0000Y\r\b\u0000Z\r\b\u0000[\r\b\u0000\\\r\b\u0000]\r\b\u0000^\r\b\u0000_\r\b\u0000`\r\b\u0000a\r\b\u0000b\r\b\u0000c\r\b\u0000d\r\b\u0000e\r\b\u0000f\r\b\u0000g\r\b\u0000h\r\b\u0000j\r\b\u0000k\r\b\u0000l\r\b\u0000m\r\b\u0000n\r\b\u0000o\r\b\u0000p\r\b\u0000q\r\b\u0000r\r\b\u0000s\r\b\u0000u\r\b\u0000v\r\b\u0000w\r\b\u0000x\r\b\u0000y\r\b\u0000|\r\b\u0000}\r\b\u0000~\r\b\u0000\r\b\u0000�\r\b\u0000�\r\b\u0000�\r\b\u0000�\r\b\u0000�\r\b\u0000�\r\b\u0000�\r\b\u0000�\r\b\u0000�\r\b\u0000�\r\b\u0000�\r\b\u0000�\r\b\u0000�\r\b\u0000�\r\b\u0000�\r\b\u0000�\r\b\u0000�\r\b\u0000�\r\b\u0000�\r\b\u0000�\r\b\u0000�\r\b\u0000�\r\b\u0000�\r\b\u0000�\r\b\u0000�\r\b\u0000�\r\b\u0000�\r\b\u0000�\r\b\u0000�\r\b\u0000�\r\b\u0000�\r\b\u0000�\r\b\u0000�\r\b\u0000�\r\b\u0000�\r\b\u0000�\r\b\u0000�\r\b\u0000�\r\b\u0000�\r\b\u0000�\r\b\u0000�\r\b\u0000�\r\b\u0000�\r\b\u0000�\r\b\u0000�\r\b\u0000�\r\b\u0000�\r\b\u0000�\r\b\u0000�\r\b\u0000�\r\b\u0000�\r\b\u0000�\r\b\u0000�\r\b\u0000�\r\b\u0000�\r\b\u0000�\r\b\u0000�\r\b\u0000�\r\b\u0000�\r\b\u0000�\r\b\u0000�\r\b\u0000�\r\b\u0000�\r\b\u0000�\r\b\u0000�\r\b\u0000�\r\b\u0000�\r\b\u0000�\r\b\u0000�\r\b\u0000�\r\b\u0000�\r\b\u0000�\r\b\u0000�\r\b\u0000�\r\b\u0000�\r\b\u0000�\r\b\u0000�\r\b\u0000�\r\b\u0000�\r\b\u0000�\r\b\u0000�\r\b\u0000�\r\b\u0000�\r\b\u0000�\r\b\u0000�\r\b\u0000�\r\b\u0000�\r\b\u0000�\r\b\u0000�\r\b\u0000�\r\b\u0000�\r\b\u0000�\r\b\u0000�\r\b\u0000�\r\b\u0000�\r\b\u0000�\r\b\u0000�\r\b\u0000�\r\b\u0000�\r\b\u0000�\r\b\u0000�\r\b\u0000�\r\b\u0000�\r\b\u0000�\r\b\u0000�\r\b\u0000�\r\b\u0000�\r\b\u0000�\r\b\u0000�\r\b\u0000�\r\b\u0000�\r\b\u0000�\r\b\u0000�\r\b\u0000�\r\b\u0000�\r\b\u0000�\r\b\u0000�\r\b\u0000�\r\b\u0000�\r\b\u0000�\r\b\u0000�\r\b\u0000�\r\b\u001e\u0019\u0015\u0000\u0002\u001a!\u0015\u0000\u0003\r\b\u0000\u0004\r\b\u0000\u0005\r\b\u0000\u0006\r\b\u0000\u0007\r\b\u0000\b\r\b\u0000\t\r\b\u0000\n",
            "\r\b\u0000\u000b\r\b\u0000\f\r\b\u0000\r\r\b\u0000\u000e\r\b\u0000\u000f\r\b\u0000\u0010\r\b\u0000\u0011\r\b\u0000\u0012\r\b\u0000\u0013\r\b\u0000\u0014\r\b\u0000\u0015\r\b\u0000\u0016\r\b\u0000\u0017\r\b\u0000\u0018\r\b\u0000\u0019\r\b\u0000\u001a\r\b\u0000\u001b\r\b\u0000\u001c\r\b\u0000\u001d\r\b\u0000\u001e\r\b\u0000 \r\b\u0000!\r\b\u0000\"\r\b\u0000#\r\b\u0000$\r\b\u0000%\r\b\u0000&\r\b\u0000'\r\b\u0000(\r\b\u0000)\r\b\u0000*\r\b\u0000.\r\b\u0000/\r\b\u00000\r\b\u00001\r\b\u00002\r\b\u00003\r\b\u00004\r\b\u00005\r\b\u00006\r\b\u00007\r\b\u00008\r\b\u00009\r\b\u0000:\r\b\u0000;\r\b\u0000<\r\b\u0000=\r\b\u0000>\r\b\u0000?\r\b\u0000@\r\b\u0000A\r\b\u0000B\r\b\u0000D\r\b\u0000G\r\b\u0000H\r\b\u0000I\r\b\u0000J\r\b\u0000K\r\b\u0000L\r\b\u0000M\r\b\u0000N\r\b\u0000O\r\b\u0000P\r\b\u0000Q\r\b\u0000R\r\b\u0000S\r\b\u0000T\r\b\u0000U\r\b\u0000V\r\b\u0000W\r\b\u0000X\r\b\u0000Y\r\b\u0000Z\r\b\u0000[\r\b\u0000\\\r\b\u0000]\r\b\u0000^\r\b\u0000_\r\b\u0000`\r\b\u0000a\r\b\u0000b\r\b\u0000c\r\b\u0000d\r\b\u0000e\r\b\u0000f\r\b\u0000g\r\b\u0000h\r\b\u0000i\r\b\u0000j\r\b\u0000k\r\b\u0000l\r\b\u0000m\r\b\u0000n\r\b\u0000o\r\b\u0000p\r\b\u0000q\r\b\u0000r\r\b\u0000s\r\b\u0000t\r\b\u0000u\r\b\u0000v\r\b\u0000w\r\b\u0000x\r\b\u0000y\r\b\u0000z\r\b\u0000{\r\b\u0000|\r\b\u0000}\r\b\u0000~\r\b\u0000\r\b\u0000�\r\b\u0000�\r\b\u0000�\r\b\u0000�\r\b\u0000�\r\b\u0000�\r\b\u0000�\r\b\u0000�\r\b\u0000�\r\b\u0000�\r\b\u0000�\r\b\u0000�\r\b\u0000�\r\b\u0000�\r\b\u0000�\r\b\u0000�\r\b\u0000�\r\b\u0000�\r\b\u0000�\r\b\u0000�\r\b\u0000�\r\b\u0000�\r\b\u0000�\r\b\u0000�\r\b\u0000�\r\b\u0000�\r\b\u0000�\r\b\u0000�\r\b\u0000�\r\b\u0000�\r\b\u0000�\r\b\u0000�\r\b\u0000�\r\b\u0000�\r\b\u0000�\r\b\u0000�\r\b\u0000�\r\b\u0000�\r\b\u0000�\r\b\u0000�\r\b\u0000�\r\b\u0000�\r\b\u0000�\r\b\u0000�\r\b\u0000�\r\b\u0000�\r\b\u0000�\r\b\u0000�\r\b\u0000�\r\b\u0000�\r\b\u0000�\r\b\u0000�\r\b\u0000�\r\b\u0000�\r\b\u0000�\r\b\u0000�\r\b\u0000�\r\b\u0000�\r\b\u0000�\r\b\u0000�\r\b\u0000�\r\b\u0000�\r\b\u0000�\r\b\u0000�\r\b\u0000�\r\b\u0000�\r\b\u0000�\r\b\u0000�\r\b\u0000�\r\b\u0000�\r\b\u0000�\r\b\u0000�\r\b\u0000�\r\b\u0000�\r\b\u0000�\r\b\u0000�\r\b\u0000�\r\b\u0000�\r\b\u0000�\r\b\u0000�\r\b\u0000�\r\b\u0000�\r\b\u0000�\r\b\u0000�\r\b\u0000�\r\b\u0000�\r\b\u0000�\r\b\u0000�\r\b\u0000�\r\b\u0000�\r\b\u0000�\r\b\u0000�\r\b\u0000�\r\b\u0000�\r\b\u0000�\r\b\u0000�\r\b\u0000�\r\b\u0000�\r\b\u0000�\r\b\u0000�\r\b\u0000�\r\b\u0000�\r\b\u0000�\r\b\u0000�\r\b\u0000�\r\b\u0000�\r\b\u0000�\r\b\u0000�\r\b\u0000�\r\b\u0000�\r\b\u0000�\r\b\u0000�\r\b\u0000�\r\b\u0000�\r\b\u0000�\r\b\u0000�\r\b\u0000�\r\b\u0000�\r\b\u0000�\r\b\u0000�\r\b\u0000�\r\b\u0000�\r\b\u0000�\r\b\u001e�\u001c\u0000\u0001\u001a�\u001c\u0000\u0002\r\b\u0000\u0004\r\b\u0000\u0005\r\b\u0000\u0006\r\b\u0000\u0007\r\b\u0000\b\r\b\u0000\t\r\b\u0000\n",
            "\r\b\u0000\u000b\r\b\u0000\f\r\b\u0000\r\r\b\u0000\u000e\r\b\u0000\u000f\r\b\u0000\u0010\r\b\u0000\u0011\r\b\u0000\u0012\r\b\u0000\u0013\r\b\u0000\u0014\r\b\u0000\u0015\r\b\u0000\u0016\r\b\u0000\u0018\r\b\u0000\u001b\r\b\u0000\u001c\r\b\u0000\u001e\r\b\u0000\u001f\r\b\u0000 \r\b\u0000!\r\b\u0000#\r\b\u0000$\r\b\u0000%\r\b\u0000'\r\b\u0000(\r\b\u0000)\r\b\u0000*\r\b\u0000+\r\b\u0000,\r\b\u0000-\r\b\u0000.\r\b\u0000/\r\b\u00000\r\b\u00001\r\b\u00002\r\b\u00003\r\b\u00004\r\b\u00005\r\b\u00006\r\b\u00007\r\b\u00008\r\b\u00009\r\b\u0000:\r\b\u0000<\r\b\u0000?\r\b\u0000A\r\b\u0000B\r\b\u0000C\r\b\u0000D\r\b\u0000E\r\b\u0000G\r\b\u0000H\r\b\u0000I\r\b\u0000J\r\b\u0000K\r\b\u0000L\r\b\u0000O\r\b\u0000P\r\b\u0000Q\r\b\u0000T\r\b\u0000U\r\b\u0000V\r\b\u0000W\r\b\u0000X\r\b\u0000Y\r\b\u0000Z\r\b\u0000[\r\b\u0000\\\r\b\u0000]\r\b\u0000^\r\b\u0000b\r\b\u0000c\r\b\u0000f\r\b\u0000h\r\b\u0000i\r\b\u0000k\r\b\u0000l\r\b\u0000m\r\b\u0000n\r\b\u0000q\r\b\u0000r\r\b\u0000s\r\b\u0000u\r\b\u0000v\r\b\u0000x\r\b\u0000{\r\b\u0000|\r\b\u0000}\r\b\u0000\r\b\u0000�\r\b\u0000�\r\b\u0000�\r\b\u0000�\r\b\u0000�\r\b\u0000�\r\b\u0000�\r\b\u0000�\r\b\u0000�\r\b\u0000�\r\b\u0000�\r\b\u0000�\r\b\u0000�\r\b\u0000�\r\b\u0000�\r\b\u0000�\r\b\u0000�\r\b\u0000�\r\b\u0000�\r\b\u0000�\r\b\u0000�\r\b\u0000�\r\b\u0000�\r\b\u0000�\r\b\u0000�\r\b\u0000�\r\b\u0000�\r\b\u0000�\r\b\u0000�\r\b\u0000�\r\b\u0000�\r\b\u0000�\r\b\u0000�\r\b\u0000�\r\b\u0000�\r\b\u0000�\r\b\u0000�\r\b\u0000�\r\b\u0000�\r\b\u0000�\r\b\u0000�\r\b\u0000�\r\b\u0000�\r\b\u0000�\r\b\u0000�\r\b\u0000�\r\b\u0000�\r\b\u0000�\r\b\u0000�\r\b\u0000�\r\b\u0000�\r\b\u0000�\r\b\u0000�\r\b\u0000�\r\b\u0000�\r\b\u0000�\r\b\u0000�\r\b\u0000�\r\b\u0000�\r\b\u0000�\r\b\u0000�\r\b\u0000�\r\b\u0000�\r\b\u0000�\r\b\u0000�\r\b\u0000�\r\b\u0000�\r\b\u0000�\r\b\u0000�\r\b\u0000�\r\b\u0000�\r\b\u0000�\r\b\u0000�\r\b\u0000�\r\b\u0000�\r\b\u0000�\r\b\u0000�\r\b\u0000�\r\b\u0000�\r\b\u0000�\r\b\u0000�\r\b\u0000�\r\b\u0000�\r\b\u0000�\r\b\u0000�\r\b\u0000�\r\b\u0000�\r\b\u0000�\r\b\u0000�\r\b\u0000�\r\b\u0000�\r\b\u0000�\r\b\u0000�\r\b\u0000�\r\b\u0000�\r\b\u0000�\r\b\u0000�\r\b\u0000�\r\b\u0000�\r\b\u0000�\r\b\u0000�\r\b\u0000�\r\b\u0000�\r\b\u0000�\r\b\u0000�\r\b\u0000�\r\b\u0000�\r\b\u0000�\r\b\u0000�\r\b\u0000�\r\b\u0000�\r\b\u0000�\r\b\u0000�\r\b\u0000�\r\b\u0000�\r\b\u0000�\r\b\u0000�\r\b\u0000�\r\b\u0000�\r\b\u001ei#\u0000\u0001\u001aq#\u0000\u0002\r\b\u0000\u0003\r\b\u0000\u0004\r\b\u0000\u0006\r\b\u0000\u0007\r\b\u0000\b\r\b\u0000\t\r\b\u0000\n",
            "\r\b\u0000\u000b\r\b\u0000\f\r\b\u0000\r\r\b\u0000\u000e\r\b\u0000\u000f\r\b\u0000\u0010\r\b\u0000\u0011\r\b\u0000\u0012\r\b\u0000\u0013\r\b\u0000\u0014\r\b\u0000\u0015\r\b\u0000\u0016\r\b\u0000\u0017\r\b\u0000\u0018\r\b\u0000\u001b\r\b\u0000\u001c\r\b\u0000\u001d\r\b\u0000\u001e\r\b\u0000!\r\b\u0000\"\r\b\u0000#\r\b\u0000$\r\b\u0000%\r\b\u0000&\r\b\u0000'\r\b\u0000(\r\b\u0000)\r\b\u0000*\r\b\u0000+\r\b\u0000,\r\b\u0000-\r\b\u0000.\r\b\u0000/\r\b\u00000\r\b\u00001\r\b\u00003\r\b\u00004\r\b\u00005\r\b\u00006\r\b\u00007\r\b\u00008\r\b\u00009\r\b\u0000:\r\b\u0000<\r\b\u0000=\r\b\u0000>\r\b\u0000@\r\b\u0000B\r\b\u0000C\r\b\u0000D\r\b\u0000E\r\b\u0000F\r\b\u0000G\r\b\u0000I\r\b\u0000J\r\b\u0000L\r\b\u0000M\r\b\u0000P\r\b\u0000R\r\b\u0000S\r\b\u0000T\r\b\u0000U\r\b\u0000V\r\b\u0000W\r\b\u0000X\r\b\u0000Y\r\b\u0000Z\r\b\u0000[\r\b\u0000\\\r\b\u0000^\r\b\u0000_\r\b\u0000`\r\b\u0000a\r\b\u0000b\r\b\u0000c\r\b\u0000d\r\b\u0000e\r\b\u0000f\r\b\u0000g\r\b\u0000h\r\b\u0000i\r\b\u0000j\r\b\u0000k\r\b\u0000l\r\b\u0000m\r\b\u0000n\r\b\u0000o\r\b\u0000p\r\b\u0000q\r\b\u0000r\r\b\u0000s\r\b\u0000t\r\b\u0000u\r\b\u0000v\r\b\u0000x\r\b\u0000y\r\b\u0000z\r\b\u0000{\r\b\u0000|\r\b\u0000}\r\b\u0000~\r\b\u0000\r\b\u0000�\r\b\u0000�\r\b\u0000�\r\b\u0000�\r\b\u0000�\r\b\u0000�\r\b\u0000�\r\b\u0000�\r\b\u0000�\r\b\u0000�\r\b\u0000�\r\b\u0000�\r\b\u0000�\r\b\u0000�\r\b\u0000�\r\b\u0000�\r\b\u0000�\r\b\u0000�\r\b\u0000�\r\b\u0000�\r\b\u0000�\r\b\u0000�\r\b\u0000�\r\b\u0000�\r\b\u0000�\r\b\u0000�\r\b\u0000�\r\b\u0000�\r\b\u0000�\r\b\u0000�\r\b\u0000�\r\b\u0000�\r\b\u0000�\r\b\u0000�\r\b\u0000�\r\b\u0000�\r\b\u0000�\r\b\u0000�\r\b\u0000�\r\b\u0000�\r\b\u0000�\r\b\u0000�\r\b\u0000�\r\b\u0000�\r\b\u0000�\r\b\u0000�\r\b\u0000�\r\b\u0000�\r\b\u0000�\r\b\u0000�\r\b\u0000�\r\b\u0000�\r\b\u0000�\r\b\u0000�\r\b\u0000�\r\b\u0000�\r\b\u0000�\r\b\u0000�\r\b\u0000�\r\b\u0000�\r\b\u0000�\r\b\u0000�\r\b\u0000�\r\b\u0000�\r\b\u0000�\r\b\u0000�\r\b\u0000�\r\b\u0000�\r\b\u0000�\r\b\u0000�\r\b\u0000�\r\b\u0000�\r\b\u0000�\r\b\u0000�\r\b\u0000�\r\b\u0000�\r\b\u0000�\r\b\u0000�\r\b\u0000�\r\b\u0000�\r\b\u0000�\r\b\u0000�\r\b\u0000�\r\b\u0000�\r\b\u0000�\r\b\u0000�\r\b\u0000�\r\b\u0000�\r\b\u0000�\r\b\u0000�\r\b\u0000�\r\b\u0000�\r\b\u0000�\r\b\u0000�\r\b\u0000�\r\b\u0000�\r\b\u0000�\r\b\u0000�\r\b\u0000�\r\b\u0000�\r\b\u0000�\r\b\u0000�\r\b\u0000�\r\b\u0000�\r\b\u0000�\r\b\u0000�\r\b\u0000�\r\b\u0000�\r\b\u0000�\r\b\u0000�\r\b\u0000�\r\b\u0000�\r\b\u0000�\r\b\u0000�\r\b\u0000�\r\b\u0000�\r\b\u001e�*\u0000\u0001\u001a�*\u0000\u0002\r\b\u0000\u0003\r\b\u0000\u0004\r\b\u0000\u0005\r\b\u0000\u0006\r\b\u0000\b\r\b\u0000\t\r\b\u0000\f\r\b\u0000\r\r\b\u0000\u000f\r\b\u0000\u0010\r\b\u0000\u0011\r\b\u0000\u0012\r\b\u0000\u0013\r\b\u0000\u0014\r\b\u0000\u0015\r\b\u0000\u0016\r\b\u0000\u0017\r\b\u0000\u0018\r\b\u0000\u0019\r\b\u0000\u001a\r\b\u0000\u001b\r\b\u0000\u001c\r\b\u0000\u001d\r\b\u0000\u001e\r\b\u0000\u001f\r\b\u0000 \r\b\u0000!\r\b\u0000\"\r\b\u0000#\r\b\u0000$\r\b\u0000%\r\b\u0000&\r\b\u0000'\r\b\u0000)\r\b\u0000*\r\b\u0000+\r\b\u0000,\r\b\u0000-\r\b\u0000.\r\b\u0000/\r\b\u00000\r\b\u00001\r\b\u00002\r\b\u00003\r\b\u00004\r\b\u00005\r\b\u00006\r\b\u00007\r\b\u00008\r\b\u00009\r\b\u0000;\r\b\u0000<\r\b\u0000=\r\b\u0000?\r\b\u0000@\r\b\u0000A\r\b\u0000B\r\b\u0000C\r\b\u0000D\r\b\u0000E\r\b\u0000F\r\b\u0000G\r\b\u0000H\r\b\u0000I\r\b\u0000J\r\b\u0000K\r\b\u0000L\r\b\u0000M\r\b\u0000N\r\b\u0000O\r\b\u0000P\r\b\u0000Q\r\b\u0000R\r\b\u0000S\r\b\u0000T\r\b\u0000U\r\b\u0000V\r\b\u0000W\r\b\u0000X\r\b\u0000Y\r\b\u0000Z\r\b\u0000[\r\b\u0000\\\r\b\u0000]\r\b\u0000^\r\b\u0000_\r\b\u0000`\r\b\u0000a\r\b\u0000b\r\b\u0000c\r\b\u0000d\r\b\u0000e\r\b\u0000f\r\b\u0000g\r\b\u0000h\r\b\u0000i\r\b\u0000j\r\b\u0000k\r\b\u0000l\r\b\u0000n\r\b\u0000o\r\b\u0000p\r\b\u0000r\r\b\u0000s\r\b\u0000t\r\b\u0000u\r\b\u0000v\r\b\u0000w\r\b\u0000x\r\b\u0000y\r\b\u0000z\r\b\u0000|\r\b\u0000}\r\b\u0000~\r\b\u0000\r\b\u0000�\r\b\u0000�\r\b\u0000�\r\b\u0000�\r\b\u0000�\r\b\u0000�\r\b\u0000�\r\b\u0000�\r\b\u0000�\r\b\u0000�\r\b\u0000�\r\b\u0000�\r\b\u0000�\r\b\u0000�\r\b\u0000�\r\b\u0000�\r\b\u0000�\r\b\u0000�\r\b\u0000�\r\b\u0000�\r\b\u0000�\r\b\u0000�\r\b\u0000�\r\b\u0000�\r\b\u0000�\r\b\u0000�\r\b\u0000�\r\b\u0000�\r\b\u0000�\r\b\u0000�\r\b\u0000�\r\b\u0000�\r\b\u0000�\r\b\u0000�\r\b\u0000�\r\b\u0000�\r\b\u0000�\r\b\u0000�\r\b\u0000�\r\b\u0000�\r\b\u0000�\r\b\u0000�\r\b\u0000�\r\b\u0000�\r\b\u0000�\r\b\u0000�\r\b\u0000�\r\b\u0000�\r\b\u0000�\r\b\u0000�\r\b\u0000�\r\b\u0000�\r\b\u0000�\r\b\u0000�\r\b\u0000�\r\b\u0000�\r\b\u0000�\r\b\u0000�\r\b\u0000�\r\b\u0000�\r\b\u0000�\r\b\u0000�\r\b\u0000�\r\b\u0000�\r\b\u0000�\r\b\u0000�\r\b\u0000�\r\b\u0000�\r\b\u0000�\r\b\u0000�\r\b\u0000�\r\b\u0000�\r\b\u0000�\r\b\u0000�\r\b\u0000�\r\b\u0000�\r\b\u0000�\r\b\u0000�\r\b\u0000�\r\b\u0000�\r\b\u0000�\r\b\u0000�\r\b\u0000�\r\b\u0000�\r\b\u0000�\r\b\u0000�\r\b\u0000�\r\b\u0000�\r\b\u0000�\r\b\u0000�\r\b\u0000�\r\b\u0000�\r\b\u0000�\r\b\u0000�\r\b\u0000�\r\b\u0000�\r\b\u0000�\r\b\u0000�\r\b\u0000�\r\b\u0000�\r\b\u0000�\r\b\u0000�\r\b\u0000�\r\b\u0000�\r\b\u0000�\r\b\u0000�\r\b\u0000�\r\b\u0000�\r\b\u0000�\r\b\u0000�\r\b\u0000�\r\b\u0000�\r\b\u0000�\r\b\u0000�\r\b\u0000�\r\b\u0000�\r\b\u0000�\r\b\u0000�\r\b\u0000�\r\b\u0000�\r\b\u0000�\r\b\u0000�\r\b\u001e�1\u0000\u0001\u001a\u00012\u0000\u0002\r\b\u0000\u0003\r\b\u0000\u0004\r\b\u0000\u0005\r\b\u0000\u0006\r\b\u0000\u0007\r\b\u0000\b\r\b\u0000\t\r\b\u0000\n",
            "\r\b\u0000\u000b\r\b\u0000\r\r\b\u0000\u000e\r\b\u0000\u0010\r\b\u0000\u0011\r\b\u0000\u0012\r\b\u0000\u0014\r\b\u0000\u0016\r\b\u0000\u0017\r\b\u0000\u0018\r\b\u0000\u0019\r\b\u0000\u001a\r\b\u0000\u001b\r\b\u0000\u001c\r\b\u0000\u001d\r\b\u0000\u001e\r\b\u0000\u001f\r\b\u0000\"\r\b\u0000#\r\b\u0000$\r\b\u0000%\r\b\u0000&\r\b\u0000'\r\b\u0000(\r\b\u0000+\r\b\u0000,\r\b\u0000-\r\b\u0000.\r\b\u00000\r\b\u00002\r\b\u00003\r\b\u00004\r\b\u00005\r\b\u00006\r\b\u00007\r\b\u00008\r\b\u00009\r\b\u0000:\r\b\u0000;\r\b\u0000<\r\b\u0000=\r\b\u0000>\r\b\u0000?\r\b\u0000@\r\b\u0000A\r\b\u0000B\r\b\u0000C\r\b\u0000D\r\b\u0000E\r\b\u0000F\r\b\u0000G\r\b\u0000H\r\b\u0000I\r\b\u0000J\r\b\u0000K\r\b\u0000L\r\b\u0000M\r\b\u0000N\r\b\u0000O\r\b\u0000P\r\b\u0000Q\r\b\u0000T\r\b\u0000U\r\b\u0000V\r\b\u0000W\r\b\u0000X\r\b\u0000Z\r\b\u0000\\\r\b\u0000^\r\b\u0000_\r\b\u0000`\r\b\u0000a\r\b\u0000b\r\b\u0000d\r\b\u0000e\r\b\u0000f\r\b\u0000g\r\b\u0000h\r\b\u0000i\r\b\u0000j\r\b\u0000k\r\b\u0000l\r\b\u0000n\r\b\u0000o\r\b\u0000p\r\b\u0000q\r\b\u0000r\r\b\u0000s\r\b\u0000t\r\b\u0000u\r\b\u0000v\r\b\u0000w\r\b\u0000x\r\b\u0000y\r\b\u0000z\r\b\u0000{\r\b\u0000|\r\b\u0000~\r\b\u0000\r\b\u0000�\r\b\u0000�\r\b\u0000�\r\b\u0000�\r\b\u0000�\r\b\u0000�\r\b\u0000�\r\b\u0000�\r\b\u0000�\r\b\u0000�\r\b\u0000�\r\b\u0000�\r\b\u0000�\r\b\u0000�\r\b\u0000�\r\b\u0000�\r\b\u0000�\r\b\u0000�\r\b\u0000�\r\b\u0000�\r\b\u0000�\r\b\u0000�\r\b\u0000�\r\b\u0000�\r\b\u0000�\r\b\u0000�\r\b\u0000�\r\b\u0000�\r\b\u0000�\r\b\u0000�\r\b\u0000�\r\b\u0000�\r\b\u0000�\r\b\u0000�\r\b\u0000�\r\b\u0000�\r\b\u0000�\r\b\u0000�\r\b\u0000�\r\b\u0000�\r\b\u0000�\r\b\u0000�\r\b\u0000�\r\b\u0000�\r\b\u0000�\r\b\u0000�\r\b\u0000�\r\b\u0000�\r\b\u0000�\r\b\u0000�\r\b\u0000�\r\b\u0000�\r\b\u0000�\r\b\u0000�\r\b\u0000�\r\b\u0000�\r\b\u0000�\r\b\u0000�\r\b\u0000�\r\b\u0000�\r\b\u0000�\r\b\u0000�\r\b\u0000�\r\b\u0000�\r\b\u0000�\r\b\u0000�\r\b\u0000�\r\b\u0000�\r\b\u0000�\r\b\u0000�\r\b\u0000�\r\b\u0000�\r\b\u0000�\r\b\u0000�\r\b\u0000�\r\b\u0000�\r\b\u0000�\r\b\u0000�\r\b\u0000�\r\b\u0000�\r\b\u0000�\r\b\u0000�\r\b\u0000�\r\b\u0000�\r\b\u0000�\r\b\u0000�\r\b\u0000�\r\b\u0000�\r\b\u0000�\r\b\u0000�\r\b\u0000�\r\b\u0000�\r\b\u0000�\r\b\u0000�\r\b\u0000�\r\b\u0000�\r\b\u0000�\r\b\u0000�\r\b\u0000�\r\b\u0000�\r\b\u0000�\r\b\u0000�\r\b\u0000�\r\b\u0000�\r\b\u0000�\r\b\u0000�\r\b\u0000�\r\b\u0000�\r\b\u0000�\r\b\u0000�\r\b\u0000�\r\b\u0000�\r\b\u0000�\r\b\u001e�8\u0000\u0001\u001a�8\u0000\u0002\r\b\u0000\u0003\r\b\u0000\u0006\r\b\u0000\u0007\r\b\u0000\b\r\b\u0000\t\r\b\u0000\n",
            "\r\b\u0000\u000b\r\b\u0000\f\r\b\u0000\r\r\b\u0000\u000e\r\b\u0000\u000f\r\b\u0000\u0010\r\b\u0000\u0011\r\b\u0000\u0013\r\b\u0000\u0014\r\b\u0000\u0015\r\b\u0000\u0016\r\b\u0000\u0017\r\b\u0000\u0018\r\b\u0000\u0019\r\b\u0000\u001a\r\b\u0000\u001b\r\b\u0000\u001c\r\b\u0000\u001d\r\b\u0000\u001e\r\b\u0000\u001f\r\b\u0000 \r\b\u0000!\r\b\u0000\"\r\b\u0000#\r\b\u0000$\r\b\u0000%\r\b\u0000&\r\b\u0000'\r\b\u0000(\r\b\u0000)\r\b\u0000*\r\b\u0000+\r\b\u0000,\r\b\u0000-\r\b\u0000.\r\b\u0000/\r\b\u00000\r\b\u00001\r\b\u00002\r\b\u00003\r\b\u00007\r\b\u00008\r\b\u00009\r\b\u0000:\r\b\u0000<\r\b\u0000=\r\b\u0000?\r\b\u0000@\r\b\u0000A\r\b\u0000B\r\b\u0000C\r\b\u0000E\r\b\u0000F\r\b\u0000G\r\b\u0000H\r\b\u0000J\r\b\u0000K\r\b\u0000L\r\b\u0000M\r\b\u0000N\r\b\u0000P\r\b\u0000Q\r\b\u0000R\r\b\u0000S\r\b\u0000U\r\b\u0000W\r\b\u0000X\r\b\u0000Y\r\b\u0000Z\r\b\u0000\\\r\b\u0000]\r\b\u0000^\r\b\u0000_\r\b\u0000`\r\b\u0000a\r\b\u0000b\r\b\u0000c\r\b\u0000d\r\b\u0000e\r\b\u0000f\r\b\u0000g\r\b\u0000h\r\b\u0000i\r\b\u0000k\r\b\u0000m\r\b\u0000n\r\b\u0000o\r\b\u0000p\r\b\u0000q\r\b\u0000s\r\b\u0000t\r\b\u0000u\r\b\u0000v\r\b\u0000x\r\b\u0000y\r\b\u0000z\r\b\u0000{\r\b\u0000|\r\b\u0000}\r\b\u0000\r\b\u0000�\r\b\u0000�\r\b\u0000�\r\b\u0000�\r\b\u0000�\r\b\u0000�\r\b\u0000�\r\b\u0000�\r\b\u0000�\r\b\u0000�\r\b\u0000�\r\b\u0000�\r\b\u0000�\r\b\u0000�\r\b\u0000�\r\b\u0000�\r\b\u0000�\r\b\u0000�\r\b\u0000�\r\b\u0000�\r\b\u0000�\r\b\u0000�\r\b\u0000�\r\b\u0000�\r\b\u0000�\r\b\u0000�\r\b\u0000�\r\b\u0000�\r\b\u0000�\r\b\u0000�\r\b\u0000�\r\b\u0000�\r\b\u0000�\r\b\u0000�\r\b\u0000�\r\b\u0000�\r\b\u0000�\r\b\u0000�\r\b\u0000�\r\b\u0000�\r\b\u0000�\r\b\u0000�\r\b\u0000�\r\b\u0000�\r\b\u0000�\r\b\u0000�\r\b\u0000�\r\b\u0000�\r\b\u0000�\r\b\u0000�\r\b\u0000�\r\b\u0000�\r\b\u0000�\r\b\u0000�\r\b\u0000�\r\b\u0000�\r\b\u0000�\r\b\u0000�\r\b\u0000�\r\b\u0000�\r\b\u0000�\r\b\u0000�\r\b\u0000�\r\b\u0000�\r\b\u0000�\r\b\u0000�\r\b\u0000�\r\b\u0000�\r\b\u0000�\r\b\u0000�\r\b\u0000�\r\b\u0000�\r\b\u0000�\r\b\u0000�\r\b\u0000�\r\b\u0000�\r\b\u0000�\r\b\u0000�\r\b\u0000�\r\b\u0000�\r\b\u0000�\r\b\u0000�\r\b\u0000�\r\b\u0000�\r\b\u0000�\r\b\u0000�\r\b\u0000�\r\b\u0000�\r\b\u0000�\r\b\u0000�\r\b\u0000�\r\b\u0000�\r\b\u0000�\r\b\u0000�\r\b\u0000�\r\b\u0000�\r\b\u0000�\r\b\u0000�\r\b\u0000�\r\b\u0000�\r\b\u0000�\r\b\u0000�\r\b\u0000�\r\b\u0000�\r\b\u0000�\r\b\u0000�\r\b\u0000�\r\b\u0000�\r\b\u0000�\r\b\u0000�\r\b\u0000�\r\b\u0000�\r\b\u0000�\r\b\u0000�\r\b\u0000�\r\b\u0000�\r\b\u001e�?\u0000\u0001\u001a�?\u0000\u0002\r\b\u0000\u0003\r\b\u0000\u0004\r\b\u0000\u0005\r\b\u0000\u0006\r\b\u0000\u0007\r\b\u0000\b\r\b\u0000\t\r\b\u0000\n",
            "\r\b\u0000\u000b\r\b\u0000\f\r\b\u0000\u000e\r\b\u0000\u0010\r\b\u0000\u0011\r\b\u0000\u0012\r\b\u0000\u0013\r\b\u0000\u0014\r\b\u0000\u0015\r\b\u0000\u0016\r\b\u0000\u0017\r\b\u0000\u0018\r\b\u0000\u0019\r\b\u0000\u001a\r\b\u0000\u001b\r\b\u0000\u001c\r\b\u0000\u001d\r\b\u0000\u001e\r\b\u0000\u001f\r\b\u0000 \r\b\u0000!\r\b\u0000\"\r\b\u0000#\r\b\u0000$\r\b\u0000%\r\b\u0000&\r\b\u0000'\r\b\u0000(\r\b\u0000)\r\b\u0000*\r\b\u0000+\r\b\u0000,\r\b\u0000-\r\b\u0000.\r\b\u0000/\r\b\u00000\r\b\u00001\r\b\u00002\r\b\u00003\r\b\u00004\r\b\u00005\r\b\u00006\r\b\u00007\r\b\u00008\r\b\u00009\r\b\u0000:\r\b\u0000;\r\b\u0000<\r\b\u0000=\r\b\u0000>\r\b\u0000?\r\b\u0000@\r\b\u0000A\r\b\u0000B\r\b\u0000C\r\b\u0000D\r\b\u0000E\r\b\u0000G\r\b\u0000H\r\b\u0000I\r\b\u0000J\r\b\u0000K\r\b\u0000L\r\b\u0000M\r\b\u0000N\r\b\u0000O\r\b\u0000P\r\b\u0000Q\r\b\u0000R\r\b\u0000S\r\b\u0000T\r\b\u0000W\r\b\u0000X\r\b\u0000Y\r\b\u0000Z\r\b\u0000[\r\b\u0000\\\r\b\u0000^\r\b\u0000_\r\b\u0000`\r\b\u0000a\r\b\u0000b\r\b\u0000c\r\b\u0000d\r\b\u0000f\r\b\u0000g\r\b\u0000h\r\b\u0000i\r\b\u0000j\r\b\u0000k\r\b\u0000l\r\b\u0000m\r\b\u0000n\r\b\u0000o\r\b\u0000p\r\b\u0000q\r\b\u0000r\r\b\u0000u\r\b\u0000v\r\b\u0000y\r\b\u0000{\r\b\u0000}\r\b\u0000~\r\b\u0000\r\b\u0000�\r\b\u0000�\r\b\u0000�\r\b\u0000�\r\b\u0000�\r\b\u0000�\r\b\u0000�\r\b\u0000�\r\b\u0000�\r\b\u0000�\r\b\u0000�\r\b\u0000�\r\b\u0000�\r\b\u0000�\r\b\u0000�\r\b\u0000�\r\b\u0000�\r\b\u0000�\r\b\u0000�\r\b\u0000�\r\b\u0000�\r\b\u0000�\r\b\u0000�\r\b\u0000�\r\b\u0000�\r\b\u0000�\r\b\u0000�\r\b\u0000�\r\b\u0000�\r\b\u0000�\r\b\u0000�\r\b\u0000�\r\b\u0000�\r\b\u0000�\r\b\u0000�\r\b\u0000�\r\b\u0000�\r\b\u0000�\r\b\u0000�\r\b\u0000�\r\b\u0000�\r\b\u0000�\r\b\u0000�\r\b\u0000�\r\b\u0000�\r\b\u0000�\r\b\u0000�\r\b\u0000�\r\b\u0000�\r\b\u0000�\r\b\u0000�\r\b\u0000�\r\b\u0000�\r\b\u0000�\r\b\u0000�\r\b\u0000�\r\b\u0000�\r\b\u0000�\r\b\u0000�\r\b\u0000�\r\b\u0000�\r\b\u0000�\r\b\u0000�\r\b\u0000�\r\b\u0000�\r\b\u0000�\r\b\u0000�\r\b\u0000�\r\b\u0000�\r\b\u0000�\r\b\u0000�\r\b\u0000�\r\b\u0000�\r\b\u0000�\r\b\u0000�\r\b\u0000�\r\b\u0000�\r\b\u0000�\r\b\u0000�\r\b\u0000�\r\b\u0000�\r\b\u0000�\r\b\u0000�\r\b\u0000�\r\b\u0000�\r\b\u0000�\r\b\u0000�\r\b\u0000�\r\b\u0000�\r\b\u0000�\r\b\u0000�\r\b\u0000�\r\b\u0000�\r\b\u0000�\r\b\u0000�\r\b\u0000�\r\b\u0000�\r\b\u0000�\r\b\u0000�\r\b\u0000�\r\b\u0000�\r\b\u0000�\r\b\u0000�\r\b\u0000�\r\b\u0000�\r\b\u0000�\r\b\u0000�\r\b\u0000�\r\b\u0000�\r\b\u0000�\r\b\u0000�\r\b\u0000�\r\b\u0000�\r\b\u0000�\r\b\u0000�\r\b\u0000�\r\b\u0000�\r\b\u0000�\r\b\u0000�\r\b\u0000\u0000\u001a1G\u0000\u0001\r\b\u0000\u0002\r\b\u0000\u0003\r\b\u0000\u0004\r\b\u0000\u0005\r\b\u0000\u0006\r\b\u0000\u0007\r\b\u0000\t\r\b\u0000\n"
          ]
        }
      ],
      "source": [
        "!head Posts.parquet"
      ]
    },
    {
      "cell_type": "code",
      "execution_count": 33,
      "metadata": {
        "id": "oiqjLW4lCCss",
        "outputId": "5db5e659-aae2-4a84-ed5e-55390369c5bb",
        "colab": {
          "base_uri": "https://localhost:8080/"
        }
      },
      "outputs": [
        {
          "output_type": "stream",
          "name": "stdout",
          "text": [
            "Tiempo de lectura Parquet: 12.877671241760254 segundos\n"
          ]
        }
      ],
      "source": [
        "start_time: float = time.time()\n",
        "df_parquet: pd.DataFrame = pd.read_parquet('Posts.parquet')\n",
        "print(\"Tiempo de lectura Parquet: %s segundos\" % (time.time() - start_time))"
      ]
    },
    {
      "cell_type": "markdown",
      "metadata": {
        "id": "-MpQOlKACCss"
      },
      "source": [
        "Téngase en cuenta que el Parquet guarda la información de tipos de datos, por lo que no es necesario especificarlos."
      ]
    },
    {
      "cell_type": "code",
      "execution_count": 34,
      "metadata": {
        "collapsed": true,
        "id": "TRMHWeUWCCss",
        "outputId": "5cdafea3-5353-43f2-95a0-c48c3f8768e0",
        "colab": {
          "base_uri": "https://localhost:8080/",
          "height": 774
        }
      },
      "outputs": [
        {
          "output_type": "execute_result",
          "data": {
            "text/plain": [
              "Id                         int64\n",
              "Score                      int64\n",
              "ClosedDate                object\n",
              "AcceptedAnswerId         float64\n",
              "Title                     object\n",
              "ContentLicense            object\n",
              "PostTypeId                 int64\n",
              "LastActivityDate          object\n",
              "LastEditDate              object\n",
              "AnswerCount              float64\n",
              "CommentCount               int64\n",
              "LastEditorUserId         float64\n",
              "CommunityOwnedDate        object\n",
              "Tags                      object\n",
              "LastEditorDisplayName     object\n",
              "FavoriteCount            float64\n",
              "ParentId                 float64\n",
              "OwnerDisplayName          object\n",
              "Body                      object\n",
              "CreationDate              object\n",
              "ViewCount                float64\n",
              "OwnerUserId              float64\n",
              "dtype: object"
            ],
            "text/html": [
              "<div>\n",
              "<style scoped>\n",
              "    .dataframe tbody tr th:only-of-type {\n",
              "        vertical-align: middle;\n",
              "    }\n",
              "\n",
              "    .dataframe tbody tr th {\n",
              "        vertical-align: top;\n",
              "    }\n",
              "\n",
              "    .dataframe thead th {\n",
              "        text-align: right;\n",
              "    }\n",
              "</style>\n",
              "<table border=\"1\" class=\"dataframe\">\n",
              "  <thead>\n",
              "    <tr style=\"text-align: right;\">\n",
              "      <th></th>\n",
              "      <th>0</th>\n",
              "    </tr>\n",
              "  </thead>\n",
              "  <tbody>\n",
              "    <tr>\n",
              "      <th>Id</th>\n",
              "      <td>int64</td>\n",
              "    </tr>\n",
              "    <tr>\n",
              "      <th>Score</th>\n",
              "      <td>int64</td>\n",
              "    </tr>\n",
              "    <tr>\n",
              "      <th>ClosedDate</th>\n",
              "      <td>object</td>\n",
              "    </tr>\n",
              "    <tr>\n",
              "      <th>AcceptedAnswerId</th>\n",
              "      <td>float64</td>\n",
              "    </tr>\n",
              "    <tr>\n",
              "      <th>Title</th>\n",
              "      <td>object</td>\n",
              "    </tr>\n",
              "    <tr>\n",
              "      <th>ContentLicense</th>\n",
              "      <td>object</td>\n",
              "    </tr>\n",
              "    <tr>\n",
              "      <th>PostTypeId</th>\n",
              "      <td>int64</td>\n",
              "    </tr>\n",
              "    <tr>\n",
              "      <th>LastActivityDate</th>\n",
              "      <td>object</td>\n",
              "    </tr>\n",
              "    <tr>\n",
              "      <th>LastEditDate</th>\n",
              "      <td>object</td>\n",
              "    </tr>\n",
              "    <tr>\n",
              "      <th>AnswerCount</th>\n",
              "      <td>float64</td>\n",
              "    </tr>\n",
              "    <tr>\n",
              "      <th>CommentCount</th>\n",
              "      <td>int64</td>\n",
              "    </tr>\n",
              "    <tr>\n",
              "      <th>LastEditorUserId</th>\n",
              "      <td>float64</td>\n",
              "    </tr>\n",
              "    <tr>\n",
              "      <th>CommunityOwnedDate</th>\n",
              "      <td>object</td>\n",
              "    </tr>\n",
              "    <tr>\n",
              "      <th>Tags</th>\n",
              "      <td>object</td>\n",
              "    </tr>\n",
              "    <tr>\n",
              "      <th>LastEditorDisplayName</th>\n",
              "      <td>object</td>\n",
              "    </tr>\n",
              "    <tr>\n",
              "      <th>FavoriteCount</th>\n",
              "      <td>float64</td>\n",
              "    </tr>\n",
              "    <tr>\n",
              "      <th>ParentId</th>\n",
              "      <td>float64</td>\n",
              "    </tr>\n",
              "    <tr>\n",
              "      <th>OwnerDisplayName</th>\n",
              "      <td>object</td>\n",
              "    </tr>\n",
              "    <tr>\n",
              "      <th>Body</th>\n",
              "      <td>object</td>\n",
              "    </tr>\n",
              "    <tr>\n",
              "      <th>CreationDate</th>\n",
              "      <td>object</td>\n",
              "    </tr>\n",
              "    <tr>\n",
              "      <th>ViewCount</th>\n",
              "      <td>float64</td>\n",
              "    </tr>\n",
              "    <tr>\n",
              "      <th>OwnerUserId</th>\n",
              "      <td>float64</td>\n",
              "    </tr>\n",
              "  </tbody>\n",
              "</table>\n",
              "</div><br><label><b>dtype:</b> object</label>"
            ]
          },
          "metadata": {},
          "execution_count": 34
        }
      ],
      "source": [
        "df_parquet.dtypes"
      ]
    },
    {
      "cell_type": "code",
      "execution_count": 35,
      "metadata": {
        "id": "gUem0AMACCss",
        "outputId": "56d16d98-b7bb-4fda-bcc5-730d7e3a5b02",
        "colab": {
          "base_uri": "https://localhost:8080/",
          "height": 602
        }
      },
      "outputs": [
        {
          "output_type": "execute_result",
          "data": {
            "text/plain": [
              "   Id  Score ClosedDate  AcceptedAnswerId  \\\n",
              "0   1     40       None               2.0   \n",
              "1   2     31       None               NaN   \n",
              "2   3     20       None               9.0   \n",
              "3   4      6       None               NaN   \n",
              "4   5     37       None             208.0   \n",
              "\n",
              "                                               Title ContentLicense  \\\n",
              "0  La creación manual de un alias de ruta con un ...   CC BY-SA 4.0   \n",
              "1                                               None   CC BY-SA 3.0   \n",
              "2  ¿Es igual utilizar .AsString que .Text para ob...   CC BY-SA 3.0   \n",
              "3                                               None   CC BY-SA 3.0   \n",
              "4  ¿Cómo separar las palabras que contiene un str...   CC BY-SA 3.0   \n",
              "\n",
              "   PostTypeId         LastActivityDate             LastEditDate  AnswerCount  \\\n",
              "0           1  2021-03-12T17:49:40.687  2019-07-07T21:36:17.737          1.0   \n",
              "1           2  2015-10-29T19:14:23.673                     None          NaN   \n",
              "2           1  2015-12-18T20:19:25.133  2015-12-03T16:24:56.370          3.0   \n",
              "3           2  2015-12-14T00:58:15.613  2015-12-14T00:58:15.613          NaN   \n",
              "4           1  2020-06-30T02:23:26.197  2016-09-27T17:46:24.900          7.0   \n",
              "\n",
              "   ...  CommunityOwnedDate                                               Tags  \\\n",
              "0  ...                None  &lt;.net&gt;&lt;asp.net-web-api&gt;&lt;asp.net...   \n",
              "1  ...                None                                               None   \n",
              "2  ...                None                                     &lt;delphi&gt;   \n",
              "3  ...                None                                               None   \n",
              "4  ...                None                          &lt;c++&gt;&lt;string&gt;   \n",
              "\n",
              "  LastEditorDisplayName FavoriteCount ParentId  OwnerDisplayName  \\\n",
              "0             user13558           NaN      NaN              None   \n",
              "1                  None           NaN      1.0              None   \n",
              "2                  None           NaN      NaN              None   \n",
              "3                  None           NaN      3.0              None   \n",
              "4                  None           NaN      NaN              None   \n",
              "\n",
              "                                                Body             CreationDate  \\\n",
              "0  &lt;p&gt;Estoy creando un servicio usando &lt;...  2015-10-29T15:56:52.933   \n",
              "1  &lt;p&gt;He encontrado la solución.&lt;/p&gt;&...  2015-10-29T19:14:23.673   \n",
              "2  &lt;p&gt;Luego de ver cierto código, me he dad...  2015-10-29T23:54:31.947   \n",
              "3  &lt;p&gt;&lt;code&gt;.AsString&lt;/code&gt; de...  2015-10-30T00:45:47.640   \n",
              "4  &lt;p&gt;¿Cuál es la forma más eficiente de se...  2015-10-30T01:15:27.267   \n",
              "\n",
              "  ViewCount OwnerUserId  \n",
              "0     780.0        23.0  \n",
              "1       NaN        23.0  \n",
              "2    1035.0        21.0  \n",
              "3       NaN        24.0  \n",
              "4   37867.0        24.0  \n",
              "\n",
              "[5 rows x 22 columns]"
            ],
            "text/html": [
              "\n",
              "  <div id=\"df-0189be28-3ccf-4394-9a12-3f7e7d01f769\" class=\"colab-df-container\">\n",
              "    <div>\n",
              "<style scoped>\n",
              "    .dataframe tbody tr th:only-of-type {\n",
              "        vertical-align: middle;\n",
              "    }\n",
              "\n",
              "    .dataframe tbody tr th {\n",
              "        vertical-align: top;\n",
              "    }\n",
              "\n",
              "    .dataframe thead th {\n",
              "        text-align: right;\n",
              "    }\n",
              "</style>\n",
              "<table border=\"1\" class=\"dataframe\">\n",
              "  <thead>\n",
              "    <tr style=\"text-align: right;\">\n",
              "      <th></th>\n",
              "      <th>Id</th>\n",
              "      <th>Score</th>\n",
              "      <th>ClosedDate</th>\n",
              "      <th>AcceptedAnswerId</th>\n",
              "      <th>Title</th>\n",
              "      <th>ContentLicense</th>\n",
              "      <th>PostTypeId</th>\n",
              "      <th>LastActivityDate</th>\n",
              "      <th>LastEditDate</th>\n",
              "      <th>AnswerCount</th>\n",
              "      <th>...</th>\n",
              "      <th>CommunityOwnedDate</th>\n",
              "      <th>Tags</th>\n",
              "      <th>LastEditorDisplayName</th>\n",
              "      <th>FavoriteCount</th>\n",
              "      <th>ParentId</th>\n",
              "      <th>OwnerDisplayName</th>\n",
              "      <th>Body</th>\n",
              "      <th>CreationDate</th>\n",
              "      <th>ViewCount</th>\n",
              "      <th>OwnerUserId</th>\n",
              "    </tr>\n",
              "  </thead>\n",
              "  <tbody>\n",
              "    <tr>\n",
              "      <th>0</th>\n",
              "      <td>1</td>\n",
              "      <td>40</td>\n",
              "      <td>None</td>\n",
              "      <td>2.0</td>\n",
              "      <td>La creación manual de un alias de ruta con un ...</td>\n",
              "      <td>CC BY-SA 4.0</td>\n",
              "      <td>1</td>\n",
              "      <td>2021-03-12T17:49:40.687</td>\n",
              "      <td>2019-07-07T21:36:17.737</td>\n",
              "      <td>1.0</td>\n",
              "      <td>...</td>\n",
              "      <td>None</td>\n",
              "      <td>&amp;lt;.net&amp;gt;&amp;lt;asp.net-web-api&amp;gt;&amp;lt;asp.net...</td>\n",
              "      <td>user13558</td>\n",
              "      <td>NaN</td>\n",
              "      <td>NaN</td>\n",
              "      <td>None</td>\n",
              "      <td>&amp;lt;p&amp;gt;Estoy creando un servicio usando &amp;lt;...</td>\n",
              "      <td>2015-10-29T15:56:52.933</td>\n",
              "      <td>780.0</td>\n",
              "      <td>23.0</td>\n",
              "    </tr>\n",
              "    <tr>\n",
              "      <th>1</th>\n",
              "      <td>2</td>\n",
              "      <td>31</td>\n",
              "      <td>None</td>\n",
              "      <td>NaN</td>\n",
              "      <td>None</td>\n",
              "      <td>CC BY-SA 3.0</td>\n",
              "      <td>2</td>\n",
              "      <td>2015-10-29T19:14:23.673</td>\n",
              "      <td>None</td>\n",
              "      <td>NaN</td>\n",
              "      <td>...</td>\n",
              "      <td>None</td>\n",
              "      <td>None</td>\n",
              "      <td>None</td>\n",
              "      <td>NaN</td>\n",
              "      <td>1.0</td>\n",
              "      <td>None</td>\n",
              "      <td>&amp;lt;p&amp;gt;He encontrado la solución.&amp;lt;/p&amp;gt;&amp;...</td>\n",
              "      <td>2015-10-29T19:14:23.673</td>\n",
              "      <td>NaN</td>\n",
              "      <td>23.0</td>\n",
              "    </tr>\n",
              "    <tr>\n",
              "      <th>2</th>\n",
              "      <td>3</td>\n",
              "      <td>20</td>\n",
              "      <td>None</td>\n",
              "      <td>9.0</td>\n",
              "      <td>¿Es igual utilizar .AsString que .Text para ob...</td>\n",
              "      <td>CC BY-SA 3.0</td>\n",
              "      <td>1</td>\n",
              "      <td>2015-12-18T20:19:25.133</td>\n",
              "      <td>2015-12-03T16:24:56.370</td>\n",
              "      <td>3.0</td>\n",
              "      <td>...</td>\n",
              "      <td>None</td>\n",
              "      <td>&amp;lt;delphi&amp;gt;</td>\n",
              "      <td>None</td>\n",
              "      <td>NaN</td>\n",
              "      <td>NaN</td>\n",
              "      <td>None</td>\n",
              "      <td>&amp;lt;p&amp;gt;Luego de ver cierto código, me he dad...</td>\n",
              "      <td>2015-10-29T23:54:31.947</td>\n",
              "      <td>1035.0</td>\n",
              "      <td>21.0</td>\n",
              "    </tr>\n",
              "    <tr>\n",
              "      <th>3</th>\n",
              "      <td>4</td>\n",
              "      <td>6</td>\n",
              "      <td>None</td>\n",
              "      <td>NaN</td>\n",
              "      <td>None</td>\n",
              "      <td>CC BY-SA 3.0</td>\n",
              "      <td>2</td>\n",
              "      <td>2015-12-14T00:58:15.613</td>\n",
              "      <td>2015-12-14T00:58:15.613</td>\n",
              "      <td>NaN</td>\n",
              "      <td>...</td>\n",
              "      <td>None</td>\n",
              "      <td>None</td>\n",
              "      <td>None</td>\n",
              "      <td>NaN</td>\n",
              "      <td>3.0</td>\n",
              "      <td>None</td>\n",
              "      <td>&amp;lt;p&amp;gt;&amp;lt;code&amp;gt;.AsString&amp;lt;/code&amp;gt; de...</td>\n",
              "      <td>2015-10-30T00:45:47.640</td>\n",
              "      <td>NaN</td>\n",
              "      <td>24.0</td>\n",
              "    </tr>\n",
              "    <tr>\n",
              "      <th>4</th>\n",
              "      <td>5</td>\n",
              "      <td>37</td>\n",
              "      <td>None</td>\n",
              "      <td>208.0</td>\n",
              "      <td>¿Cómo separar las palabras que contiene un str...</td>\n",
              "      <td>CC BY-SA 3.0</td>\n",
              "      <td>1</td>\n",
              "      <td>2020-06-30T02:23:26.197</td>\n",
              "      <td>2016-09-27T17:46:24.900</td>\n",
              "      <td>7.0</td>\n",
              "      <td>...</td>\n",
              "      <td>None</td>\n",
              "      <td>&amp;lt;c++&amp;gt;&amp;lt;string&amp;gt;</td>\n",
              "      <td>None</td>\n",
              "      <td>NaN</td>\n",
              "      <td>NaN</td>\n",
              "      <td>None</td>\n",
              "      <td>&amp;lt;p&amp;gt;¿Cuál es la forma más eficiente de se...</td>\n",
              "      <td>2015-10-30T01:15:27.267</td>\n",
              "      <td>37867.0</td>\n",
              "      <td>24.0</td>\n",
              "    </tr>\n",
              "  </tbody>\n",
              "</table>\n",
              "<p>5 rows × 22 columns</p>\n",
              "</div>\n",
              "    <div class=\"colab-df-buttons\">\n",
              "\n",
              "  <div class=\"colab-df-container\">\n",
              "    <button class=\"colab-df-convert\" onclick=\"convertToInteractive('df-0189be28-3ccf-4394-9a12-3f7e7d01f769')\"\n",
              "            title=\"Convert this dataframe to an interactive table.\"\n",
              "            style=\"display:none;\">\n",
              "\n",
              "  <svg xmlns=\"http://www.w3.org/2000/svg\" height=\"24px\" viewBox=\"0 -960 960 960\">\n",
              "    <path d=\"M120-120v-720h720v720H120Zm60-500h600v-160H180v160Zm220 220h160v-160H400v160Zm0 220h160v-160H400v160ZM180-400h160v-160H180v160Zm440 0h160v-160H620v160ZM180-180h160v-160H180v160Zm440 0h160v-160H620v160Z\"/>\n",
              "  </svg>\n",
              "    </button>\n",
              "\n",
              "  <style>\n",
              "    .colab-df-container {\n",
              "      display:flex;\n",
              "      gap: 12px;\n",
              "    }\n",
              "\n",
              "    .colab-df-convert {\n",
              "      background-color: #E8F0FE;\n",
              "      border: none;\n",
              "      border-radius: 50%;\n",
              "      cursor: pointer;\n",
              "      display: none;\n",
              "      fill: #1967D2;\n",
              "      height: 32px;\n",
              "      padding: 0 0 0 0;\n",
              "      width: 32px;\n",
              "    }\n",
              "\n",
              "    .colab-df-convert:hover {\n",
              "      background-color: #E2EBFA;\n",
              "      box-shadow: 0px 1px 2px rgba(60, 64, 67, 0.3), 0px 1px 3px 1px rgba(60, 64, 67, 0.15);\n",
              "      fill: #174EA6;\n",
              "    }\n",
              "\n",
              "    .colab-df-buttons div {\n",
              "      margin-bottom: 4px;\n",
              "    }\n",
              "\n",
              "    [theme=dark] .colab-df-convert {\n",
              "      background-color: #3B4455;\n",
              "      fill: #D2E3FC;\n",
              "    }\n",
              "\n",
              "    [theme=dark] .colab-df-convert:hover {\n",
              "      background-color: #434B5C;\n",
              "      box-shadow: 0px 1px 3px 1px rgba(0, 0, 0, 0.15);\n",
              "      filter: drop-shadow(0px 1px 2px rgba(0, 0, 0, 0.3));\n",
              "      fill: #FFFFFF;\n",
              "    }\n",
              "  </style>\n",
              "\n",
              "    <script>\n",
              "      const buttonEl =\n",
              "        document.querySelector('#df-0189be28-3ccf-4394-9a12-3f7e7d01f769 button.colab-df-convert');\n",
              "      buttonEl.style.display =\n",
              "        google.colab.kernel.accessAllowed ? 'block' : 'none';\n",
              "\n",
              "      async function convertToInteractive(key) {\n",
              "        const element = document.querySelector('#df-0189be28-3ccf-4394-9a12-3f7e7d01f769');\n",
              "        const dataTable =\n",
              "          await google.colab.kernel.invokeFunction('convertToInteractive',\n",
              "                                                    [key], {});\n",
              "        if (!dataTable) return;\n",
              "\n",
              "        const docLinkHtml = 'Like what you see? Visit the ' +\n",
              "          '<a target=\"_blank\" href=https://colab.research.google.com/notebooks/data_table.ipynb>data table notebook</a>'\n",
              "          + ' to learn more about interactive tables.';\n",
              "        element.innerHTML = '';\n",
              "        dataTable['output_type'] = 'display_data';\n",
              "        await google.colab.output.renderOutput(dataTable, element);\n",
              "        const docLink = document.createElement('div');\n",
              "        docLink.innerHTML = docLinkHtml;\n",
              "        element.appendChild(docLink);\n",
              "      }\n",
              "    </script>\n",
              "  </div>\n",
              "\n",
              "\n",
              "<div id=\"df-fb8e1add-f01d-4c65-bdb4-fa9e4e0f6d9e\">\n",
              "  <button class=\"colab-df-quickchart\" onclick=\"quickchart('df-fb8e1add-f01d-4c65-bdb4-fa9e4e0f6d9e')\"\n",
              "            title=\"Suggest charts\"\n",
              "            style=\"display:none;\">\n",
              "\n",
              "<svg xmlns=\"http://www.w3.org/2000/svg\" height=\"24px\"viewBox=\"0 0 24 24\"\n",
              "     width=\"24px\">\n",
              "    <g>\n",
              "        <path d=\"M19 3H5c-1.1 0-2 .9-2 2v14c0 1.1.9 2 2 2h14c1.1 0 2-.9 2-2V5c0-1.1-.9-2-2-2zM9 17H7v-7h2v7zm4 0h-2V7h2v10zm4 0h-2v-4h2v4z\"/>\n",
              "    </g>\n",
              "</svg>\n",
              "  </button>\n",
              "\n",
              "<style>\n",
              "  .colab-df-quickchart {\n",
              "      --bg-color: #E8F0FE;\n",
              "      --fill-color: #1967D2;\n",
              "      --hover-bg-color: #E2EBFA;\n",
              "      --hover-fill-color: #174EA6;\n",
              "      --disabled-fill-color: #AAA;\n",
              "      --disabled-bg-color: #DDD;\n",
              "  }\n",
              "\n",
              "  [theme=dark] .colab-df-quickchart {\n",
              "      --bg-color: #3B4455;\n",
              "      --fill-color: #D2E3FC;\n",
              "      --hover-bg-color: #434B5C;\n",
              "      --hover-fill-color: #FFFFFF;\n",
              "      --disabled-bg-color: #3B4455;\n",
              "      --disabled-fill-color: #666;\n",
              "  }\n",
              "\n",
              "  .colab-df-quickchart {\n",
              "    background-color: var(--bg-color);\n",
              "    border: none;\n",
              "    border-radius: 50%;\n",
              "    cursor: pointer;\n",
              "    display: none;\n",
              "    fill: var(--fill-color);\n",
              "    height: 32px;\n",
              "    padding: 0;\n",
              "    width: 32px;\n",
              "  }\n",
              "\n",
              "  .colab-df-quickchart:hover {\n",
              "    background-color: var(--hover-bg-color);\n",
              "    box-shadow: 0 1px 2px rgba(60, 64, 67, 0.3), 0 1px 3px 1px rgba(60, 64, 67, 0.15);\n",
              "    fill: var(--button-hover-fill-color);\n",
              "  }\n",
              "\n",
              "  .colab-df-quickchart-complete:disabled,\n",
              "  .colab-df-quickchart-complete:disabled:hover {\n",
              "    background-color: var(--disabled-bg-color);\n",
              "    fill: var(--disabled-fill-color);\n",
              "    box-shadow: none;\n",
              "  }\n",
              "\n",
              "  .colab-df-spinner {\n",
              "    border: 2px solid var(--fill-color);\n",
              "    border-color: transparent;\n",
              "    border-bottom-color: var(--fill-color);\n",
              "    animation:\n",
              "      spin 1s steps(1) infinite;\n",
              "  }\n",
              "\n",
              "  @keyframes spin {\n",
              "    0% {\n",
              "      border-color: transparent;\n",
              "      border-bottom-color: var(--fill-color);\n",
              "      border-left-color: var(--fill-color);\n",
              "    }\n",
              "    20% {\n",
              "      border-color: transparent;\n",
              "      border-left-color: var(--fill-color);\n",
              "      border-top-color: var(--fill-color);\n",
              "    }\n",
              "    30% {\n",
              "      border-color: transparent;\n",
              "      border-left-color: var(--fill-color);\n",
              "      border-top-color: var(--fill-color);\n",
              "      border-right-color: var(--fill-color);\n",
              "    }\n",
              "    40% {\n",
              "      border-color: transparent;\n",
              "      border-right-color: var(--fill-color);\n",
              "      border-top-color: var(--fill-color);\n",
              "    }\n",
              "    60% {\n",
              "      border-color: transparent;\n",
              "      border-right-color: var(--fill-color);\n",
              "    }\n",
              "    80% {\n",
              "      border-color: transparent;\n",
              "      border-right-color: var(--fill-color);\n",
              "      border-bottom-color: var(--fill-color);\n",
              "    }\n",
              "    90% {\n",
              "      border-color: transparent;\n",
              "      border-bottom-color: var(--fill-color);\n",
              "    }\n",
              "  }\n",
              "</style>\n",
              "\n",
              "  <script>\n",
              "    async function quickchart(key) {\n",
              "      const quickchartButtonEl =\n",
              "        document.querySelector('#' + key + ' button');\n",
              "      quickchartButtonEl.disabled = true;  // To prevent multiple clicks.\n",
              "      quickchartButtonEl.classList.add('colab-df-spinner');\n",
              "      try {\n",
              "        const charts = await google.colab.kernel.invokeFunction(\n",
              "            'suggestCharts', [key], {});\n",
              "      } catch (error) {\n",
              "        console.error('Error during call to suggestCharts:', error);\n",
              "      }\n",
              "      quickchartButtonEl.classList.remove('colab-df-spinner');\n",
              "      quickchartButtonEl.classList.add('colab-df-quickchart-complete');\n",
              "    }\n",
              "    (() => {\n",
              "      let quickchartButtonEl =\n",
              "        document.querySelector('#df-fb8e1add-f01d-4c65-bdb4-fa9e4e0f6d9e button');\n",
              "      quickchartButtonEl.style.display =\n",
              "        google.colab.kernel.accessAllowed ? 'block' : 'none';\n",
              "    })();\n",
              "  </script>\n",
              "</div>\n",
              "\n",
              "    </div>\n",
              "  </div>\n"
            ],
            "application/vnd.google.colaboratory.intrinsic+json": {
              "type": "dataframe",
              "variable_name": "df_parquet"
            }
          },
          "metadata": {},
          "execution_count": 35
        }
      ],
      "source": [
        "df_parquet.head()"
      ]
    },
    {
      "cell_type": "code",
      "execution_count": 36,
      "metadata": {
        "id": "raLg75S3N1zL",
        "outputId": "864e48c8-86c6-4aa1-e480-f889f2bc0b03",
        "colab": {
          "base_uri": "https://localhost:8080/"
        }
      },
      "outputs": [
        {
          "output_type": "stream",
          "name": "stdout",
          "text": [
            "Tamaño del archivo CSV: 2045314556 bytes\n"
          ]
        }
      ],
      "source": [
        "print(\"Tamaño del archivo CSV:\", df_csv.memory_usage(deep=True).sum(), \"bytes\")"
      ]
    },
    {
      "cell_type": "code",
      "execution_count": 37,
      "metadata": {
        "id": "RUZAEADON7M_",
        "outputId": "0c5c7b09-84d1-4588-f7f3-2d2c38e83936",
        "colab": {
          "base_uri": "https://localhost:8080/"
        }
      },
      "outputs": [
        {
          "output_type": "stream",
          "name": "stdout",
          "text": [
            "Tamaño del archivo Parquet: 1206837975 bytes\n"
          ]
        }
      ],
      "source": [
        "print(\"Tamaño del archivo Parquet:\", df_parquet.memory_usage(deep=True).sum(), \"bytes\")"
      ]
    },
    {
      "cell_type": "markdown",
      "metadata": {
        "id": "ALSkhgNFOwvg"
      },
      "source": [
        "Una de las ventajas del formato Parquet es que puedes leer solo las columnas que necesitas, lo cual es útil para trabajar con grandes conjuntos de datos."
      ]
    },
    {
      "cell_type": "code",
      "execution_count": 38,
      "metadata": {
        "id": "ORPtWfcAOzQH",
        "outputId": "6d56d3a2-cc39-437a-c1c8-98ed3d1a1843",
        "colab": {
          "base_uri": "https://localhost:8080/"
        }
      },
      "outputs": [
        {
          "output_type": "stream",
          "name": "stdout",
          "text": [
            "   PostTypeId             CreationDate\n",
            "0           1  2015-10-29T15:56:52.933\n",
            "1           2  2015-10-29T19:14:23.673\n",
            "2           1  2015-10-29T23:54:31.947\n",
            "3           2  2015-10-30T00:45:47.640\n",
            "4           1  2015-10-30T01:15:27.267\n"
          ]
        }
      ],
      "source": [
        "df_parquet_subset: pd.DataFrame = pd.read_parquet('Posts.parquet', columns=['PostTypeId', 'CreationDate'])\n",
        "print(df_parquet_subset.head())"
      ]
    },
    {
      "cell_type": "markdown",
      "metadata": {
        "id": "5Wcgi2uVPSiO"
      },
      "source": [
        "Se pueden dividir los datos en varios archivos Parquet (por ejemplo, particionados por el tipo de licencia, score, etc.) y luego cargar esos archivos de manera eficiente."
      ]
    },
    {
      "cell_type": "code",
      "execution_count": 39,
      "metadata": {
        "id": "f5XJ31IkPmJB"
      },
      "outputs": [],
      "source": [
        "df_parquet.to_parquet('Posts_partitioned/', partition_cols=['ContentLicense'])"
      ]
    },
    {
      "cell_type": "code",
      "execution_count": 40,
      "metadata": {
        "id": "nWTCAuL5P-T9",
        "outputId": "72a38116-46b1-445e-feac-8ee8f9ff7bfe",
        "colab": {
          "base_uri": "https://localhost:8080/"
        }
      },
      "outputs": [
        {
          "output_type": "stream",
          "name": "stdout",
          "text": [
            "Posts_partitioned:\n",
            "'ContentLicense=CC%20BY-SA%203.0'  'ContentLicense=CC%20BY-SA%204.0'\n",
            "\n",
            "'Posts_partitioned/ContentLicense=CC%20BY-SA%203.0':\n",
            "9f8989d9df48469592aa3cf815248a7a-0.parquet\n",
            "\n",
            "'Posts_partitioned/ContentLicense=CC%20BY-SA%204.0':\n",
            "9f8989d9df48469592aa3cf815248a7a-0.parquet\n"
          ]
        }
      ],
      "source": [
        "!ls -R Posts_partitioned"
      ]
    },
    {
      "cell_type": "code",
      "execution_count": 41,
      "metadata": {
        "id": "HG40BsQGP-q6",
        "outputId": "f5d67e36-dee5-4cf4-bd73-d241bc3feb50",
        "colab": {
          "base_uri": "https://localhost:8080/"
        }
      },
      "outputs": [
        {
          "output_type": "stream",
          "name": "stdout",
          "text": [
            "\u001b[01;34mPosts_partitioned\u001b[0m\n",
            "├── \u001b[01;34mContentLicense=CC%20BY-SA%203.0\u001b[0m\n",
            "│   └── \u001b[00m9f8989d9df48469592aa3cf815248a7a-0.parquet\u001b[0m\n",
            "└── \u001b[01;34mContentLicense=CC%20BY-SA%204.0\u001b[0m\n",
            "    └── \u001b[00m9f8989d9df48469592aa3cf815248a7a-0.parquet\u001b[0m\n",
            "\n",
            "2 directories, 2 files\n"
          ]
        }
      ],
      "source": [
        "!tree \"Posts_partitioned\""
      ]
    }
  ],
  "metadata": {
    "colab": {
      "provenance": []
    },
    "kernelspec": {
      "display_name": ".venv",
      "language": "python",
      "name": "python3"
    },
    "language_info": {
      "codemirror_mode": {
        "name": "ipython",
        "version": 3
      },
      "file_extension": ".py",
      "mimetype": "text/x-python",
      "name": "python",
      "nbconvert_exporter": "python",
      "pygments_lexer": "ipython3",
      "version": "3.12.7"
    }
  },
  "nbformat": 4,
  "nbformat_minor": 0
}